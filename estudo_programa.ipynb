{
  "nbformat": 4,
  "nbformat_minor": 0,
  "metadata": {
    "kernelspec": {
      "display_name": "Python 3",
      "language": "python",
      "name": "python3"
    },
    "language_info": {
      "codemirror_mode": {
        "name": "ipython",
        "version": 3
      },
      "file_extension": ".py",
      "mimetype": "text/x-python",
      "name": "python",
      "nbconvert_exporter": "python",
      "pygments_lexer": "ipython3",
      "version": "3.7.4"
    },
    "colab": {
      "name": "regreção.ipynb",
      "provenance": [],
      "include_colab_link": true
    }
  },
  "cells": [
    {
      "cell_type": "markdown",
      "metadata": {
        "id": "view-in-github",
        "colab_type": "text"
      },
      "source": [
        "<a href=\"https://colab.research.google.com/github/Antonioarf/blox/blob/master/regre%C3%A7%C3%A3o.ipynb\" target=\"_parent\"><img src=\"https://colab.research.google.com/assets/colab-badge.svg\" alt=\"Open In Colab\"/></a>"
      ]
    },
    {
      "cell_type": "code",
      "metadata": {
        "id": "iB-0hkpF2zXY",
        "colab_type": "code",
        "outputId": "b1c9222f-5d54-4a44-94da-f34f9e30d2fc",
        "colab": {
          "base_uri": "https://localhost:8080/",
          "height": 34
        }
      },
      "source": [
        "# encoding: utf-8\n",
        "# encoding: iso-8859-1\n",
        "# encoding: win-1252\n",
        "import pandas as pd;\n",
        "import numpy as np\n",
        "import matplotlib.pyplot as plt\n",
        "from sklearn.model_selection import train_test_split\n",
        "from sklearn.utils import shuffle\n",
        "\n",
        "!pip install stop_words\n",
        "from stop_words import get_stop_words\n",
        "from sklearn.metrics import accuracy_score\n",
        "from scipy.stats import expon, binom, t, norm, probplot, scoreatpercentile, percentileofscore\n",
        "import seaborn as sns # evite fazer pairplot! Estoura a memória\n",
        "import statsmodels.api as sm \n",
        "from sklearn.naive_bayes import MultinomialNB\n",
        "from sklearn.pipeline import Pipeline\n",
        "from sklearn.feature_extraction.text import TfidfTransformer\n",
        "from sklearn.feature_extraction.text import CountVectorizer\n",
        "from sklearn.feature_extraction.text import TfidfVectorizer\n",
        "from sklearn import svm\n",
        "# %matplotlib inline\n",
        "# df1.to_excel(r'C:\\Users\\Antonio Fonseca\\Desktop\\BLOX\\ementas.xlsx')\n",
        "# n esquecer do tensorflow\n",
        "import nltk\n",
        "from nltk.corpus import stopwords\n",
        "\n",
        "\n",
        "from nltk.tokenize import word_tokenize\n",
        "from nltk import pos_tag\n",
        "from nltk.corpus import stopwords\n",
        "from nltk.stem import WordNetLemmatizer\n",
        "from sklearn.preprocessing import LabelEncoder\n",
        "from collections import defaultdict\n",
        "from nltk.corpus import wordnet as wn\n",
        "from sklearn.feature_extraction.text import TfidfVectorizer\n",
        "from sklearn import model_selection, naive_bayes, svm\n",
        "from sklearn.metrics import accuracy_score"
      ],
      "execution_count": 1,
      "outputs": [
        {
          "output_type": "stream",
          "text": [
            "Requirement already satisfied: stop_words in /usr/local/lib/python3.6/dist-packages (2018.7.23)\n"
          ],
          "name": "stdout"
        }
      ]
    },
    {
      "cell_type": "code",
      "metadata": {
        "id": "LAWog7zv2zXe",
        "colab_type": "code",
        "outputId": "be264723-d486-4ce4-90d2-ff35f94f5ee5",
        "colab": {
          "base_uri": "https://localhost:8080/",
          "height": 195
        }
      },
      "source": [
        "# treino = pd.read_csv('treino.csv')\n",
        "url = 'https://github.com/Antonioarf/blox/blob/master/excel/atual.xlsx?raw=true'\n",
        "df1 = pd.read_excel(url)\n",
        "# df1 = df1.loc[:, ~df1.columns.str.contains('^Unnamed')]\n",
        "treino = df1\n",
        "treino = treino[treino[\"ÁREA DO CONHECIMENTO\"] != \"programas genericos\"]\n",
        "treino = treino[treino[\"ÁREA DO CONHECIMENTO\"] != \"Programas Interdisciplinares\"]\n",
        "treino.shape\n",
        "treino.head()"
      ],
      "execution_count": 2,
      "outputs": [
        {
          "output_type": "execute_result",
          "data": {
            "text/html": [
              "<div>\n",
              "<style scoped>\n",
              "    .dataframe tbody tr th:only-of-type {\n",
              "        vertical-align: middle;\n",
              "    }\n",
              "\n",
              "    .dataframe tbody tr th {\n",
              "        vertical-align: top;\n",
              "    }\n",
              "\n",
              "    .dataframe thead th {\n",
              "        text-align: right;\n",
              "    }\n",
              "</style>\n",
              "<table border=\"1\" class=\"dataframe\">\n",
              "  <thead>\n",
              "    <tr style=\"text-align: right;\">\n",
              "      <th></th>\n",
              "      <th>materias</th>\n",
              "      <th>ÁREA DO CONHECIMENTO</th>\n",
              "    </tr>\n",
              "  </thead>\n",
              "  <tbody>\n",
              "    <tr>\n",
              "      <th>252</th>\n",
              "      <td>A Escola no Mundo Contemporâneo</td>\n",
              "      <td>Educação</td>\n",
              "    </tr>\n",
              "    <tr>\n",
              "      <th>253</th>\n",
              "      <td>A Escrita no Ensino Fundamental: das Letras ao...</td>\n",
              "      <td>Educação</td>\n",
              "    </tr>\n",
              "    <tr>\n",
              "      <th>254</th>\n",
              "      <td>A Filosofia Educacional de John Dewey</td>\n",
              "      <td>Educação</td>\n",
              "    </tr>\n",
              "    <tr>\n",
              "      <th>255</th>\n",
              "      <td>A Matemática na Educação Básica</td>\n",
              "      <td>Educação</td>\n",
              "    </tr>\n",
              "    <tr>\n",
              "      <th>256</th>\n",
              "      <td>Ação Pedagógica Integrada: Educação Infantil I</td>\n",
              "      <td>Educação</td>\n",
              "    </tr>\n",
              "  </tbody>\n",
              "</table>\n",
              "</div>"
            ],
            "text/plain": [
              "                                              materias ÁREA DO CONHECIMENTO\n",
              "252                    A Escola no Mundo Contemporâneo             Educação\n",
              "253  A Escrita no Ensino Fundamental: das Letras ao...             Educação\n",
              "254              A Filosofia Educacional de John Dewey             Educação\n",
              "255                    A Matemática na Educação Básica             Educação\n",
              "256     Ação Pedagógica Integrada: Educação Infantil I             Educação"
            ]
          },
          "metadata": {
            "tags": []
          },
          "execution_count": 2
        }
      ]
    },
    {
      "cell_type": "code",
      "metadata": {
        "id": "qgg3O2fi2zXk",
        "colab_type": "code",
        "outputId": "84ee7e49-76b1-428a-9076-d5aac78fd8ae",
        "colab": {
          "base_uri": "https://localhost:8080/",
          "height": 34
        }
      },
      "source": [
        "def deletar_caracteres(coluna):\n",
        " j = 1\n",
        " for e in coluna.value_counts(sort=True).tolist():\n",
        "    coluna = coluna.replace(e,str(j))\n",
        "    j+=1\n",
        " coluna = coluna.replace(\"Humanidades, Artes e Linguagens\",\"Humanidades e Linguagens\").replace(\"Matemática, Computação e Tecnologias de Informação e Comunicacão\",\"Matemática e Computação\").replace(\"Ciências Sociais e Negócios\",\"Ciências Sociais, Jornalismo e Informação\").replace(\"Psicologia e Desenvolvimento Pessoal\",\"Psicologia e Desenvolvimento\").replace(\"Administração e Negócios\",\"Negócios e Administração\")\n",
        " return coluna\n",
        "treino =  treino.dropna()\n",
        "treino.shape"
      ],
      "execution_count": 3,
      "outputs": [
        {
          "output_type": "execute_result",
          "data": {
            "text/plain": [
              "(5108, 2)"
            ]
          },
          "metadata": {
            "tags": []
          },
          "execution_count": 3
        }
      ]
    },
    {
      "cell_type": "code",
      "metadata": {
        "id": "bD6FmkTC2zXs",
        "colab_type": "code",
        "outputId": "56b2d06f-98b6-4311-a451-76d595b97164",
        "colab": {
          "base_uri": "https://localhost:8080/",
          "height": 235
        }
      },
      "source": [
        "y = deletar_caracteres(treino[\"ÁREA DO CONHECIMENTO\"])\n",
        "y.value_counts()"
      ],
      "execution_count": 4,
      "outputs": [
        {
          "output_type": "execute_result",
          "data": {
            "text/plain": [
              "Saúde e Bem-Estar Social                     778\n",
              "Engenharia, Produção e Construção            767\n",
              "Ciências Naturais                            610\n",
              "Ciências Sociais, Jornalismo e Informação    545\n",
              "Negócios e Administração                     453\n",
              "Humanidades e Linguagens                     394\n",
              "Matemática e Computação                      388\n",
              "Direito                                      333\n",
              "Educação                                     260\n",
              "Agricultura e Veterinária                    246\n",
              "Psicologia e Desenvolvimento                 191\n",
              "Serviços                                     143\n",
              "Name: ÁREA DO CONHECIMENTO, dtype: int64"
            ]
          },
          "metadata": {
            "tags": []
          },
          "execution_count": 4
        }
      ]
    },
    {
      "cell_type": "code",
      "metadata": {
        "id": "MQpt_DrE2zXz",
        "colab_type": "code",
        "colab": {}
      },
      "source": [
        "\n",
        "#treino = treino.drop([\"ÁREA DO CONHECIMENTO_x\", \"Unnamed: 0\",'p_r'], axis=1)\n",
        "# y = y.to_numpy()"
      ],
      "execution_count": 0,
      "outputs": []
    },
    {
      "cell_type": "code",
      "metadata": {
        "id": "nIbaOcBg2zX6",
        "colab_type": "code",
        "outputId": "bbadbf7c-62a4-4128-bbe4-d34ba4bb4737",
        "colab": {
          "base_uri": "https://localhost:8080/",
          "height": 218
        }
      },
      "source": [
        "# z= treino[['obj','programa']]\n",
        "# treino[\"tudo\"] = treino[\"obj\"] + treino[\"programa\"]\n",
        "x = treino[\"materias\"]\n",
        "# x= treino['programa']\n",
        "# treino = treino.to_numpy()\n",
        "y"
      ],
      "execution_count": 6,
      "outputs": [
        {
          "output_type": "execute_result",
          "data": {
            "text/plain": [
              "252                                      Educação\n",
              "253                                      Educação\n",
              "254                                      Educação\n",
              "255                                      Educação\n",
              "256                                      Educação\n",
              "                          ...                    \n",
              "5356                     Negócios e Administração\n",
              "5357    Ciências Sociais, Jornalismo e Informação\n",
              "5358                     Negócios e Administração\n",
              "5359                     Negócios e Administração\n",
              "5360                                     Educação\n",
              "Name: ÁREA DO CONHECIMENTO, Length: 5108, dtype: object"
            ]
          },
          "metadata": {
            "tags": []
          },
          "execution_count": 6
        }
      ]
    },
    {
      "cell_type": "code",
      "metadata": {
        "id": "y8liTvhL2zX_",
        "colab_type": "code",
        "colab": {}
      },
      "source": [
        "X_train, X_test, y_train, y_test = train_test_split(x,y, test_size=0.3,random_state=100)"
      ],
      "execution_count": 0,
      "outputs": []
    },
    {
      "cell_type": "code",
      "metadata": {
        "id": "PTQCT8332zYD",
        "colab_type": "code",
        "colab": {}
      },
      "source": [
        "# obj_train = X_train[\"obj\"]\n",
        "# prog_train = X_train[\"programa\"]"
      ],
      "execution_count": 0,
      "outputs": []
    },
    {
      "cell_type": "code",
      "metadata": {
        "id": "7dlw1ULN-cZR",
        "colab_type": "code",
        "colab": {}
      },
      "source": [
        "my_tags = ['1','2','3','4','5','6','7','8','9','10','11','12']\n",
        "lista =y.value_counts(sort=True).tolist()\n",
        "# my_tags = list(range(1,len(lista)+1))\n",
        "# my_tags = lista"
      ],
      "execution_count": 0,
      "outputs": []
    },
    {
      "cell_type": "code",
      "metadata": {
        "id": "jLpfKLwljeTu",
        "colab_type": "code",
        "colab": {}
      },
      "source": [
        "url = 'https://github.com/Antonioarf/blox/blob/master/excel/atual.xlsx?raw=true'\n",
        "teste = pd.read_excel(url)"
      ],
      "execution_count": 0,
      "outputs": []
    },
    {
      "cell_type": "code",
      "metadata": {
        "id": "FcSwQxGFpOYo",
        "colab_type": "code",
        "colab": {}
      },
      "source": [
        "stop = get_stop_words('pt')"
      ],
      "execution_count": 0,
      "outputs": []
    },
    {
      "cell_type": "code",
      "metadata": {
        "colab_type": "code",
        "outputId": "f76e1248-f9db-44a8-a0fa-921d3debc49f",
        "id": "u2upzSGSzbIP",
        "colab": {
          "base_uri": "https://localhost:8080/",
          "height": 353
        }
      },
      "source": [
        "nb = Pipeline([('vect', TfidfVectorizer()),\n",
        "               ('tfidf', TfidfTransformer()),\n",
        "               ('clf', MultinomialNB()),\n",
        "              ])\n",
        "nb.fit(X_train, y_train)\n",
        "\n",
        "\n",
        "from sklearn.metrics import classification_report\n",
        "y_pred = nb.predict(X_test)\n",
        "\n",
        "print('accuracy %s' % accuracy_score(y_pred, y_test))\n",
        "print(classification_report(y_test, y_pred,target_names=my_tags))"
      ],
      "execution_count": 12,
      "outputs": [
        {
          "output_type": "stream",
          "text": [
            "accuracy 0.6386170906718852\n",
            "              precision    recall  f1-score   support\n",
            "\n",
            "           1       0.90      0.13      0.23        68\n",
            "           2       0.68      0.65      0.66       173\n",
            "           3       0.67      0.85      0.75       171\n",
            "           4       0.97      0.63      0.77       109\n",
            "           5       0.93      0.39      0.55        71\n",
            "           6       0.44      0.83      0.57       212\n",
            "           7       0.84      0.62      0.71       119\n",
            "           8       0.84      0.52      0.64       126\n",
            "           9       0.74      0.62      0.68       144\n",
            "          10       1.00      0.17      0.29        60\n",
            "          11       0.59      0.85      0.70       235\n",
            "          12       1.00      0.02      0.04        45\n",
            "\n",
            "    accuracy                           0.64      1533\n",
            "   macro avg       0.80      0.52      0.55      1533\n",
            "weighted avg       0.73      0.64      0.62      1533\n",
            "\n"
          ],
          "name": "stdout"
        }
      ]
    },
    {
      "cell_type": "code",
      "metadata": {
        "id": "hZ4Wky1i2zYp",
        "colab_type": "code",
        "outputId": "20c02643-2bb5-4954-a906-c7390809285f",
        "colab": {
          "base_uri": "https://localhost:8080/",
          "height": 353
        }
      },
      "source": [
        "from sklearn.ensemble import RandomForestClassifier \n",
        "rf = Pipeline([('vect', CountVectorizer(stop_words= stop)),\n",
        "               ('tfidf', TfidfTransformer()),\n",
        "               ('clf', RandomForestClassifier()),\n",
        "              ])\n",
        "rf.fit(X_train, y_train)\n",
        "\n",
        "\n",
        "from sklearn.metrics import classification_report\n",
        "y_pred = nb.predict(X_test)\n",
        "\n",
        "print('accuracy %s' % accuracy_score(y_pred, y_test))\n",
        "print(classification_report(y_test, y_pred,target_names=my_tags))"
      ],
      "execution_count": 13,
      "outputs": [
        {
          "output_type": "stream",
          "text": [
            "accuracy 0.6386170906718852\n",
            "              precision    recall  f1-score   support\n",
            "\n",
            "           1       0.90      0.13      0.23        68\n",
            "           2       0.68      0.65      0.66       173\n",
            "           3       0.67      0.85      0.75       171\n",
            "           4       0.97      0.63      0.77       109\n",
            "           5       0.93      0.39      0.55        71\n",
            "           6       0.44      0.83      0.57       212\n",
            "           7       0.84      0.62      0.71       119\n",
            "           8       0.84      0.52      0.64       126\n",
            "           9       0.74      0.62      0.68       144\n",
            "          10       1.00      0.17      0.29        60\n",
            "          11       0.59      0.85      0.70       235\n",
            "          12       1.00      0.02      0.04        45\n",
            "\n",
            "    accuracy                           0.64      1533\n",
            "   macro avg       0.80      0.52      0.55      1533\n",
            "weighted avg       0.73      0.64      0.62      1533\n",
            "\n"
          ],
          "name": "stdout"
        }
      ]
    },
    {
      "cell_type": "code",
      "metadata": {
        "id": "UZQLek2IhaCM",
        "colab_type": "code",
        "outputId": "b581eb4a-90b4-418a-e43e-e6c026d9b1a4",
        "colab": {
          "base_uri": "https://localhost:8080/",
          "height": 386
        }
      },
      "source": [
        "from sklearn.linear_model import Perceptron\n",
        "\n",
        "logreg = Pipeline([('vect', CountVectorizer(stop_words= stop)),\n",
        "                ('tfidf', TfidfTransformer()),\n",
        "                ('clf', Perceptron()),\n",
        "               ])\n",
        "logreg.fit(X_train, y_train)\n",
        "\n",
        "%time\n",
        "\n",
        "y_pred = logreg.predict(X_test)\n",
        "\n",
        "print('accuracy %s' % accuracy_score(y_pred, y_test))\n",
        "print(classification_report(y_test, y_pred))"
      ],
      "execution_count": 14,
      "outputs": [
        {
          "output_type": "stream",
          "text": [
            "CPU times: user 4 µs, sys: 0 ns, total: 4 µs\n",
            "Wall time: 6.68 µs\n",
            "accuracy 0.7123287671232876\n",
            "                                           precision    recall  f1-score   support\n",
            "\n",
            "                Agricultura e Veterinária       0.40      0.63      0.49        68\n",
            "                        Ciências Naturais       0.68      0.71      0.69       173\n",
            "Ciências Sociais, Jornalismo e Informação       0.70      0.78      0.73       171\n",
            "                                  Direito       0.85      0.81      0.83       109\n",
            "                                 Educação       0.76      0.73      0.75        71\n",
            "        Engenharia, Produção e Construção       0.76      0.63      0.69       212\n",
            "                 Humanidades e Linguagens       0.76      0.76      0.76       119\n",
            "                  Matemática e Computação       0.62      0.75      0.68       126\n",
            "                 Negócios e Administração       0.77      0.65      0.70       144\n",
            "             Psicologia e Desenvolvimento       0.75      0.70      0.72        60\n",
            "                 Saúde e Bem-Estar Social       0.81      0.74      0.78       235\n",
            "                                 Serviços       0.57      0.60      0.59        45\n",
            "\n",
            "                                 accuracy                           0.71      1533\n",
            "                                macro avg       0.70      0.71      0.70      1533\n",
            "                             weighted avg       0.73      0.71      0.72      1533\n",
            "\n"
          ],
          "name": "stdout"
        }
      ]
    },
    {
      "cell_type": "code",
      "metadata": {
        "id": "nVcbl8pC2zYM",
        "colab_type": "code",
        "outputId": "a388435e-f3c2-4cc4-d767-aea03da585a7",
        "colab": {
          "base_uri": "https://localhost:8080/",
          "height": 386
        }
      },
      "source": [
        "from sklearn.linear_model import SGDClassifier\n",
        "\n",
        "sgd = Pipeline([('vect', CountVectorizer(stop_words= stop)),\n",
        "                ('tfidf', TfidfTransformer()),\n",
        "                ('clf', SGDClassifier(loss='hinge', penalty='l2',alpha=1e-3, random_state=42, max_iter=5, tol=None)),\n",
        "               ])\n",
        "sgd.fit(X_train, y_train)\n",
        "\n",
        "%time\n",
        "\n",
        "y_pred = sgd.predict(X_test)\n",
        "\n",
        "print('accuracy %s' % accuracy_score(y_pred, y_test))\n",
        "print(classification_report(y_test, y_pred,target_names=my_tags))"
      ],
      "execution_count": 15,
      "outputs": [
        {
          "output_type": "stream",
          "text": [
            "CPU times: user 2 µs, sys: 0 ns, total: 2 µs\n",
            "Wall time: 4.29 µs\n",
            "accuracy 0.7377690802348337\n",
            "              precision    recall  f1-score   support\n",
            "\n",
            "           1       0.72      0.53      0.61        68\n",
            "           2       0.73      0.67      0.70       173\n",
            "           3       0.76      0.82      0.79       171\n",
            "           4       0.88      0.83      0.86       109\n",
            "           5       0.65      0.72      0.68        71\n",
            "           6       0.67      0.75      0.70       212\n",
            "           7       0.77      0.72      0.74       119\n",
            "           8       0.74      0.72      0.73       126\n",
            "           9       0.74      0.75      0.75       144\n",
            "          10       0.85      0.65      0.74        60\n",
            "          11       0.72      0.83      0.77       235\n",
            "          12       0.75      0.47      0.58        45\n",
            "\n",
            "    accuracy                           0.74      1533\n",
            "   macro avg       0.75      0.70      0.72      1533\n",
            "weighted avg       0.74      0.74      0.74      1533\n",
            "\n"
          ],
          "name": "stdout"
        }
      ]
    },
    {
      "cell_type": "code",
      "metadata": {
        "id": "aK2SwSoM2zYQ",
        "colab_type": "code",
        "outputId": "b5b96d07-969f-47ae-8a5d-b49843bf4433",
        "colab": {
          "base_uri": "https://localhost:8080/",
          "height": 521
        }
      },
      "source": [
        "from sklearn.linear_model import LogisticRegression\n",
        "\n",
        "logreg = Pipeline([('vect', TfidfVectorizer(stop_words= stop)),\n",
        "                ('tfidf', TfidfTransformer()),\n",
        "                ('clf', LogisticRegression(n_jobs=1, C=1e5)),\n",
        "               ])\n",
        "logreg.fit(X_train, y_train)\n",
        "\n",
        "%time\n",
        "\n",
        "y_pred = logreg.predict(X_test)\n",
        "\n",
        "print('accuracy %s' % accuracy_score(y_pred, y_test))\n",
        "print(classification_report(y_test, y_pred))"
      ],
      "execution_count": 16,
      "outputs": [
        {
          "output_type": "stream",
          "text": [
            "CPU times: user 6 µs, sys: 1e+03 ns, total: 7 µs\n",
            "Wall time: 6.68 µs\n",
            "accuracy 0.7475538160469667\n",
            "                                           precision    recall  f1-score   support\n",
            "\n",
            "                Agricultura e Veterinária       0.69      0.65      0.67        68\n",
            "                        Ciências Naturais       0.65      0.77      0.70       173\n",
            "Ciências Sociais, Jornalismo e Informação       0.67      0.84      0.74       171\n",
            "                                  Direito       0.93      0.83      0.87       109\n",
            "                                 Educação       0.84      0.83      0.84        71\n",
            "        Engenharia, Produção e Construção       0.77      0.67      0.71       212\n",
            "                 Humanidades e Linguagens       0.78      0.76      0.77       119\n",
            "                  Matemática e Computação       0.70      0.76      0.73       126\n",
            "                 Negócios e Administração       0.74      0.67      0.70       144\n",
            "             Psicologia e Desenvolvimento       0.84      0.72      0.77        60\n",
            "                 Saúde e Bem-Estar Social       0.81      0.77      0.79       235\n",
            "                                 Serviços       0.69      0.64      0.67        45\n",
            "\n",
            "                                 accuracy                           0.75      1533\n",
            "                                macro avg       0.76      0.74      0.75      1533\n",
            "                             weighted avg       0.76      0.75      0.75      1533\n",
            "\n"
          ],
          "name": "stdout"
        },
        {
          "output_type": "stream",
          "text": [
            "/usr/local/lib/python3.6/dist-packages/sklearn/linear_model/_logistic.py:940: ConvergenceWarning: lbfgs failed to converge (status=1):\n",
            "STOP: TOTAL NO. of ITERATIONS REACHED LIMIT.\n",
            "\n",
            "Increase the number of iterations (max_iter) or scale the data as shown in:\n",
            "    https://scikit-learn.org/stable/modules/preprocessing.html\n",
            "Please also refer to the documentation for alternative solver options:\n",
            "    https://scikit-learn.org/stable/modules/linear_model.html#logistic-regression\n",
            "  extra_warning_msg=_LOGISTIC_SOLVER_CONVERGENCE_MSG)\n"
          ],
          "name": "stderr"
        }
      ]
    },
    {
      "cell_type": "code",
      "metadata": {
        "id": "vEEEIuxhhY1n",
        "colab_type": "code",
        "outputId": "5014200f-5e68-4c76-d148-68b461a0c559",
        "colab": {
          "base_uri": "https://localhost:8080/",
          "height": 386
        }
      },
      "source": [
        "from sklearn.linear_model import PassiveAggressiveClassifier\n",
        "\n",
        "logreg = Pipeline([('vect', TfidfVectorizer(stop_words= stop)),\n",
        "                ('tfidf', TfidfTransformer()),\n",
        "                ('clf', PassiveAggressiveClassifier()),\n",
        "               ])\n",
        "logreg.fit(X_train, y_train)\n",
        "\n",
        "%time\n",
        "\n",
        "y_pred = logreg.predict(X_test)\n",
        "\n",
        "print('accuracy %s' % accuracy_score(y_pred, y_test))\n",
        "print(classification_report(y_test, y_pred))"
      ],
      "execution_count": 17,
      "outputs": [
        {
          "output_type": "stream",
          "text": [
            "CPU times: user 2 µs, sys: 0 ns, total: 2 µs\n",
            "Wall time: 4.05 µs\n",
            "accuracy 0.7253750815394651\n",
            "                                           precision    recall  f1-score   support\n",
            "\n",
            "                Agricultura e Veterinária       0.46      0.65      0.54        68\n",
            "                        Ciências Naturais       0.73      0.69      0.71       173\n",
            "Ciências Sociais, Jornalismo e Informação       0.70      0.81      0.75       171\n",
            "                                  Direito       0.85      0.81      0.83       109\n",
            "                                 Educação       0.78      0.70      0.74        71\n",
            "        Engenharia, Produção e Construção       0.74      0.67      0.70       212\n",
            "                 Humanidades e Linguagens       0.75      0.76      0.76       119\n",
            "                  Matemática e Computação       0.67      0.74      0.70       126\n",
            "                 Negócios e Administração       0.69      0.67      0.68       144\n",
            "             Psicologia e Desenvolvimento       0.73      0.68      0.71        60\n",
            "                 Saúde e Bem-Estar Social       0.83      0.77      0.80       235\n",
            "                                 Serviços       0.64      0.64      0.64        45\n",
            "\n",
            "                                 accuracy                           0.73      1533\n",
            "                                macro avg       0.72      0.72      0.71      1533\n",
            "                             weighted avg       0.73      0.73      0.73      1533\n",
            "\n"
          ],
          "name": "stdout"
        }
      ]
    },
    {
      "cell_type": "code",
      "metadata": {
        "id": "C-yqA9-ehsWE",
        "colab_type": "code",
        "outputId": "6f9784bc-5424-4124-cd2b-f307a02ee3c4",
        "colab": {
          "base_uri": "https://localhost:8080/",
          "height": 386
        }
      },
      "source": [
        "from sklearn.linear_model import RidgeClassifierCV\n",
        "\n",
        "logreg = Pipeline([('vect', TfidfVectorizer(stop_words= stop)),\n",
        "                ('tfidf', TfidfTransformer()),\n",
        "                ('clf', RidgeClassifierCV()),\n",
        "               ])\n",
        "logreg.fit(X_train, y_train)\n",
        "\n",
        "%time\n",
        "\n",
        "y_pred = logreg.predict(X_test)\n",
        "\n",
        "print('accuracy %s' % accuracy_score(y_pred, y_test))\n",
        "print(classification_report(y_test, y_pred))"
      ],
      "execution_count": 18,
      "outputs": [
        {
          "output_type": "stream",
          "text": [
            "CPU times: user 6 µs, sys: 1 µs, total: 7 µs\n",
            "Wall time: 6.68 µs\n",
            "accuracy 0.7469015003261579\n",
            "                                           precision    recall  f1-score   support\n",
            "\n",
            "                Agricultura e Veterinária       0.72      0.60      0.66        68\n",
            "                        Ciências Naturais       0.74      0.71      0.72       173\n",
            "Ciências Sociais, Jornalismo e Informação       0.72      0.82      0.77       171\n",
            "                                  Direito       0.86      0.86      0.86       109\n",
            "                                 Educação       0.79      0.73      0.76        71\n",
            "        Engenharia, Produção e Construção       0.71      0.71      0.71       212\n",
            "                 Humanidades e Linguagens       0.74      0.73      0.74       119\n",
            "                  Matemática e Computação       0.72      0.75      0.73       126\n",
            "                 Negócios e Administração       0.80      0.72      0.75       144\n",
            "             Psicologia e Desenvolvimento       0.82      0.70      0.76        60\n",
            "                 Saúde e Bem-Estar Social       0.73      0.82      0.77       235\n",
            "                                 Serviços       0.68      0.60      0.64        45\n",
            "\n",
            "                                 accuracy                           0.75      1533\n",
            "                                macro avg       0.75      0.73      0.74      1533\n",
            "                             weighted avg       0.75      0.75      0.75      1533\n",
            "\n"
          ],
          "name": "stdout"
        }
      ]
    },
    {
      "cell_type": "code",
      "metadata": {
        "id": "E3vVg8yvh0zE",
        "colab_type": "code",
        "outputId": "a2a3933e-d7e8-4d89-9d0a-5152bf1d9449",
        "colab": {
          "base_uri": "https://localhost:8080/",
          "height": 386
        }
      },
      "source": [
        "from sklearn.tree import DecisionTreeClassifier\n",
        "\n",
        "dt = Pipeline([('vect', TfidfVectorizer(stop_words= stop)),\n",
        "                ('tfidf', TfidfTransformer()),\n",
        "                ('clf', RidgeClassifierCV()),\n",
        "               ])\n",
        "dt.fit(X_train, y_train)\n",
        "\n",
        "%time\n",
        "\n",
        "y_pred = logreg.predict(X_test)\n",
        "\n",
        "print('accuracy %s' % accuracy_score(y_pred, y_test))\n",
        "print(classification_report(y_test, y_pred))"
      ],
      "execution_count": 19,
      "outputs": [
        {
          "output_type": "stream",
          "text": [
            "CPU times: user 7 µs, sys: 1e+03 ns, total: 8 µs\n",
            "Wall time: 8.11 µs\n",
            "accuracy 0.7469015003261579\n",
            "                                           precision    recall  f1-score   support\n",
            "\n",
            "                Agricultura e Veterinária       0.72      0.60      0.66        68\n",
            "                        Ciências Naturais       0.74      0.71      0.72       173\n",
            "Ciências Sociais, Jornalismo e Informação       0.72      0.82      0.77       171\n",
            "                                  Direito       0.86      0.86      0.86       109\n",
            "                                 Educação       0.79      0.73      0.76        71\n",
            "        Engenharia, Produção e Construção       0.71      0.71      0.71       212\n",
            "                 Humanidades e Linguagens       0.74      0.73      0.74       119\n",
            "                  Matemática e Computação       0.72      0.75      0.73       126\n",
            "                 Negócios e Administração       0.80      0.72      0.75       144\n",
            "             Psicologia e Desenvolvimento       0.82      0.70      0.76        60\n",
            "                 Saúde e Bem-Estar Social       0.73      0.82      0.77       235\n",
            "                                 Serviços       0.68      0.60      0.64        45\n",
            "\n",
            "                                 accuracy                           0.75      1533\n",
            "                                macro avg       0.75      0.73      0.74      1533\n",
            "                             weighted avg       0.75      0.75      0.75      1533\n",
            "\n"
          ],
          "name": "stdout"
        }
      ]
    },
    {
      "cell_type": "code",
      "metadata": {
        "id": "NrjokcPQinJI",
        "colab_type": "code",
        "outputId": "b92cc341-200f-4621-8bd5-f8fc549b1488",
        "colab": {
          "base_uri": "https://localhost:8080/",
          "height": 386
        }
      },
      "source": [
        "from sklearn.svm import SVC\n",
        "from sklearn.feature_extraction import DictVectorizer\n",
        "svc = Pipeline([('vect', CountVectorizer(stop_words= stop)),\n",
        "                ('tfidf', TfidfTransformer()),\n",
        "                ('clf', SVC(kernel='linear')),\n",
        "               ])\n",
        "svc.fit(X_train, y_train)\n",
        "\n",
        "%time\n",
        "\n",
        "y_pred = logreg.predict(X_test)\n",
        "\n",
        "print('accuracy %s' % accuracy_score(y_pred, y_test))\n",
        "print(classification_report(y_test, y_pred))"
      ],
      "execution_count": 20,
      "outputs": [
        {
          "output_type": "stream",
          "text": [
            "CPU times: user 2 µs, sys: 0 ns, total: 2 µs\n",
            "Wall time: 4.77 µs\n",
            "accuracy 0.7469015003261579\n",
            "                                           precision    recall  f1-score   support\n",
            "\n",
            "                Agricultura e Veterinária       0.72      0.60      0.66        68\n",
            "                        Ciências Naturais       0.74      0.71      0.72       173\n",
            "Ciências Sociais, Jornalismo e Informação       0.72      0.82      0.77       171\n",
            "                                  Direito       0.86      0.86      0.86       109\n",
            "                                 Educação       0.79      0.73      0.76        71\n",
            "        Engenharia, Produção e Construção       0.71      0.71      0.71       212\n",
            "                 Humanidades e Linguagens       0.74      0.73      0.74       119\n",
            "                  Matemática e Computação       0.72      0.75      0.73       126\n",
            "                 Negócios e Administração       0.80      0.72      0.75       144\n",
            "             Psicologia e Desenvolvimento       0.82      0.70      0.76        60\n",
            "                 Saúde e Bem-Estar Social       0.73      0.82      0.77       235\n",
            "                                 Serviços       0.68      0.60      0.64        45\n",
            "\n",
            "                                 accuracy                           0.75      1533\n",
            "                                macro avg       0.75      0.73      0.74      1533\n",
            "                             weighted avg       0.75      0.75      0.75      1533\n",
            "\n"
          ],
          "name": "stdout"
        }
      ]
    },
    {
      "cell_type": "code",
      "metadata": {
        "id": "k3ADSvWxewmH",
        "colab_type": "code",
        "colab": {}
      },
      "source": [
        "# from sklearn.tree import DecisionTreeClassifier\n",
        "\n",
        "# dt = Pipeline([('vect', TfidfVectorizer(stop_words= stop)),\n",
        "#                 ('tfidf', TfidfTransformer()),\n",
        "#                 ('clf', RidgeClassifierCV()),\n",
        "#                ])\n",
        "# dt.fit(xx_train, yy_train)\n",
        "\n",
        "# %time\n",
        "\n",
        "# yy_pred = logreg.predict(xx_test)\n",
        "\n",
        "# print('accuracy %s' % accuracy_score(yy_pred, yy_test))\n",
        "# print(classification_report(yy_test, yy_pred))"
      ],
      "execution_count": 0,
      "outputs": []
    },
    {
      "cell_type": "code",
      "metadata": {
        "id": "ec9adHT0hS7w",
        "colab_type": "code",
        "colab": {}
      },
      "source": [
        ""
      ],
      "execution_count": 0,
      "outputs": []
    }
  ]
}