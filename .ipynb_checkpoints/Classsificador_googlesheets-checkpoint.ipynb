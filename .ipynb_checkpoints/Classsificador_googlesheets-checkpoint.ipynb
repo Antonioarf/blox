{
 "cells": [
  {
   "cell_type": "code",
   "execution_count": 8,
   "metadata": {},
   "outputs": [],
   "source": [
    "import pandas as pd;\n",
    "import numpy as np\n",
    "from stop_words import get_stop_words\n",
    "from sklearn.metrics import accuracy_score\n",
    "from sklearn.pipeline import Pipeline\n",
    "from sklearn.feature_extraction.text import TfidfTransformer\n",
    "from sklearn.feature_extraction.text import TfidfVectorizer"
   ]
  },
  {
   "cell_type": "code",
   "execution_count": 9,
   "metadata": {},
   "outputs": [],
   "source": [
    "import openpyxl\n",
    "from openpyxl import Workbook\n",
    "import xlsxwriter\n",
    "import gspread\n",
    "from oauth2client.service_account import ServiceAccountCredentials\n",
    "\n",
    "scope = ['https://spreadsheets.google.com/feeds', 'https://www.googleapis.com/auth/drive']\n",
    "creds = ServiceAccountCredentials.from_json_keyfile_name(\"ml-blox.json\",scope)\n",
    "client= gspread.authorize(creds)\n",
    "sheet = client.open(\"Cópia de 1-CLIENTE_Estudo-Matriz_inicial\").sheet1\n",
    "headers = sheet.row_values(1)\n",
    "classificar = sheet.col_values(1)\n",
    "classificar = classificar[2:]"
   ]
  },
  {
   "cell_type": "code",
   "execution_count": 10,
   "metadata": {},
   "outputs": [],
   "source": [
    "espm = sheet.get_all_records()\n",
    "df = pd.DataFrame(espm)\n",
    "colunas = df.columns"
   ]
  },
  {
   "cell_type": "code",
   "execution_count": 11,
   "metadata": {},
   "outputs": [],
   "source": [
    "url = 'https://github.com/Antonioarf/blox/blob/master/excel/Book1.xlsx?raw=true'\n",
    "df1 = pd.read_excel(url)\n",
    "df1 = df1.loc[:, ~df1.columns.str.contains('^Unnamed')]\n",
    "treino = df1.dropna()"
   ]
  },
  {
   "cell_type": "code",
   "execution_count": 12,
   "metadata": {},
   "outputs": [],
   "source": [
    "def deletar_caracteres(coluna):\n",
    "# coluna = coluna.replace(\"Humanidades e Linguagens\",\"Humanidades, Artes e Linguagens\").replace(\"Matemática e Computação\",\"Matemática, Computação e Tecnologias de Informação e Comunicacão\").replace(\"Ciências Sociais e Negócios\",\"Ciências Sociais, Jornalismo e Informação\").replace(\"Psicologia e Desenvolvimento\",\"Psicologia e Desenvolvimento Pessoal\").replace(\"Negócios e Administração\",\"Administração e Negócios\")\n",
    "# coluna = coluna.replace(\"Ciências Sociais, Jornalismo e Informação\",'1').replace(\"Saúde e Bem-Estar Social\",'2').replace(\"Engenharia, Produção e Construção\",'3').replace(\"Ciências Naturais\",'4').replace('Humanidades, Artes e Linguagens','5').replace(\"Matemática, Computação e Tecnologias de Informação e Comunicacão\",'6').replace(\"Direito\",'7').replace(\"Educação\",'8').replace(\"Psicologia e Desenvolvimento Pessoal\",'9').replace(\"Serviços\",'10').replace(\"Administração e Negócios\",'11')\n",
    "    \n",
    "    return coluna\n",
    "my_tags = ['1','2','3','4','5','6','7','8','9','10','11','12','13','14']\n",
    "# my_tags =[1,2,3,4,5,6,7,8,9,10,11]\n",
    "stop =[\"de\",\"e\",\"da\",\"I\",\"II\",\"do\",\"à\",\"Projeto\",\"Fundamentos\",'III',\"na\",\"Teoria\",'Tópicos','dos',\"no\",'Análise',\"a\",'Práticas',\"ao\"]"
   ]
  },
  {
   "cell_type": "code",
   "execution_count": 13,
   "metadata": {},
   "outputs": [],
   "source": [
    "from sklearn.linear_model import LogisticRegression\n",
    "def machine (lista):\n",
    "    X_train =  treino[\"materias\"]\n",
    "    y_train = deletar_caracteres(treino[\"ÁREA DO CONHECIMENTO\"])\n",
    "    X_test = lista\n",
    "    logreg = Pipeline([('vect', TfidfVectorizer(stop_words= stop)),\n",
    "                ('tfidf', TfidfTransformer()),\n",
    "                ('clf', LogisticRegression(n_jobs=1, C=1e5)),\n",
    "               ])\n",
    "    logreg.fit(X_train, y_train)\n",
    "\n",
    "#   %time\n",
    "\n",
    "    y_pred = logreg.predict(X_test)\n",
    "\n",
    "  # print('accuracy %s' % accuracy_score(y_pred, y_test))\n",
    "  # print(classification_report(y_test, y_pred))\n",
    "    return y_pred"
   ]
  },
  {
   "cell_type": "code",
   "execution_count": 14,
   "metadata": {},
   "outputs": [
    {
     "name": "stderr",
     "output_type": "stream",
     "text": [
      "C:\\Users\\Antonio Fonseca\\Anaconda3\\lib\\site-packages\\sklearn\\feature_extraction\\text.py:300: UserWarning: Your stop_words may be inconsistent with your preprocessing. Tokenizing the stop words generated tokens ['análise', 'fundamentos', 'ii', 'iii', 'projeto', 'práticas', 'teoria', 'tópicos'] not in stop_words.\n",
      "  'stop_words.' % sorted(inconsistent))\n",
      "C:\\Users\\Antonio Fonseca\\Anaconda3\\lib\\site-packages\\sklearn\\linear_model\\logistic.py:432: FutureWarning: Default solver will be changed to 'lbfgs' in 0.22. Specify a solver to silence this warning.\n",
      "  FutureWarning)\n",
      "C:\\Users\\Antonio Fonseca\\Anaconda3\\lib\\site-packages\\sklearn\\linear_model\\logistic.py:469: FutureWarning: Default multi_class will be changed to 'auto' in 0.22. Specify the multi_class option to silence this warning.\n",
      "  \"this warning.\", FutureWarning)\n"
     ]
    }
   ],
   "source": [
    "resul = machine(classificar)\n",
    "x=3\n",
    "for e in resul:\n",
    "    sheet.update_cell(x,2, e)\n",
    "    x+=1"
   ]
  },
  {
   "cell_type": "markdown",
   "metadata": {},
   "source": []
  }
 ],
 "metadata": {
  "kernelspec": {
   "display_name": "Python 3",
   "language": "python",
   "name": "python3"
  },
  "language_info": {
   "codemirror_mode": {
    "name": "ipython",
    "version": 3
   },
   "file_extension": ".py",
   "mimetype": "text/x-python",
   "name": "python",
   "nbconvert_exporter": "python",
   "pygments_lexer": "ipython3",
   "version": "3.7.4"
  }
 },
 "nbformat": 4,
 "nbformat_minor": 2
}
