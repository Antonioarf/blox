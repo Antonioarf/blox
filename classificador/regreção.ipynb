{
 "cells": [
  {
   "cell_type": "markdown",
   "metadata": {
    "colab_type": "text",
    "id": "view-in-github"
   },
   "source": [
    "<a href=\"https://colab.research.google.com/github/Antonioarf/blox/blob/master/regre%C3%A7%C3%A3o.ipynb\" target=\"_parent\"><img src=\"https://colab.research.google.com/assets/colab-badge.svg\" alt=\"Open In Colab\"/></a>"
   ]
  },
  {
   "cell_type": "code",
   "execution_count": 1,
   "metadata": {
    "colab": {
     "base_uri": "https://localhost:8080/",
     "height": 34
    },
    "colab_type": "code",
    "id": "iB-0hkpF2zXY",
    "outputId": "b1c9222f-5d54-4a44-94da-f34f9e30d2fc"
   },
   "outputs": [
    {
     "name": "stdout",
     "output_type": "stream",
     "text": [
      "Requirement already satisfied: stop_words in c:\\users\\antonio fonseca\\anaconda3\\lib\\site-packages (2018.7.23)\n"
     ]
    },
    {
     "name": "stderr",
     "output_type": "stream",
     "text": [
      "WARNING: You are using pip version 19.3.1; however, version 20.0.2 is available.\n",
      "You should consider upgrading via the 'python -m pip install --upgrade pip' command.\n"
     ]
    }
   ],
   "source": [
    "# encoding: utf-8\n",
    "# encoding: iso-8859-1\n",
    "# encoding: win-1252\n",
    "import pandas as pd;\n",
    "import numpy as np\n",
    "import matplotlib.pyplot as plt\n",
    "from sklearn.model_selection import train_test_split\n",
    "from sklearn.utils import shuffle\n",
    "\n",
    "!pip install stop_words\n",
    "from stop_words import get_stop_words\n",
    "from sklearn.metrics import accuracy_score\n",
    "from scipy.stats import expon, binom, t, norm, probplot, scoreatpercentile, percentileofscore\n",
    "import seaborn as sns # evite fazer pairplot! Estoura a memória\n",
    "import statsmodels.api as sm \n",
    "from sklearn.naive_bayes import MultinomialNB\n",
    "from sklearn.pipeline import Pipeline\n",
    "from sklearn.feature_extraction.text import TfidfTransformer\n",
    "from sklearn.feature_extraction.text import CountVectorizer\n",
    "from sklearn.feature_extraction.text import TfidfVectorizer\n",
    "from sklearn import svm\n",
    "# %matplotlib inline\n",
    "# df1.to_excel(r'C:\\Users\\Antonio Fonseca\\Desktop\\BLOX\\ementas.xlsx')\n",
    "# n esquecer do tensorflow\n",
    "import nltk\n",
    "from nltk.corpus import stopwords\n",
    "\n",
    "\n",
    "from nltk.tokenize import word_tokenize\n",
    "from nltk import pos_tag\n",
    "from nltk.corpus import stopwords\n",
    "from nltk.stem import WordNetLemmatizer\n",
    "from sklearn.preprocessing import LabelEncoder\n",
    "from collections import defaultdict\n",
    "from nltk.corpus import wordnet as wn\n",
    "from sklearn.feature_extraction.text import TfidfVectorizer\n",
    "from sklearn import model_selection, naive_bayes, svm\n",
    "from sklearn.metrics import accuracy_score"
   ]
  },
  {
   "cell_type": "code",
   "execution_count": 2,
   "metadata": {
    "colab": {
     "base_uri": "https://localhost:8080/",
     "height": 195
    },
    "colab_type": "code",
    "id": "LAWog7zv2zXe",
    "outputId": "be264723-d486-4ce4-90d2-ff35f94f5ee5"
   },
   "outputs": [
    {
     "data": {
      "text/html": [
       "<div>\n",
       "<style scoped>\n",
       "    .dataframe tbody tr th:only-of-type {\n",
       "        vertical-align: middle;\n",
       "    }\n",
       "\n",
       "    .dataframe tbody tr th {\n",
       "        vertical-align: top;\n",
       "    }\n",
       "\n",
       "    .dataframe thead th {\n",
       "        text-align: right;\n",
       "    }\n",
       "</style>\n",
       "<table border=\"1\" class=\"dataframe\">\n",
       "  <thead>\n",
       "    <tr style=\"text-align: right;\">\n",
       "      <th></th>\n",
       "      <th>materias</th>\n",
       "      <th>ÁREA DO CONHECIMENTO</th>\n",
       "      <th>ÁREA FUNCIONAL</th>\n",
       "    </tr>\n",
       "  </thead>\n",
       "  <tbody>\n",
       "    <tr>\n",
       "      <td>0</td>\n",
       "      <td>Agências de Turismo</td>\n",
       "      <td>Serviços</td>\n",
       "      <td>m</td>\n",
       "    </tr>\n",
       "    <tr>\n",
       "      <td>1</td>\n",
       "      <td>Alfaiataria I</td>\n",
       "      <td>Serviços</td>\n",
       "      <td>m</td>\n",
       "    </tr>\n",
       "    <tr>\n",
       "      <td>2</td>\n",
       "      <td>Alfaiataria II</td>\n",
       "      <td>Serviços</td>\n",
       "      <td>m</td>\n",
       "    </tr>\n",
       "    <tr>\n",
       "      <td>3</td>\n",
       "      <td>Análise Estrutural do Turismo</td>\n",
       "      <td>Serviços</td>\n",
       "      <td>m</td>\n",
       "    </tr>\n",
       "    <tr>\n",
       "      <td>4</td>\n",
       "      <td>Análise Macroeconômica do Turismo</td>\n",
       "      <td>Serviços</td>\n",
       "      <td>m</td>\n",
       "    </tr>\n",
       "  </tbody>\n",
       "</table>\n",
       "</div>"
      ],
      "text/plain": [
       "                            materias ÁREA DO CONHECIMENTO ÁREA FUNCIONAL\n",
       "0                Agências de Turismo             Serviços              m\n",
       "1                      Alfaiataria I             Serviços              m\n",
       "2                     Alfaiataria II             Serviços              m\n",
       "3      Análise Estrutural do Turismo             Serviços              m\n",
       "4  Análise Macroeconômica do Turismo             Serviços              m"
      ]
     },
     "execution_count": 2,
     "metadata": {},
     "output_type": "execute_result"
    }
   ],
   "source": [
    "# treino = pd.read_csv('treino.csv')\n",
    "url = 'https://github.com/Antonioarf/blox/blob/master/excel/Book1.xlsx?raw=true'\n",
    "df1 = pd.read_excel(url)\n",
    "# df1 = df1.loc[:, ~df1.columns.str.contains('^Unnamed')]\n",
    "treino = df1\n",
    "treino.shape\n",
    "treino.head()"
   ]
  },
  {
   "cell_type": "code",
   "execution_count": 3,
   "metadata": {
    "colab": {
     "base_uri": "https://localhost:8080/",
     "height": 34
    },
    "colab_type": "code",
    "id": "qgg3O2fi2zXk",
    "outputId": "84ee7e49-76b1-428a-9076-d5aac78fd8ae"
   },
   "outputs": [
    {
     "data": {
      "text/plain": [
       "(5363, 3)"
      ]
     },
     "execution_count": 3,
     "metadata": {},
     "output_type": "execute_result"
    }
   ],
   "source": [
    "# def deletar_caracteres(coluna):\n",
    "#  j = 1\n",
    "#  for e in coluna.value_counts(sort=True).tolist():\n",
    "#     coluna = coluna.replace(e,str(j))\n",
    "#     j+=1\n",
    "#     coluna = coluna.replace(\"Humanidades, Artes e Linguagens\",\"Humanidades e Linguagens\").replace(\"Matemática, Computação e Tecnologias de Informação e Comunicacão\",\"Matemática e Computação\").replace(\"Ciências Sociais e Negócios\",\"Ciências Sociais, Jornalismo e Informação\").replace(\"Psicologia e Desenvolvimento Pessoal\",\"Psicologia e Desenvolvimento\").replace(\"Administração e Negócios\",\"Negócios e Administração\")\n",
    "#     return coluna\n",
    "treino =  treino.dropna()\n",
    "treino.shape"
   ]
  },
  {
   "cell_type": "code",
   "execution_count": 4,
   "metadata": {
    "colab": {
     "base_uri": "https://localhost:8080/",
     "height": 235
    },
    "colab_type": "code",
    "id": "bD6FmkTC2zXs",
    "outputId": "56b2d06f-98b6-4311-a451-76d595b97164"
   },
   "outputs": [
    {
     "data": {
      "text/plain": [
       "Saúde e Bem-Estar Social                                            779\n",
       "Engenharia, Produção e Construção                                   768\n",
       "Ciências Naturais                                                   610\n",
       "Ciências Sociais, Jornalismo e Informação                           543\n",
       "Negócios e Administração                                            458\n",
       "Humanidades, Artes e Linguagens                                     394\n",
       "Matemática, Computação e Tecnologias de Informação e Comunicacão    388\n",
       "Direito                                                             330\n",
       "Educação                                                            259\n",
       "Agricultura, Silvicultura, Pesca e Veterinária                      246\n",
       "Psicologia e Desenvolvimento Pessoal                                193\n",
       "programas genericos                                                 164\n",
       "Serviços                                                            143\n",
       "Programas Interdisciplinares                                         88\n",
       "Name: ÁREA DO CONHECIMENTO, dtype: int64"
      ]
     },
     "execution_count": 4,
     "metadata": {},
     "output_type": "execute_result"
    }
   ],
   "source": [
    "y = treino[\"ÁREA DO CONHECIMENTO\"]\n",
    "y.value_counts()"
   ]
  },
  {
   "cell_type": "code",
   "execution_count": 0,
   "metadata": {
    "colab": {},
    "colab_type": "code",
    "id": "MQpt_DrE2zXz"
   },
   "outputs": [],
   "source": [
    "\n",
    "#treino = treino.drop([\"ÁREA DO CONHECIMENTO_x\", \"Unnamed: 0\",'p_r'], axis=1)\n",
    "# y = y.to_numpy()"
   ]
  },
  {
   "cell_type": "code",
   "execution_count": 5,
   "metadata": {
    "colab": {
     "base_uri": "https://localhost:8080/",
     "height": 218
    },
    "colab_type": "code",
    "id": "nIbaOcBg2zX6",
    "outputId": "bbadbf7c-62a4-4128-bbe4-d34ba4bb4737"
   },
   "outputs": [
    {
     "data": {
      "text/plain": [
       "0                                        Serviços\n",
       "1                                        Serviços\n",
       "2                                        Serviços\n",
       "3                                        Serviços\n",
       "4                                        Serviços\n",
       "                          ...                    \n",
       "5359                                     Educação\n",
       "5360                     Negócios e Administração\n",
       "5361    Ciências Sociais, Jornalismo e Informação\n",
       "5362                     Negócios e Administração\n",
       "5363                     Negócios e Administração\n",
       "Name: ÁREA DO CONHECIMENTO, Length: 5363, dtype: object"
      ]
     },
     "execution_count": 5,
     "metadata": {},
     "output_type": "execute_result"
    }
   ],
   "source": [
    "# z= treino[['obj','programa']]\n",
    "# treino[\"tudo\"] = treino[\"obj\"] + treino[\"programa\"]\n",
    "x = treino[\"materias\"]\n",
    "# x= treino['programa']\n",
    "# treino = treino.to_numpy()\n",
    "y"
   ]
  },
  {
   "cell_type": "code",
   "execution_count": 6,
   "metadata": {
    "colab": {},
    "colab_type": "code",
    "id": "y8liTvhL2zX_"
   },
   "outputs": [],
   "source": [
    "X_train, X_test, y_train, y_test = train_test_split(x,y, test_size=0.3,random_state=100)"
   ]
  },
  {
   "cell_type": "code",
   "execution_count": 7,
   "metadata": {
    "colab": {},
    "colab_type": "code",
    "id": "PTQCT8332zYD"
   },
   "outputs": [],
   "source": [
    "# obj_train = X_train[\"obj\"]\n",
    "# prog_train = X_train[\"programa\"]"
   ]
  },
  {
   "cell_type": "code",
   "execution_count": 9,
   "metadata": {
    "colab": {},
    "colab_type": "code",
    "id": "7dlw1ULN-cZR"
   },
   "outputs": [],
   "source": [
    "my_tags = ['1','2','3','4','5','6','7','8','9','10','11','12','13','14']\n",
    "lista =y.value_counts(sort=True).tolist()\n",
    "# my_tags = list(range(1,len(lista)+1))\n",
    "# my_tags = lista"
   ]
  },
  {
   "cell_type": "code",
   "execution_count": 10,
   "metadata": {
    "colab": {},
    "colab_type": "code",
    "id": "jLpfKLwljeTu"
   },
   "outputs": [],
   "source": [
    "url = 'https://github.com/Antonioarf/blox/blob/master/excel/atual.xlsx?raw=true'\n",
    "teste = pd.read_excel(url)"
   ]
  },
  {
   "cell_type": "code",
   "execution_count": 11,
   "metadata": {
    "colab": {},
    "colab_type": "code",
    "id": "FcSwQxGFpOYo"
   },
   "outputs": [],
   "source": [
    "stop = get_stop_words('pt')"
   ]
  },
  {
   "cell_type": "code",
   "execution_count": 15,
   "metadata": {
    "colab": {
     "base_uri": "https://localhost:8080/",
     "height": 353
    },
    "colab_type": "code",
    "id": "u2upzSGSzbIP",
    "outputId": "f76e1248-f9db-44a8-a0fa-921d3debc49f"
   },
   "outputs": [
    {
     "name": "stdout",
     "output_type": "stream",
     "text": [
      "accuracy 0.6270975761342449\n",
      "                                                                  precision    recall  f1-score   support\n",
      "\n",
      "                  Agricultura, Silvicultura, Pesca e Veterinária       1.00      0.10      0.18        79\n",
      "                                               Ciências Naturais       0.62      0.64      0.63       176\n",
      "                       Ciências Sociais, Jornalismo e Informação       0.63      0.79      0.70       159\n",
      "                                                         Direito       0.97      0.65      0.78        98\n",
      "                                                        Educação       0.93      0.45      0.61        82\n",
      "                               Engenharia, Produção e Construção       0.48      0.84      0.61       232\n",
      "                                 Humanidades, Artes e Linguagens       0.86      0.70      0.77       119\n",
      "Matemática, Computação e Tecnologias de Informação e Comunicacão       0.78      0.50      0.61       114\n",
      "                                        Negócios e Administração       0.72      0.72      0.72       136\n",
      "                                    Programas Interdisciplinares       0.00      0.00      0.00        22\n",
      "                            Psicologia e Desenvolvimento Pessoal       1.00      0.14      0.25        69\n",
      "                                        Saúde e Bem-Estar Social       0.54      0.87      0.67       236\n",
      "                                                        Serviços       1.00      0.03      0.05        37\n",
      "                                             programas genericos       1.00      0.24      0.39        50\n",
      "\n",
      "                                                        accuracy                           0.63      1609\n",
      "                                                       macro avg       0.75      0.48      0.50      1609\n",
      "                                                    weighted avg       0.71      0.63      0.60      1609\n",
      "\n"
     ]
    },
    {
     "name": "stderr",
     "output_type": "stream",
     "text": [
      "C:\\Users\\Antonio Fonseca\\Anaconda3\\lib\\site-packages\\sklearn\\metrics\\classification.py:1437: UndefinedMetricWarning: Precision and F-score are ill-defined and being set to 0.0 in labels with no predicted samples.\n",
      "  'precision', 'predicted', average, warn_for)\n"
     ]
    }
   ],
   "source": [
    "nb = Pipeline([('vect', TfidfVectorizer()),\n",
    "               ('tfidf', TfidfTransformer()),\n",
    "               ('clf', MultinomialNB()),\n",
    "              ])\n",
    "nb.fit(X_train, y_train)\n",
    "\n",
    "\n",
    "from sklearn.metrics import classification_report\n",
    "y_pred = nb.predict(X_test)\n",
    "\n",
    "print('accuracy %s' % accuracy_score(y_pred, y_test))\n",
    "print(classification_report(y_test, y_pred))"
   ]
  },
  {
   "cell_type": "code",
   "execution_count": 16,
   "metadata": {
    "colab": {
     "base_uri": "https://localhost:8080/",
     "height": 353
    },
    "colab_type": "code",
    "id": "hZ4Wky1i2zYp",
    "outputId": "20c02643-2bb5-4954-a906-c7390809285f"
   },
   "outputs": [
    {
     "name": "stderr",
     "output_type": "stream",
     "text": [
      "C:\\Users\\Antonio Fonseca\\Anaconda3\\lib\\site-packages\\sklearn\\ensemble\\forest.py:245: FutureWarning: The default value of n_estimators will change from 10 in version 0.20 to 100 in 0.22.\n",
      "  \"10 in version 0.20 to 100 in 0.22.\", FutureWarning)\n"
     ]
    },
    {
     "name": "stdout",
     "output_type": "stream",
     "text": [
      "accuracy 0.6270975761342449\n",
      "              precision    recall  f1-score   support\n",
      "\n",
      "           1       1.00      0.10      0.18        79\n",
      "           2       0.62      0.64      0.63       176\n",
      "           3       0.63      0.79      0.70       159\n",
      "           4       0.97      0.65      0.78        98\n",
      "           5       0.93      0.45      0.61        82\n",
      "           6       0.48      0.84      0.61       232\n",
      "           7       0.86      0.70      0.77       119\n",
      "           8       0.78      0.50      0.61       114\n",
      "           9       0.72      0.72      0.72       136\n",
      "          10       0.00      0.00      0.00        22\n",
      "          11       1.00      0.14      0.25        69\n",
      "          12       0.54      0.87      0.67       236\n",
      "          13       1.00      0.03      0.05        37\n",
      "          14       1.00      0.24      0.39        50\n",
      "\n",
      "    accuracy                           0.63      1609\n",
      "   macro avg       0.75      0.48      0.50      1609\n",
      "weighted avg       0.71      0.63      0.60      1609\n",
      "\n"
     ]
    },
    {
     "name": "stderr",
     "output_type": "stream",
     "text": [
      "C:\\Users\\Antonio Fonseca\\Anaconda3\\lib\\site-packages\\sklearn\\metrics\\classification.py:1437: UndefinedMetricWarning: Precision and F-score are ill-defined and being set to 0.0 in labels with no predicted samples.\n",
      "  'precision', 'predicted', average, warn_for)\n"
     ]
    }
   ],
   "source": [
    "from sklearn.ensemble import RandomForestClassifier \n",
    "rf = Pipeline([('vect', CountVectorizer(stop_words= stop)),\n",
    "               ('tfidf', TfidfTransformer()),\n",
    "               ('clf', RandomForestClassifier()),\n",
    "              ])\n",
    "rf.fit(X_train, y_train)\n",
    "\n",
    "\n",
    "from sklearn.metrics import classification_report\n",
    "y_pred = nb.predict(X_test)\n",
    "\n",
    "print('accuracy %s' % accuracy_score(y_pred, y_test))\n",
    "print(classification_report(y_test, y_pred,target_names=my_tags))"
   ]
  },
  {
   "cell_type": "code",
   "execution_count": 17,
   "metadata": {
    "colab": {
     "base_uri": "https://localhost:8080/",
     "height": 386
    },
    "colab_type": "code",
    "id": "UZQLek2IhaCM",
    "outputId": "b581eb4a-90b4-418a-e43e-e6c026d9b1a4"
   },
   "outputs": [
    {
     "name": "stdout",
     "output_type": "stream",
     "text": [
      "Wall time: 0 ns\n",
      "accuracy 0.6786824114356743\n",
      "                                                                  precision    recall  f1-score   support\n",
      "\n",
      "                  Agricultura, Silvicultura, Pesca e Veterinária       0.48      0.59      0.53        79\n",
      "                                               Ciências Naturais       0.71      0.62      0.66       176\n",
      "                       Ciências Sociais, Jornalismo e Informação       0.71      0.64      0.68       159\n",
      "                                                         Direito       0.90      0.79      0.84        98\n",
      "                                                        Educação       0.74      0.70      0.72        82\n",
      "                               Engenharia, Produção e Construção       0.67      0.67      0.67       232\n",
      "                                 Humanidades, Artes e Linguagens       0.68      0.76      0.72       119\n",
      "Matemática, Computação e Tecnologias de Informação e Comunicacão       0.62      0.75      0.68       114\n",
      "                                        Negócios e Administração       0.62      0.77      0.69       136\n",
      "                                    Programas Interdisciplinares       0.28      0.32      0.30        22\n",
      "                            Psicologia e Desenvolvimento Pessoal       0.70      0.58      0.63        69\n",
      "                                        Saúde e Bem-Estar Social       0.76      0.70      0.73       236\n",
      "                                                        Serviços       0.69      0.54      0.61        37\n",
      "                                             programas genericos       0.62      0.58      0.60        50\n",
      "\n",
      "                                                        accuracy                           0.68      1609\n",
      "                                                       macro avg       0.66      0.64      0.65      1609\n",
      "                                                    weighted avg       0.69      0.68      0.68      1609\n",
      "\n"
     ]
    }
   ],
   "source": [
    "from sklearn.linear_model import Perceptron\n",
    "\n",
    "logreg = Pipeline([('vect', CountVectorizer(stop_words= stop)),\n",
    "                ('tfidf', TfidfTransformer()),\n",
    "                ('clf', Perceptron()),\n",
    "               ])\n",
    "logreg.fit(X_train, y_train)\n",
    "\n",
    "%time\n",
    "\n",
    "y_pred = logreg.predict(X_test)\n",
    "\n",
    "print('accuracy %s' % accuracy_score(y_pred, y_test))\n",
    "print(classification_report(y_test, y_pred))"
   ]
  },
  {
   "cell_type": "code",
   "execution_count": 18,
   "metadata": {
    "colab": {
     "base_uri": "https://localhost:8080/",
     "height": 386
    },
    "colab_type": "code",
    "id": "nVcbl8pC2zYM",
    "outputId": "a388435e-f3c2-4cc4-d767-aea03da585a7"
   },
   "outputs": [
    {
     "name": "stdout",
     "output_type": "stream",
     "text": [
      "Wall time: 0 ns\n",
      "accuracy 0.723430702299565\n",
      "              precision    recall  f1-score   support\n",
      "\n",
      "           1       0.76      0.48      0.59        79\n",
      "           2       0.65      0.70      0.68       176\n",
      "           3       0.73      0.77      0.75       159\n",
      "           4       0.92      0.82      0.86        98\n",
      "           5       0.84      0.77      0.80        82\n",
      "           6       0.66      0.75      0.70       232\n",
      "           7       0.76      0.79      0.77       119\n",
      "           8       0.68      0.69      0.69       114\n",
      "           9       0.69      0.80      0.74       136\n",
      "          10       0.67      0.18      0.29        22\n",
      "          11       0.80      0.62      0.70        69\n",
      "          12       0.71      0.82      0.76       236\n",
      "          13       0.83      0.41      0.55        37\n",
      "          14       0.84      0.52      0.64        50\n",
      "\n",
      "    accuracy                           0.72      1609\n",
      "   macro avg       0.75      0.65      0.68      1609\n",
      "weighted avg       0.73      0.72      0.72      1609\n",
      "\n"
     ]
    }
   ],
   "source": [
    "from sklearn.linear_model import SGDClassifier\n",
    "\n",
    "sgd = Pipeline([('vect', CountVectorizer(stop_words= stop)),\n",
    "                ('tfidf', TfidfTransformer()),\n",
    "                ('clf', SGDClassifier(loss='hinge', penalty='l2',alpha=1e-3, random_state=42, max_iter=5, tol=None)),\n",
    "               ])\n",
    "sgd.fit(X_train, y_train)\n",
    "\n",
    "%time\n",
    "\n",
    "y_pred = sgd.predict(X_test)\n",
    "\n",
    "print('accuracy %s' % accuracy_score(y_pred, y_test))\n",
    "print(classification_report(y_test, y_pred,target_names=my_tags))"
   ]
  },
  {
   "cell_type": "code",
   "execution_count": 19,
   "metadata": {
    "colab": {
     "base_uri": "https://localhost:8080/",
     "height": 521
    },
    "colab_type": "code",
    "id": "aK2SwSoM2zYQ",
    "outputId": "b5b96d07-969f-47ae-8a5d-b49843bf4433"
   },
   "outputs": [
    {
     "name": "stderr",
     "output_type": "stream",
     "text": [
      "C:\\Users\\Antonio Fonseca\\Anaconda3\\lib\\site-packages\\sklearn\\linear_model\\logistic.py:432: FutureWarning: Default solver will be changed to 'lbfgs' in 0.22. Specify a solver to silence this warning.\n",
      "  FutureWarning)\n",
      "C:\\Users\\Antonio Fonseca\\Anaconda3\\lib\\site-packages\\sklearn\\linear_model\\logistic.py:469: FutureWarning: Default multi_class will be changed to 'auto' in 0.22. Specify the multi_class option to silence this warning.\n",
      "  \"this warning.\", FutureWarning)\n"
     ]
    },
    {
     "name": "stdout",
     "output_type": "stream",
     "text": [
      "Wall time: 0 ns\n",
      "accuracy 0.6594157862026103\n",
      "                                                                  precision    recall  f1-score   support\n",
      "\n",
      "                  Agricultura, Silvicultura, Pesca e Veterinária       0.63      0.51      0.56        79\n",
      "                                               Ciências Naturais       0.64      0.65      0.65       176\n",
      "                       Ciências Sociais, Jornalismo e Informação       0.71      0.63      0.67       159\n",
      "                                                         Direito       0.89      0.82      0.85        98\n",
      "                                                        Educação       0.80      0.70      0.75        82\n",
      "                               Engenharia, Produção e Construção       0.65      0.68      0.66       232\n",
      "                                 Humanidades, Artes e Linguagens       0.74      0.66      0.69       119\n",
      "Matemática, Computação e Tecnologias de Informação e Comunicacão       0.38      0.71      0.49       114\n",
      "                                        Negócios e Administração       0.71      0.75      0.73       136\n",
      "                                    Programas Interdisciplinares       0.38      0.41      0.39        22\n",
      "                            Psicologia e Desenvolvimento Pessoal       0.81      0.55      0.66        69\n",
      "                                        Saúde e Bem-Estar Social       0.77      0.63      0.69       236\n",
      "                                                        Serviços       0.67      0.54      0.60        37\n",
      "                                             programas genericos       0.55      0.70      0.61        50\n",
      "\n",
      "                                                        accuracy                           0.66      1609\n",
      "                                                       macro avg       0.67      0.64      0.64      1609\n",
      "                                                    weighted avg       0.69      0.66      0.67      1609\n",
      "\n"
     ]
    }
   ],
   "source": [
    "from sklearn.linear_model import LogisticRegression\n",
    "\n",
    "logreg = Pipeline([('vect', TfidfVectorizer(stop_words= stop)),\n",
    "                ('tfidf', TfidfTransformer()),\n",
    "                ('clf', LogisticRegression(n_jobs=1, C=1e5)),\n",
    "               ])\n",
    "logreg.fit(X_train, y_train)\n",
    "\n",
    "%time\n",
    "\n",
    "y_pred = logreg.predict(X_test)\n",
    "\n",
    "print('accuracy %s' % accuracy_score(y_pred, y_test))\n",
    "print(classification_report(y_test, y_pred))"
   ]
  },
  {
   "cell_type": "code",
   "execution_count": 20,
   "metadata": {
    "colab": {
     "base_uri": "https://localhost:8080/",
     "height": 386
    },
    "colab_type": "code",
    "id": "vEEEIuxhhY1n",
    "outputId": "5014200f-5e68-4c76-d148-68b461a0c559"
   },
   "outputs": [
    {
     "name": "stdout",
     "output_type": "stream",
     "text": [
      "Wall time: 0 ns\n",
      "accuracy 0.7004350528278434\n",
      "                                                                  precision    recall  f1-score   support\n",
      "\n",
      "                  Agricultura, Silvicultura, Pesca e Veterinária       0.51      0.58      0.54        79\n",
      "                                               Ciências Naturais       0.66      0.66      0.66       176\n",
      "                       Ciências Sociais, Jornalismo e Informação       0.67      0.69      0.68       159\n",
      "                                                         Direito       0.90      0.83      0.86        98\n",
      "                                                        Educação       0.82      0.71      0.76        82\n",
      "                               Engenharia, Produção e Construção       0.69      0.71      0.70       232\n",
      "                                 Humanidades, Artes e Linguagens       0.75      0.80      0.77       119\n",
      "Matemática, Computação e Tecnologias de Informação e Comunicacão       0.64      0.69      0.66       114\n",
      "                                        Negócios e Administração       0.71      0.77      0.74       136\n",
      "                                    Programas Interdisciplinares       0.43      0.41      0.42        22\n",
      "                            Psicologia e Desenvolvimento Pessoal       0.80      0.58      0.67        69\n",
      "                                        Saúde e Bem-Estar Social       0.73      0.71      0.72       236\n",
      "                                                        Serviços       0.71      0.59      0.65        37\n",
      "                                             programas genericos       0.67      0.72      0.69        50\n",
      "\n",
      "                                                        accuracy                           0.70      1609\n",
      "                                                       macro avg       0.69      0.67      0.68      1609\n",
      "                                                    weighted avg       0.70      0.70      0.70      1609\n",
      "\n"
     ]
    }
   ],
   "source": [
    "from sklearn.linear_model import PassiveAggressiveClassifier\n",
    "\n",
    "logreg = Pipeline([('vect', TfidfVectorizer(stop_words= stop)),\n",
    "                ('tfidf', TfidfTransformer()),\n",
    "                ('clf', PassiveAggressiveClassifier()),\n",
    "               ])\n",
    "logreg.fit(X_train, y_train)\n",
    "\n",
    "%time\n",
    "\n",
    "y_pred = logreg.predict(X_test)\n",
    "\n",
    "print('accuracy %s' % accuracy_score(y_pred, y_test))\n",
    "print(classification_report(y_test, y_pred))"
   ]
  },
  {
   "cell_type": "code",
   "execution_count": 21,
   "metadata": {
    "colab": {
     "base_uri": "https://localhost:8080/",
     "height": 386
    },
    "colab_type": "code",
    "id": "C-yqA9-ehsWE",
    "outputId": "6f9784bc-5424-4124-cd2b-f307a02ee3c4"
   },
   "outputs": [
    {
     "name": "stdout",
     "output_type": "stream",
     "text": [
      "Wall time: 0 ns\n",
      "accuracy 0.7240522063393412\n",
      "                                                                  precision    recall  f1-score   support\n",
      "\n",
      "                  Agricultura, Silvicultura, Pesca e Veterinária       0.77      0.51      0.61        79\n",
      "                                               Ciências Naturais       0.67      0.69      0.68       176\n",
      "                       Ciências Sociais, Jornalismo e Informação       0.69      0.75      0.72       159\n",
      "                                                         Direito       0.87      0.85      0.86        98\n",
      "                                                        Educação       0.86      0.76      0.81        82\n",
      "                               Engenharia, Produção e Construção       0.71      0.73      0.72       232\n",
      "                                 Humanidades, Artes e Linguagens       0.75      0.80      0.78       119\n",
      "Matemática, Computação e Tecnologias de Informação e Comunicacão       0.63      0.64      0.64       114\n",
      "                                        Negócios e Administração       0.74      0.78      0.76       136\n",
      "                                    Programas Interdisciplinares       0.38      0.23      0.29        22\n",
      "                            Psicologia e Desenvolvimento Pessoal       0.75      0.65      0.70        69\n",
      "                                        Saúde e Bem-Estar Social       0.72      0.82      0.76       236\n",
      "                                                        Serviços       0.76      0.51      0.61        37\n",
      "                                             programas genericos       0.80      0.64      0.71        50\n",
      "\n",
      "                                                        accuracy                           0.72      1609\n",
      "                                                       macro avg       0.72      0.67      0.69      1609\n",
      "                                                    weighted avg       0.73      0.72      0.72      1609\n",
      "\n"
     ]
    }
   ],
   "source": [
    "from sklearn.linear_model import RidgeClassifierCV\n",
    "\n",
    "logreg = Pipeline([('vect', TfidfVectorizer(stop_words= stop)),\n",
    "                ('tfidf', TfidfTransformer()),\n",
    "                ('clf', RidgeClassifierCV()),\n",
    "               ])\n",
    "logreg.fit(X_train, y_train)\n",
    "\n",
    "%time\n",
    "\n",
    "y_pred = logreg.predict(X_test)\n",
    "\n",
    "print('accuracy %s' % accuracy_score(y_pred, y_test))\n",
    "print(classification_report(y_test, y_pred))"
   ]
  },
  {
   "cell_type": "code",
   "execution_count": 25,
   "metadata": {
    "colab": {
     "base_uri": "https://localhost:8080/",
     "height": 386
    },
    "colab_type": "code",
    "id": "E3vVg8yvh0zE",
    "outputId": "a2a3933e-d7e8-4d89-9d0a-5152bf1d9449"
   },
   "outputs": [
    {
     "name": "stdout",
     "output_type": "stream",
     "text": [
      "Wall time: 0 ns\n",
      "accuracy 0.7240522063393412\n",
      "                                                                  precision    recall  f1-score   support\n",
      "\n",
      "                  Agricultura, Silvicultura, Pesca e Veterinária       0.77      0.51      0.61        79\n",
      "                                               Ciências Naturais       0.67      0.69      0.68       176\n",
      "                       Ciências Sociais, Jornalismo e Informação       0.69      0.75      0.72       159\n",
      "                                                         Direito       0.87      0.85      0.86        98\n",
      "                                                        Educação       0.86      0.76      0.81        82\n",
      "                               Engenharia, Produção e Construção       0.71      0.73      0.72       232\n",
      "                                 Humanidades, Artes e Linguagens       0.75      0.80      0.78       119\n",
      "Matemática, Computação e Tecnologias de Informação e Comunicacão       0.63      0.64      0.64       114\n",
      "                                        Negócios e Administração       0.74      0.78      0.76       136\n",
      "                                    Programas Interdisciplinares       0.38      0.23      0.29        22\n",
      "                            Psicologia e Desenvolvimento Pessoal       0.75      0.65      0.70        69\n",
      "                                        Saúde e Bem-Estar Social       0.72      0.82      0.76       236\n",
      "                                                        Serviços       0.76      0.51      0.61        37\n",
      "                                             programas genericos       0.80      0.64      0.71        50\n",
      "\n",
      "                                                        accuracy                           0.72      1609\n",
      "                                                       macro avg       0.72      0.67      0.69      1609\n",
      "                                                    weighted avg       0.73      0.72      0.72      1609\n",
      "\n"
     ]
    }
   ],
   "source": [
    "from sklearn.tree import DecisionTreeClassifier\n",
    "\n",
    "dt = Pipeline([('vect', TfidfVectorizer(stop_words= stop)),\n",
    "                ('tfidf', TfidfTransformer()),\n",
    "                ('clf', DecisionTreeClassifier()),\n",
    "               ])\n",
    "dt.fit(X_train, y_train)\n",
    "\n",
    "%time\n",
    "\n",
    "y_pred = logreg.predict(X_test)\n",
    "\n",
    "print('accuracy %s' % accuracy_score(y_pred, y_test))\n",
    "print(classification_report(y_test, y_pred))"
   ]
  },
  {
   "cell_type": "code",
   "execution_count": 23,
   "metadata": {
    "colab": {
     "base_uri": "https://localhost:8080/",
     "height": 386
    },
    "colab_type": "code",
    "id": "NrjokcPQinJI",
    "outputId": "b92cc341-200f-4621-8bd5-f8fc549b1488"
   },
   "outputs": [
    {
     "name": "stdout",
     "output_type": "stream",
     "text": [
      "Wall time: 0 ns\n",
      "accuracy 0.7240522063393412\n",
      "                                                                  precision    recall  f1-score   support\n",
      "\n",
      "                  Agricultura, Silvicultura, Pesca e Veterinária       0.77      0.51      0.61        79\n",
      "                                               Ciências Naturais       0.67      0.69      0.68       176\n",
      "                       Ciências Sociais, Jornalismo e Informação       0.69      0.75      0.72       159\n",
      "                                                         Direito       0.87      0.85      0.86        98\n",
      "                                                        Educação       0.86      0.76      0.81        82\n",
      "                               Engenharia, Produção e Construção       0.71      0.73      0.72       232\n",
      "                                 Humanidades, Artes e Linguagens       0.75      0.80      0.78       119\n",
      "Matemática, Computação e Tecnologias de Informação e Comunicacão       0.63      0.64      0.64       114\n",
      "                                        Negócios e Administração       0.74      0.78      0.76       136\n",
      "                                    Programas Interdisciplinares       0.38      0.23      0.29        22\n",
      "                            Psicologia e Desenvolvimento Pessoal       0.75      0.65      0.70        69\n",
      "                                        Saúde e Bem-Estar Social       0.72      0.82      0.76       236\n",
      "                                                        Serviços       0.76      0.51      0.61        37\n",
      "                                             programas genericos       0.80      0.64      0.71        50\n",
      "\n",
      "                                                        accuracy                           0.72      1609\n",
      "                                                       macro avg       0.72      0.67      0.69      1609\n",
      "                                                    weighted avg       0.73      0.72      0.72      1609\n",
      "\n"
     ]
    }
   ],
   "source": [
    "from sklearn.svm import SVC\n",
    "from sklearn.feature_extraction import DictVectorizer\n",
    "svc = Pipeline([('vect', CountVectorizer(stop_words= stop)),\n",
    "                ('tfidf', TfidfTransformer()),\n",
    "                ('clf', SVC(kernel='linear')),\n",
    "               ])\n",
    "svc.fit(X_train, y_train)\n",
    "\n",
    "%time\n",
    "\n",
    "y_pred = logreg.predict(X_test)\n",
    "\n",
    "print('accuracy %s' % accuracy_score(y_pred, y_test))\n",
    "print(classification_report(y_test, y_pred))"
   ]
  },
  {
   "cell_type": "code",
   "execution_count": 24,
   "metadata": {
    "colab": {},
    "colab_type": "code",
    "id": "k3ADSvWxewmH"
   },
   "outputs": [],
   "source": [
    "# from sklearn.tree import DecisionTreeClassifier\n",
    "\n",
    "# dt = Pipeline([('vect', TfidfVectorizer(stop_words= stop)),\n",
    "#                 ('tfidf', TfidfTransformer()),\n",
    "#                 ('clf', RidgeClassifierCV()),\n",
    "#                ])\n",
    "# dt.fit(xx_train, yy_train)\n",
    "\n",
    "# %time\n",
    "\n",
    "# yy_pred = logreg.predict(xx_test)\n",
    "\n",
    "# print('accuracy %s' % accuracy_score(yy_pred, yy_test))\n",
    "# print(classification_report(yy_test, yy_pred))"
   ]
  },
  {
   "cell_type": "code",
   "execution_count": 0,
   "metadata": {
    "colab": {},
    "colab_type": "code",
    "id": "ec9adHT0hS7w"
   },
   "outputs": [],
   "source": []
  }
 ],
 "metadata": {
  "colab": {
   "include_colab_link": true,
   "name": "regreção.ipynb",
   "provenance": []
  },
  "kernelspec": {
   "display_name": "Python 3",
   "language": "python",
   "name": "python3"
  },
  "language_info": {
   "codemirror_mode": {
    "name": "ipython",
    "version": 3
   },
   "file_extension": ".py",
   "mimetype": "text/x-python",
   "name": "python",
   "nbconvert_exporter": "python",
   "pygments_lexer": "ipython3",
   "version": "3.7.4"
  }
 },
 "nbformat": 4,
 "nbformat_minor": 1
}
