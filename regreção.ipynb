{
  "nbformat": 4,
  "nbformat_minor": 0,
  "metadata": {
    "kernelspec": {
      "display_name": "Python 3",
      "language": "python",
      "name": "python3"
    },
    "language_info": {
      "codemirror_mode": {
        "name": "ipython",
        "version": 3
      },
      "file_extension": ".py",
      "mimetype": "text/x-python",
      "name": "python",
      "nbconvert_exporter": "python",
      "pygments_lexer": "ipython3",
      "version": "3.7.4"
    },
    "colab": {
      "name": "regreção.ipynb",
      "provenance": [],
      "include_colab_link": true
    }
  },
  "cells": [
    {
      "cell_type": "markdown",
      "metadata": {
        "id": "view-in-github",
        "colab_type": "text"
      },
      "source": [
        "<a href=\"https://colab.research.google.com/github/Antonioarf/blox/blob/master/regre%C3%A7%C3%A3o.ipynb\" target=\"_parent\"><img src=\"https://colab.research.google.com/assets/colab-badge.svg\" alt=\"Open In Colab\"/></a>"
      ]
    },
    {
      "cell_type": "code",
      "metadata": {
        "id": "iB-0hkpF2zXY",
        "colab_type": "code",
        "colab": {
          "base_uri": "https://localhost:8080/",
          "height": 34
        },
        "outputId": "adedbfcc-b1ce-4078-a4d8-267ec1a81632"
      },
      "source": [
        "# encoding: utf-8\n",
        "# encoding: iso-8859-1\n",
        "# encoding: win-1252\n",
        "import pandas as pd;\n",
        "import numpy as np\n",
        "import matplotlib.pyplot as plt\n",
        "from sklearn.model_selection import train_test_split\n",
        "from sklearn.utils import shuffle\n",
        "\n",
        "!pip install stop_words\n",
        "from stop_words import get_stop_words\n",
        "from sklearn.metrics import accuracy_score\n",
        "from scipy.stats import expon, binom, t, norm, probplot, scoreatpercentile, percentileofscore\n",
        "import seaborn as sns # evite fazer pairplot! Estoura a memória\n",
        "import statsmodels.api as sm \n",
        "from sklearn.naive_bayes import MultinomialNB\n",
        "from sklearn.pipeline import Pipeline\n",
        "from sklearn.feature_extraction.text import TfidfTransformer\n",
        "from sklearn.feature_extraction.text import CountVectorizer\n",
        "from sklearn.feature_extraction.text import TfidfVectorizer\n",
        "from sklearn import svm\n",
        "# %matplotlib inline\n",
        "# df1.to_excel(r'C:\\Users\\Antonio Fonseca\\Desktop\\BLOX\\ementas.xlsx')\n",
        "# n esquecer do tensorflow\n",
        "import nltk\n",
        "from nltk.corpus import stopwords\n",
        "\n",
        "\n",
        "from nltk.tokenize import word_tokenize\n",
        "from nltk import pos_tag\n",
        "from nltk.corpus import stopwords\n",
        "from nltk.stem import WordNetLemmatizer\n",
        "from sklearn.preprocessing import LabelEncoder\n",
        "from collections import defaultdict\n",
        "from nltk.corpus import wordnet as wn\n",
        "from sklearn.feature_extraction.text import TfidfVectorizer\n",
        "from sklearn import model_selection, naive_bayes, svm\n",
        "from sklearn.metrics import accuracy_score"
      ],
      "execution_count": 23,
      "outputs": [
        {
          "output_type": "stream",
          "text": [
            "Requirement already satisfied: stop_words in /usr/local/lib/python3.6/dist-packages (2018.7.23)\n"
          ],
          "name": "stdout"
        }
      ]
    },
    {
      "cell_type": "code",
      "metadata": {
        "id": "LAWog7zv2zXe",
        "colab_type": "code",
        "colab": {
          "base_uri": "https://localhost:8080/",
          "height": 296
        },
        "outputId": "a995d0e0-457f-4bd6-931b-b620d8892978"
      },
      "source": [
        "# treino = pd.read_csv('treino.csv')\n",
        "url = 'https://raw.githubusercontent.com/Antonioarf/blox/master/excel/treino.csv'\n",
        "df1 = pd.read_csv(url)\n",
        "treino = df1\n",
        "treino.shape\n",
        "treino.head()"
      ],
      "execution_count": 4,
      "outputs": [
        {
          "output_type": "execute_result",
          "data": {
            "text/html": [
              "<div>\n",
              "<style scoped>\n",
              "    .dataframe tbody tr th:only-of-type {\n",
              "        vertical-align: middle;\n",
              "    }\n",
              "\n",
              "    .dataframe tbody tr th {\n",
              "        vertical-align: top;\n",
              "    }\n",
              "\n",
              "    .dataframe thead th {\n",
              "        text-align: right;\n",
              "    }\n",
              "</style>\n",
              "<table border=\"1\" class=\"dataframe\">\n",
              "  <thead>\n",
              "    <tr style=\"text-align: right;\">\n",
              "      <th></th>\n",
              "      <th>Unnamed: 0</th>\n",
              "      <th>materias</th>\n",
              "      <th>ÁREA DO CONHECIMENTO_x</th>\n",
              "      <th>obj</th>\n",
              "      <th>p_r</th>\n",
              "      <th>programa</th>\n",
              "    </tr>\n",
              "  </thead>\n",
              "  <tbody>\n",
              "    <tr>\n",
              "      <th>0</th>\n",
              "      <td>0</td>\n",
              "      <td>Acolhimento em Emergências</td>\n",
              "      <td>programas genericos</td>\n",
              "      <td>1. Compreender os desafios ético-sociais envol...</td>\n",
              "      <td>O Objetivo geral é que o aluno tenha noção do ...</td>\n",
              "      <td>Atividades Teóricas: \\n1.Macro e Micro regulaç...</td>\n",
              "    </tr>\n",
              "    <tr>\n",
              "      <th>1</th>\n",
              "      <td>1</td>\n",
              "      <td>Apoio à Escolha da Especialidade Médica</td>\n",
              "      <td>programas genericos</td>\n",
              "      <td>Compreender os principais fatores que influenc...</td>\n",
              "      <td>Estudo de fatores ligados ao estudante e à nat...</td>\n",
              "      <td>Fatores que influenciam a escolha da especiali...</td>\n",
              "    </tr>\n",
              "    <tr>\n",
              "      <th>2</th>\n",
              "      <td>2</td>\n",
              "      <td>Atividades Acadêmicas Científicas, de Extensão...</td>\n",
              "      <td>programas genericos</td>\n",
              "      <td>Estimular a pró-atividade dos alunos, incentiv...</td>\n",
              "      <td>São computadas as participações em: atividades...</td>\n",
              "      <td>1. Atividades de extensão: cursos de difusão c...</td>\n",
              "    </tr>\n",
              "    <tr>\n",
              "      <th>3</th>\n",
              "      <td>3</td>\n",
              "      <td>Atividades Acadêmicas Científicas, de Extensão...</td>\n",
              "      <td>programas genericos</td>\n",
              "      <td>Estimular a pró-atividade dos alunos, incentiv...</td>\n",
              "      <td>São computadas as participações em: atividades...</td>\n",
              "      <td>1. Atividades de extensão: cursos de difusão c...</td>\n",
              "    </tr>\n",
              "    <tr>\n",
              "      <th>4</th>\n",
              "      <td>4</td>\n",
              "      <td>Atividades Acadêmico-Científico-Culturais I (A...</td>\n",
              "      <td>programas genericos</td>\n",
              "      <td>NaN</td>\n",
              "      <td>NaN</td>\n",
              "      <td>NaN</td>\n",
              "    </tr>\n",
              "  </tbody>\n",
              "</table>\n",
              "</div>"
            ],
            "text/plain": [
              "   Unnamed: 0  ...                                           programa\n",
              "0           0  ...  Atividades Teóricas: \\n1.Macro e Micro regulaç...\n",
              "1           1  ...  Fatores que influenciam a escolha da especiali...\n",
              "2           2  ...  1. Atividades de extensão: cursos de difusão c...\n",
              "3           3  ...  1. Atividades de extensão: cursos de difusão c...\n",
              "4           4  ...                                                NaN\n",
              "\n",
              "[5 rows x 6 columns]"
            ]
          },
          "metadata": {
            "tags": []
          },
          "execution_count": 4
        }
      ]
    },
    {
      "cell_type": "code",
      "metadata": {
        "id": "qgg3O2fi2zXk",
        "colab_type": "code",
        "colab": {
          "base_uri": "https://localhost:8080/",
          "height": 34
        },
        "outputId": "3d97e71c-c2ae-4caf-eb6e-1531f33a2971"
      },
      "source": [
        "def deletar_caracteres(coluna):\n",
        "    coluna = coluna.replace(\"Ciências Naturais\",\"1\").replace(\"Matemática e Computação\",\"2\").replace(\"Engenharia, Produção e Construção\",\"3\").replace(\"Saúde e Bem-Estar Social\",\"4\").replace(\"Humanidades e Linguagens\",\"5\")\\\n",
        "    .replace('Ciências Sociais, Jornalismo e Informação', \"6\").replace(\"programas genericos\",\"7\").replace(\"Negócios e Administração\",\"14\").replace(\"Agricultura e Veterinária\", \"8\").replace(\"Serviços\", \"9\").replace(\"Educação\", \"10\")\\\n",
        "    .replace(\"Programas Interdisciplinares\", \"11\").replace(\"Psicologia e Desenvolvimento\", \"12\").replace(\"Direito\", \"13\")\n",
        "    return coluna\n",
        "treino =  treino.dropna()\n",
        "treino.shape"
      ],
      "execution_count": 5,
      "outputs": [
        {
          "output_type": "execute_result",
          "data": {
            "text/plain": [
              "(3265, 6)"
            ]
          },
          "metadata": {
            "tags": []
          },
          "execution_count": 5
        }
      ]
    },
    {
      "cell_type": "code",
      "metadata": {
        "id": "bD6FmkTC2zXs",
        "colab_type": "code",
        "colab": {
          "base_uri": "https://localhost:8080/",
          "height": 269
        },
        "outputId": "07ad3c0d-b6eb-4b48-9bfb-94425d7f16bb"
      },
      "source": [
        "treino[\"ÁREA DO CONHECIMENTO_x\"].value_counts()"
      ],
      "execution_count": 6,
      "outputs": [
        {
          "output_type": "execute_result",
          "data": {
            "text/plain": [
              "Ciências Naturais                            492\n",
              "Matemática e Computação                      445\n",
              "Engenharia, Produção e Construção            425\n",
              "Saúde e Bem-Estar Social                     382\n",
              "Humanidades e Linguagens                     318\n",
              "Ciências Sociais, Jornalismo e Informação    317\n",
              "programas genericos                          178\n",
              "Negócios e Administração                     169\n",
              "Agricultura e Veterinária                    149\n",
              "Serviços                                     103\n",
              "Educação                                      94\n",
              "Programas Interdisciplinares                  83\n",
              "Psicologia e Desenvolvimento                  77\n",
              "Direito                                       33\n",
              "Name: ÁREA DO CONHECIMENTO_x, dtype: int64"
            ]
          },
          "metadata": {
            "tags": []
          },
          "execution_count": 6
        }
      ]
    },
    {
      "cell_type": "code",
      "metadata": {
        "id": "MQpt_DrE2zXz",
        "colab_type": "code",
        "colab": {}
      },
      "source": [
        "y = deletar_caracteres(treino[\"ÁREA DO CONHECIMENTO_x\"])\n",
        "#treino = treino.drop([\"ÁREA DO CONHECIMENTO_x\", \"Unnamed: 0\",'p_r'], axis=1)\n",
        "# y = y.to_numpy()"
      ],
      "execution_count": 0,
      "outputs": []
    },
    {
      "cell_type": "code",
      "metadata": {
        "id": "nIbaOcBg2zX6",
        "colab_type": "code",
        "colab": {
          "base_uri": "https://localhost:8080/",
          "height": 118
        },
        "outputId": "7a56157e-bac2-412d-b95a-2f705f2faae4"
      },
      "source": [
        "z= treino[['obj','programa']]\n",
        "treino[\"tudo\"] = treino[\"obj\"] + treino[\"programa\"]\n",
        "x = treino[\"materias\"]\n",
        "# x= treino['programa']\n",
        "# treino = treino.to_numpy()"
      ],
      "execution_count": 8,
      "outputs": [
        {
          "output_type": "stream",
          "text": [
            "/usr/local/lib/python3.6/dist-packages/ipykernel_launcher.py:2: SettingWithCopyWarning: \n",
            "A value is trying to be set on a copy of a slice from a DataFrame.\n",
            "Try using .loc[row_indexer,col_indexer] = value instead\n",
            "\n",
            "See the caveats in the documentation: http://pandas.pydata.org/pandas-docs/stable/user_guide/indexing.html#returning-a-view-versus-a-copy\n",
            "  \n"
          ],
          "name": "stderr"
        }
      ]
    },
    {
      "cell_type": "code",
      "metadata": {
        "id": "kts0YGip2tec",
        "colab_type": "code",
        "colab": {}
      },
      "source": [
        ""
      ],
      "execution_count": 0,
      "outputs": []
    },
    {
      "cell_type": "code",
      "metadata": {
        "id": "y8liTvhL2zX_",
        "colab_type": "code",
        "colab": {}
      },
      "source": [
        "X_train, X_test, y_train, y_test = train_test_split(x,y, test_size=0.3,random_state=42)"
      ],
      "execution_count": 0,
      "outputs": []
    },
    {
      "cell_type": "code",
      "metadata": {
        "id": "PTQCT8332zYD",
        "colab_type": "code",
        "colab": {}
      },
      "source": [
        "# obj_train = X_train[\"obj\"]\n",
        "# prog_train = X_train[\"programa\"]"
      ],
      "execution_count": 0,
      "outputs": []
    },
    {
      "cell_type": "code",
      "metadata": {
        "id": "7dlw1ULN-cZR",
        "colab_type": "code",
        "colab": {}
      },
      "source": [
        "# my_tags = ['1','2','3','4','5','6','7','8','9','10','11','12','13']\n",
        "my_tags = ['Ciências Naturais','Matemática e Computação','Engenharia, Produção e Construção','Saúde e Bem-Estar Social','Humanidades e Linguagens','Ciências Sociais,Jornalismo e Informação','programas genericos','Negócios e Administração','Agricultura e Veterinária','Serviços','Educação','Programas Interdisciplinares','Psicologia e Desenvolvimento','Direito']"
      ],
      "execution_count": 0,
      "outputs": []
    },
    {
      "cell_type": "code",
      "metadata": {
        "id": "FcSwQxGFpOYo",
        "colab_type": "code",
        "colab": {}
      },
      "source": [
        "stop = get_stop_words('pt')"
      ],
      "execution_count": 0,
      "outputs": []
    },
    {
      "cell_type": "code",
      "metadata": {
        "colab_type": "code",
        "outputId": "acccc7c7-5d8a-4a1c-9d84-0c9cadc0e803",
        "id": "u2upzSGSzbIP",
        "colab": {
          "base_uri": "https://localhost:8080/",
          "height": 440
        }
      },
      "source": [
        "nb = Pipeline([('vect', TfidfVectorizer(stop_words= stop)),\n",
        "               ('tfidf', TfidfTransformer()),\n",
        "               ('clf', MultinomialNB()),\n",
        "              ])\n",
        "nb.fit(X_train, y_train)\n",
        "\n",
        "\n",
        "from sklearn.metrics import classification_report\n",
        "y_pred = nb.predict(X_test)\n",
        "\n",
        "print('accuracy %s' % accuracy_score(y_pred, y_test))\n",
        "print(classification_report(y_test, y_pred,target_names=my_tags))"
      ],
      "execution_count": 13,
      "outputs": [
        {
          "output_type": "stream",
          "text": [
            "accuracy 0.7071428571428572\n",
            "                                          precision    recall  f1-score   support\n",
            "\n",
            "                       Ciências Naturais       0.57      0.89      0.69       142\n",
            "                 Matemática e Computação       1.00      0.07      0.12        30\n",
            "       Engenharia, Produção e Construção       0.90      0.51      0.65        35\n",
            "                Saúde e Bem-Estar Social       0.25      0.05      0.08        20\n",
            "                Humanidades e Linguagens       0.00      0.00      0.00        10\n",
            "Ciências Sociais,Jornalismo e Informação       0.83      0.57      0.67        53\n",
            "                     programas genericos       0.69      0.92      0.79       117\n",
            "                Negócios e Administração       0.69      0.82      0.75       117\n",
            "               Agricultura e Veterinária       0.82      0.75      0.78       131\n",
            "                                Serviços       0.87      0.72      0.79       104\n",
            "                                Educação       0.61      0.81      0.70        97\n",
            "            Programas Interdisciplinares       0.95      0.67      0.78        57\n",
            "            Psicologia e Desenvolvimento       0.94      0.35      0.52        48\n",
            "                                 Direito       1.00      0.26      0.42        19\n",
            "\n",
            "                                accuracy                           0.71       980\n",
            "                               macro avg       0.72      0.53      0.55       980\n",
            "                            weighted avg       0.74      0.71      0.68       980\n",
            "\n"
          ],
          "name": "stdout"
        },
        {
          "output_type": "stream",
          "text": [
            "/usr/local/lib/python3.6/dist-packages/sklearn/metrics/_classification.py:1272: UndefinedMetricWarning: Precision and F-score are ill-defined and being set to 0.0 in labels with no predicted samples. Use `zero_division` parameter to control this behavior.\n",
            "  _warn_prf(average, modifier, msg_start, len(result))\n"
          ],
          "name": "stderr"
        }
      ]
    },
    {
      "cell_type": "code",
      "metadata": {
        "id": "hZ4Wky1i2zYp",
        "colab_type": "code",
        "colab": {
          "base_uri": "https://localhost:8080/",
          "height": 440
        },
        "outputId": "60d52851-bfc3-4554-9df5-103c86b4c52d"
      },
      "source": [
        "from sklearn.ensemble import RandomForestClassifier \n",
        "rf = Pipeline([('vect', TfidfVectorizer(stop_words= stop)),\n",
        "               ('tfidf', TfidfTransformer()),\n",
        "               ('clf', RandomForestClassifier()),\n",
        "              ])\n",
        "rf.fit(X_train, y_train)\n",
        "\n",
        "\n",
        "from sklearn.metrics import classification_report\n",
        "y_pred = nb.predict(X_test)\n",
        "\n",
        "print('accuracy %s' % accuracy_score(y_pred, y_test))\n",
        "print(classification_report(y_test, y_pred,target_names=my_tags))"
      ],
      "execution_count": 14,
      "outputs": [
        {
          "output_type": "stream",
          "text": [
            "accuracy 0.7071428571428572\n",
            "                                          precision    recall  f1-score   support\n",
            "\n",
            "                       Ciências Naturais       0.57      0.89      0.69       142\n",
            "                 Matemática e Computação       1.00      0.07      0.12        30\n",
            "       Engenharia, Produção e Construção       0.90      0.51      0.65        35\n",
            "                Saúde e Bem-Estar Social       0.25      0.05      0.08        20\n",
            "                Humanidades e Linguagens       0.00      0.00      0.00        10\n",
            "Ciências Sociais,Jornalismo e Informação       0.83      0.57      0.67        53\n",
            "                     programas genericos       0.69      0.92      0.79       117\n",
            "                Negócios e Administração       0.69      0.82      0.75       117\n",
            "               Agricultura e Veterinária       0.82      0.75      0.78       131\n",
            "                                Serviços       0.87      0.72      0.79       104\n",
            "                                Educação       0.61      0.81      0.70        97\n",
            "            Programas Interdisciplinares       0.95      0.67      0.78        57\n",
            "            Psicologia e Desenvolvimento       0.94      0.35      0.52        48\n",
            "                                 Direito       1.00      0.26      0.42        19\n",
            "\n",
            "                                accuracy                           0.71       980\n",
            "                               macro avg       0.72      0.53      0.55       980\n",
            "                            weighted avg       0.74      0.71      0.68       980\n",
            "\n"
          ],
          "name": "stdout"
        },
        {
          "output_type": "stream",
          "text": [
            "/usr/local/lib/python3.6/dist-packages/sklearn/metrics/_classification.py:1272: UndefinedMetricWarning: Precision and F-score are ill-defined and being set to 0.0 in labels with no predicted samples. Use `zero_division` parameter to control this behavior.\n",
            "  _warn_prf(average, modifier, msg_start, len(result))\n"
          ],
          "name": "stderr"
        }
      ]
    },
    {
      "cell_type": "code",
      "metadata": {
        "id": "UZQLek2IhaCM",
        "colab_type": "code",
        "colab": {
          "base_uri": "https://localhost:8080/",
          "height": 420
        },
        "outputId": "8757ff1c-687b-4fe7-882c-2c6aa7d56724"
      },
      "source": [
        "from sklearn.linear_model import Perceptron\n",
        "\n",
        "logreg = Pipeline([('vect', TfidfVectorizer(stop_words= stop)),\n",
        "                ('tfidf', TfidfTransformer()),\n",
        "                ('clf', Perceptron()),\n",
        "               ])\n",
        "logreg.fit(X_train, y_train)\n",
        "\n",
        "%time\n",
        "\n",
        "y_pred = logreg.predict(X_test)\n",
        "\n",
        "print('accuracy %s' % accuracy_score(y_pred, y_test))\n",
        "print(classification_report(y_test, y_pred))"
      ],
      "execution_count": 15,
      "outputs": [
        {
          "output_type": "stream",
          "text": [
            "CPU times: user 2 µs, sys: 0 ns, total: 2 µs\n",
            "Wall time: 4.77 µs\n",
            "accuracy 0.7836734693877551\n",
            "              precision    recall  f1-score   support\n",
            "\n",
            "           1       0.78      0.87      0.82       142\n",
            "          10       0.71      0.80      0.75        30\n",
            "          11       0.79      0.86      0.82        35\n",
            "          12       0.73      0.55      0.63        20\n",
            "          13       0.67      0.60      0.63        10\n",
            "          14       0.70      0.70      0.70        53\n",
            "           2       0.84      0.84      0.84       117\n",
            "           3       0.83      0.74      0.78       117\n",
            "           4       0.83      0.76      0.79       131\n",
            "           5       0.88      0.81      0.84       104\n",
            "           6       0.77      0.78      0.78        97\n",
            "           7       0.92      0.81      0.86        57\n",
            "           8       0.47      0.71      0.56        48\n",
            "           9       0.80      0.63      0.71        19\n",
            "\n",
            "    accuracy                           0.78       980\n",
            "   macro avg       0.77      0.75      0.75       980\n",
            "weighted avg       0.79      0.78      0.79       980\n",
            "\n"
          ],
          "name": "stdout"
        }
      ]
    },
    {
      "cell_type": "code",
      "metadata": {
        "id": "nVcbl8pC2zYM",
        "colab_type": "code",
        "colab": {
          "base_uri": "https://localhost:8080/",
          "height": 420
        },
        "outputId": "874726bb-f94c-45ca-d363-ceecec98ef9c"
      },
      "source": [
        "from sklearn.linear_model import SGDClassifier\n",
        "\n",
        "sgd = Pipeline([('vect', CountVectorizer(stop_words= stop)),\n",
        "                ('tfidf', TfidfTransformer()),\n",
        "                ('clf', SGDClassifier(loss='hinge', penalty='l2',alpha=1e-3, random_state=42, max_iter=5, tol=None)),\n",
        "               ])\n",
        "sgd.fit(X_train, y_train)\n",
        "\n",
        "%time\n",
        "\n",
        "y_pred = sgd.predict(X_test)\n",
        "\n",
        "print('accuracy %s' % accuracy_score(y_pred, y_test))\n",
        "print(classification_report(y_test, y_pred,target_names=my_tags))"
      ],
      "execution_count": 16,
      "outputs": [
        {
          "output_type": "stream",
          "text": [
            "CPU times: user 2 µs, sys: 0 ns, total: 2 µs\n",
            "Wall time: 4.53 µs\n",
            "accuracy 0.7969387755102041\n",
            "                                          precision    recall  f1-score   support\n",
            "\n",
            "                       Ciências Naturais       0.83      0.85      0.84       142\n",
            "                 Matemática e Computação       0.81      0.87      0.84        30\n",
            "       Engenharia, Produção e Construção       0.86      0.69      0.76        35\n",
            "                Saúde e Bem-Estar Social       0.57      0.60      0.59        20\n",
            "                Humanidades e Linguagens       0.67      0.20      0.31        10\n",
            "Ciências Sociais,Jornalismo e Informação       0.75      0.81      0.78        53\n",
            "                     programas genericos       0.78      0.89      0.83       117\n",
            "                Negócios e Administração       0.83      0.79      0.81       117\n",
            "               Agricultura e Veterinária       0.75      0.82      0.78       131\n",
            "                                Serviços       0.91      0.79      0.85       104\n",
            "                                Educação       0.72      0.86      0.78        97\n",
            "            Programas Interdisciplinares       0.93      0.74      0.82        57\n",
            "            Psicologia e Desenvolvimento       0.81      0.60      0.69        48\n",
            "                                 Direito       0.67      0.74      0.70        19\n",
            "\n",
            "                                accuracy                           0.80       980\n",
            "                               macro avg       0.78      0.73      0.74       980\n",
            "                            weighted avg       0.80      0.80      0.80       980\n",
            "\n"
          ],
          "name": "stdout"
        }
      ]
    },
    {
      "cell_type": "code",
      "metadata": {
        "id": "aK2SwSoM2zYQ",
        "colab_type": "code",
        "colab": {
          "base_uri": "https://localhost:8080/",
          "height": 554
        },
        "outputId": "6731bb5e-ead0-46dd-f127-85740f610b6f"
      },
      "source": [
        "from sklearn.linear_model import LogisticRegression\n",
        "\n",
        "logreg = Pipeline([('vect', TfidfVectorizer(stop_words= stop)),\n",
        "                ('tfidf', TfidfTransformer()),\n",
        "                ('clf', LogisticRegression(n_jobs=1, C=1e5)),\n",
        "               ])\n",
        "logreg.fit(X_train, y_train)\n",
        "\n",
        "%time\n",
        "\n",
        "y_pred = logreg.predict(X_test)\n",
        "\n",
        "print('accuracy %s' % accuracy_score(y_pred, y_test))\n",
        "print(classification_report(y_test, y_pred))"
      ],
      "execution_count": 17,
      "outputs": [
        {
          "output_type": "stream",
          "text": [
            "CPU times: user 5 µs, sys: 2 µs, total: 7 µs\n",
            "Wall time: 6.2 µs\n",
            "accuracy 0.810204081632653\n",
            "              precision    recall  f1-score   support\n",
            "\n",
            "           1       0.82      0.85      0.84       142\n",
            "          10       0.85      0.77      0.81        30\n",
            "          11       0.82      0.77      0.79        35\n",
            "          12       0.65      0.65      0.65        20\n",
            "          13       0.55      0.60      0.57        10\n",
            "          14       0.76      0.77      0.77        53\n",
            "           2       0.86      0.92      0.89       117\n",
            "           3       0.86      0.77      0.81       117\n",
            "           4       0.77      0.81      0.79       131\n",
            "           5       0.92      0.81      0.86       104\n",
            "           6       0.74      0.82      0.78        97\n",
            "           7       0.83      0.88      0.85        57\n",
            "           8       0.82      0.67      0.74        48\n",
            "           9       0.62      0.68      0.65        19\n",
            "\n",
            "    accuracy                           0.81       980\n",
            "   macro avg       0.78      0.77      0.77       980\n",
            "weighted avg       0.81      0.81      0.81       980\n",
            "\n"
          ],
          "name": "stdout"
        },
        {
          "output_type": "stream",
          "text": [
            "/usr/local/lib/python3.6/dist-packages/sklearn/linear_model/_logistic.py:940: ConvergenceWarning: lbfgs failed to converge (status=1):\n",
            "STOP: TOTAL NO. of ITERATIONS REACHED LIMIT.\n",
            "\n",
            "Increase the number of iterations (max_iter) or scale the data as shown in:\n",
            "    https://scikit-learn.org/stable/modules/preprocessing.html\n",
            "Please also refer to the documentation for alternative solver options:\n",
            "    https://scikit-learn.org/stable/modules/linear_model.html#logistic-regression\n",
            "  extra_warning_msg=_LOGISTIC_SOLVER_CONVERGENCE_MSG)\n"
          ],
          "name": "stderr"
        }
      ]
    },
    {
      "cell_type": "code",
      "metadata": {
        "id": "vEEEIuxhhY1n",
        "colab_type": "code",
        "colab": {
          "base_uri": "https://localhost:8080/",
          "height": 420
        },
        "outputId": "5297db68-10d1-42e2-b9b9-b5c6341c3ba5"
      },
      "source": [
        "from sklearn.linear_model import PassiveAggressiveClassifier\n",
        "\n",
        "logreg = Pipeline([('vect', TfidfVectorizer(stop_words= stop)),\n",
        "                ('tfidf', TfidfTransformer()),\n",
        "                ('clf', PassiveAggressiveClassifier()),\n",
        "               ])\n",
        "logreg.fit(X_train, y_train)\n",
        "\n",
        "%time\n",
        "\n",
        "y_pred = logreg.predict(X_test)\n",
        "\n",
        "print('accuracy %s' % accuracy_score(y_pred, y_test))\n",
        "print(classification_report(y_test, y_pred))"
      ],
      "execution_count": 18,
      "outputs": [
        {
          "output_type": "stream",
          "text": [
            "CPU times: user 3 µs, sys: 1 µs, total: 4 µs\n",
            "Wall time: 7.39 µs\n",
            "accuracy 0.8020408163265306\n",
            "              precision    recall  f1-score   support\n",
            "\n",
            "           1       0.81      0.87      0.84       142\n",
            "          10       0.89      0.80      0.84        30\n",
            "          11       0.71      0.77      0.74        35\n",
            "          12       0.60      0.60      0.60        20\n",
            "          13       0.78      0.70      0.74        10\n",
            "          14       0.68      0.74      0.71        53\n",
            "           2       0.85      0.89      0.87       117\n",
            "           3       0.86      0.82      0.84       117\n",
            "           4       0.74      0.77      0.76       131\n",
            "           5       0.90      0.82      0.86       104\n",
            "           6       0.75      0.78      0.77        97\n",
            "           7       0.91      0.86      0.88        57\n",
            "           8       0.77      0.62      0.69        48\n",
            "           9       0.68      0.68      0.68        19\n",
            "\n",
            "    accuracy                           0.80       980\n",
            "   macro avg       0.78      0.77      0.77       980\n",
            "weighted avg       0.80      0.80      0.80       980\n",
            "\n"
          ],
          "name": "stdout"
        }
      ]
    },
    {
      "cell_type": "code",
      "metadata": {
        "id": "C-yqA9-ehsWE",
        "colab_type": "code",
        "colab": {
          "base_uri": "https://localhost:8080/",
          "height": 420
        },
        "outputId": "ad4c4097-e9ff-43de-e04b-a267ad877cf1"
      },
      "source": [
        "from sklearn.linear_model import RidgeClassifierCV\n",
        "\n",
        "logreg = Pipeline([('vect', TfidfVectorizer(stop_words= stop)),\n",
        "                ('tfidf', TfidfTransformer()),\n",
        "                ('clf', RidgeClassifierCV()),\n",
        "               ])\n",
        "logreg.fit(X_train, y_train)\n",
        "\n",
        "%time\n",
        "\n",
        "y_pred = logreg.predict(X_test)\n",
        "\n",
        "print('accuracy %s' % accuracy_score(y_pred, y_test))\n",
        "print(classification_report(y_test, y_pred))"
      ],
      "execution_count": 19,
      "outputs": [
        {
          "output_type": "stream",
          "text": [
            "CPU times: user 5 µs, sys: 1e+03 ns, total: 6 µs\n",
            "Wall time: 7.15 µs\n",
            "accuracy 0.8071428571428572\n",
            "              precision    recall  f1-score   support\n",
            "\n",
            "           1       0.84      0.86      0.85       142\n",
            "          10       0.76      0.83      0.79        30\n",
            "          11       0.76      0.74      0.75        35\n",
            "          12       0.71      0.60      0.65        20\n",
            "          13       0.57      0.40      0.47        10\n",
            "          14       0.71      0.75      0.73        53\n",
            "           2       0.87      0.91      0.89       117\n",
            "           3       0.73      0.88      0.80       117\n",
            "           4       0.88      0.76      0.82       131\n",
            "           5       0.93      0.80      0.86       104\n",
            "           6       0.67      0.80      0.73        97\n",
            "           7       0.98      0.82      0.90        57\n",
            "           8       0.80      0.67      0.73        48\n",
            "           9       0.76      0.68      0.72        19\n",
            "\n",
            "    accuracy                           0.81       980\n",
            "   macro avg       0.78      0.75      0.76       980\n",
            "weighted avg       0.82      0.81      0.81       980\n",
            "\n"
          ],
          "name": "stdout"
        }
      ]
    },
    {
      "cell_type": "code",
      "metadata": {
        "id": "E3vVg8yvh0zE",
        "colab_type": "code",
        "colab": {
          "base_uri": "https://localhost:8080/",
          "height": 420
        },
        "outputId": "c9501219-2272-42c7-ee10-a2618ffd0597"
      },
      "source": [
        "from sklearn.tree import DecisionTreeClassifier\n",
        "\n",
        "dt = Pipeline([('vect', TfidfVectorizer(stop_words= stop)),\n",
        "                ('tfidf', TfidfTransformer()),\n",
        "                ('clf', RidgeClassifierCV()),\n",
        "               ])\n",
        "dt.fit(X_train, y_train)\n",
        "\n",
        "%time\n",
        "\n",
        "y_pred = logreg.predict(X_test)\n",
        "\n",
        "print('accuracy %s' % accuracy_score(y_pred, y_test))\n",
        "print(classification_report(y_test, y_pred))"
      ],
      "execution_count": 20,
      "outputs": [
        {
          "output_type": "stream",
          "text": [
            "CPU times: user 5 µs, sys: 1e+03 ns, total: 6 µs\n",
            "Wall time: 7.39 µs\n",
            "accuracy 0.8071428571428572\n",
            "              precision    recall  f1-score   support\n",
            "\n",
            "           1       0.84      0.86      0.85       142\n",
            "          10       0.76      0.83      0.79        30\n",
            "          11       0.76      0.74      0.75        35\n",
            "          12       0.71      0.60      0.65        20\n",
            "          13       0.57      0.40      0.47        10\n",
            "          14       0.71      0.75      0.73        53\n",
            "           2       0.87      0.91      0.89       117\n",
            "           3       0.73      0.88      0.80       117\n",
            "           4       0.88      0.76      0.82       131\n",
            "           5       0.93      0.80      0.86       104\n",
            "           6       0.67      0.80      0.73        97\n",
            "           7       0.98      0.82      0.90        57\n",
            "           8       0.80      0.67      0.73        48\n",
            "           9       0.76      0.68      0.72        19\n",
            "\n",
            "    accuracy                           0.81       980\n",
            "   macro avg       0.78      0.75      0.76       980\n",
            "weighted avg       0.82      0.81      0.81       980\n",
            "\n"
          ],
          "name": "stdout"
        }
      ]
    },
    {
      "cell_type": "code",
      "metadata": {
        "id": "NrjokcPQinJI",
        "colab_type": "code",
        "colab": {
          "base_uri": "https://localhost:8080/",
          "height": 420
        },
        "outputId": "c8216c65-4464-4e6e-f853-1a770aecdadf"
      },
      "source": [
        "from sklearn.svm import SVC\n",
        "from sklearn.feature_extraction import DictVectorizer\n",
        "svc = Pipeline([('vect', CountVectorizer(stop_words= stop)),\n",
        "                ('tfidf', TfidfTransformer()),\n",
        "                ('clf', SVC(kernel='linear')),\n",
        "               ])\n",
        "svc.fit(X_train, y_train)\n",
        "\n",
        "%time\n",
        "\n",
        "y_pred = logreg.predict(X_test)\n",
        "\n",
        "print('accuracy %s' % accuracy_score(y_pred, y_test))\n",
        "print(classification_report(y_test, y_pred))"
      ],
      "execution_count": 21,
      "outputs": [
        {
          "output_type": "stream",
          "text": [
            "CPU times: user 2 µs, sys: 0 ns, total: 2 µs\n",
            "Wall time: 5.48 µs\n",
            "accuracy 0.8071428571428572\n",
            "              precision    recall  f1-score   support\n",
            "\n",
            "           1       0.84      0.86      0.85       142\n",
            "          10       0.76      0.83      0.79        30\n",
            "          11       0.76      0.74      0.75        35\n",
            "          12       0.71      0.60      0.65        20\n",
            "          13       0.57      0.40      0.47        10\n",
            "          14       0.71      0.75      0.73        53\n",
            "           2       0.87      0.91      0.89       117\n",
            "           3       0.73      0.88      0.80       117\n",
            "           4       0.88      0.76      0.82       131\n",
            "           5       0.93      0.80      0.86       104\n",
            "           6       0.67      0.80      0.73        97\n",
            "           7       0.98      0.82      0.90        57\n",
            "           8       0.80      0.67      0.73        48\n",
            "           9       0.76      0.68      0.72        19\n",
            "\n",
            "    accuracy                           0.81       980\n",
            "   macro avg       0.78      0.75      0.76       980\n",
            "weighted avg       0.82      0.81      0.81       980\n",
            "\n"
          ],
          "name": "stdout"
        }
      ]
    },
    {
      "cell_type": "code",
      "metadata": {
        "id": "jLpfKLwljeTu",
        "colab_type": "code",
        "colab": {
          "base_uri": "https://localhost:8080/",
          "height": 488
        },
        "outputId": "2e126269-a17b-4d7e-9432-f9b7d5476e38"
      },
      "source": [
        "url = 'https://raw.githubusercontent.com/Antonioarf/blox/master/excel/cansei.csv'\n",
        "teste = pd.read_csv(url)"
      ],
      "execution_count": 29,
      "outputs": [
        {
          "output_type": "error",
          "ename": "ParserError",
          "evalue": "ignored",
          "traceback": [
            "\u001b[0;31m---------------------------------------------------------------------------\u001b[0m",
            "\u001b[0;31mParserError\u001b[0m                               Traceback (most recent call last)",
            "\u001b[0;32m<ipython-input-29-351f42604822>\u001b[0m in \u001b[0;36m<module>\u001b[0;34m()\u001b[0m\n\u001b[1;32m      1\u001b[0m \u001b[0murl\u001b[0m \u001b[0;34m=\u001b[0m \u001b[0;34m'https://raw.githubusercontent.com/Antonioarf/blox/master/excel/cansei.csv'\u001b[0m\u001b[0;34m\u001b[0m\u001b[0;34m\u001b[0m\u001b[0m\n\u001b[0;32m----> 2\u001b[0;31m \u001b[0mteste\u001b[0m \u001b[0;34m=\u001b[0m \u001b[0mpd\u001b[0m\u001b[0;34m.\u001b[0m\u001b[0mread_csv\u001b[0m\u001b[0;34m(\u001b[0m\u001b[0murl\u001b[0m\u001b[0;34m)\u001b[0m\u001b[0;34m\u001b[0m\u001b[0;34m\u001b[0m\u001b[0m\n\u001b[0m",
            "\u001b[0;32m/usr/local/lib/python3.6/dist-packages/pandas/io/parsers.py\u001b[0m in \u001b[0;36mparser_f\u001b[0;34m(filepath_or_buffer, sep, delimiter, header, names, index_col, usecols, squeeze, prefix, mangle_dupe_cols, dtype, engine, converters, true_values, false_values, skipinitialspace, skiprows, skipfooter, nrows, na_values, keep_default_na, na_filter, verbose, skip_blank_lines, parse_dates, infer_datetime_format, keep_date_col, date_parser, dayfirst, cache_dates, iterator, chunksize, compression, thousands, decimal, lineterminator, quotechar, quoting, doublequote, escapechar, comment, encoding, dialect, error_bad_lines, warn_bad_lines, delim_whitespace, low_memory, memory_map, float_precision)\u001b[0m\n\u001b[1;32m    683\u001b[0m         )\n\u001b[1;32m    684\u001b[0m \u001b[0;34m\u001b[0m\u001b[0m\n\u001b[0;32m--> 685\u001b[0;31m         \u001b[0;32mreturn\u001b[0m \u001b[0m_read\u001b[0m\u001b[0;34m(\u001b[0m\u001b[0mfilepath_or_buffer\u001b[0m\u001b[0;34m,\u001b[0m \u001b[0mkwds\u001b[0m\u001b[0;34m)\u001b[0m\u001b[0;34m\u001b[0m\u001b[0;34m\u001b[0m\u001b[0m\n\u001b[0m\u001b[1;32m    686\u001b[0m \u001b[0;34m\u001b[0m\u001b[0m\n\u001b[1;32m    687\u001b[0m     \u001b[0mparser_f\u001b[0m\u001b[0;34m.\u001b[0m\u001b[0m__name__\u001b[0m \u001b[0;34m=\u001b[0m \u001b[0mname\u001b[0m\u001b[0;34m\u001b[0m\u001b[0;34m\u001b[0m\u001b[0m\n",
            "\u001b[0;32m/usr/local/lib/python3.6/dist-packages/pandas/io/parsers.py\u001b[0m in \u001b[0;36m_read\u001b[0;34m(filepath_or_buffer, kwds)\u001b[0m\n\u001b[1;32m    461\u001b[0m \u001b[0;34m\u001b[0m\u001b[0m\n\u001b[1;32m    462\u001b[0m     \u001b[0;32mtry\u001b[0m\u001b[0;34m:\u001b[0m\u001b[0;34m\u001b[0m\u001b[0;34m\u001b[0m\u001b[0m\n\u001b[0;32m--> 463\u001b[0;31m         \u001b[0mdata\u001b[0m \u001b[0;34m=\u001b[0m \u001b[0mparser\u001b[0m\u001b[0;34m.\u001b[0m\u001b[0mread\u001b[0m\u001b[0;34m(\u001b[0m\u001b[0mnrows\u001b[0m\u001b[0;34m)\u001b[0m\u001b[0;34m\u001b[0m\u001b[0;34m\u001b[0m\u001b[0m\n\u001b[0m\u001b[1;32m    464\u001b[0m     \u001b[0;32mfinally\u001b[0m\u001b[0;34m:\u001b[0m\u001b[0;34m\u001b[0m\u001b[0;34m\u001b[0m\u001b[0m\n\u001b[1;32m    465\u001b[0m         \u001b[0mparser\u001b[0m\u001b[0;34m.\u001b[0m\u001b[0mclose\u001b[0m\u001b[0;34m(\u001b[0m\u001b[0;34m)\u001b[0m\u001b[0;34m\u001b[0m\u001b[0;34m\u001b[0m\u001b[0m\n",
            "\u001b[0;32m/usr/local/lib/python3.6/dist-packages/pandas/io/parsers.py\u001b[0m in \u001b[0;36mread\u001b[0;34m(self, nrows)\u001b[0m\n\u001b[1;32m   1152\u001b[0m     \u001b[0;32mdef\u001b[0m \u001b[0mread\u001b[0m\u001b[0;34m(\u001b[0m\u001b[0mself\u001b[0m\u001b[0;34m,\u001b[0m \u001b[0mnrows\u001b[0m\u001b[0;34m=\u001b[0m\u001b[0;32mNone\u001b[0m\u001b[0;34m)\u001b[0m\u001b[0;34m:\u001b[0m\u001b[0;34m\u001b[0m\u001b[0;34m\u001b[0m\u001b[0m\n\u001b[1;32m   1153\u001b[0m         \u001b[0mnrows\u001b[0m \u001b[0;34m=\u001b[0m \u001b[0m_validate_integer\u001b[0m\u001b[0;34m(\u001b[0m\u001b[0;34m\"nrows\"\u001b[0m\u001b[0;34m,\u001b[0m \u001b[0mnrows\u001b[0m\u001b[0;34m)\u001b[0m\u001b[0;34m\u001b[0m\u001b[0;34m\u001b[0m\u001b[0m\n\u001b[0;32m-> 1154\u001b[0;31m         \u001b[0mret\u001b[0m \u001b[0;34m=\u001b[0m \u001b[0mself\u001b[0m\u001b[0;34m.\u001b[0m\u001b[0m_engine\u001b[0m\u001b[0;34m.\u001b[0m\u001b[0mread\u001b[0m\u001b[0;34m(\u001b[0m\u001b[0mnrows\u001b[0m\u001b[0;34m)\u001b[0m\u001b[0;34m\u001b[0m\u001b[0;34m\u001b[0m\u001b[0m\n\u001b[0m\u001b[1;32m   1155\u001b[0m \u001b[0;34m\u001b[0m\u001b[0m\n\u001b[1;32m   1156\u001b[0m         \u001b[0;31m# May alter columns / col_dict\u001b[0m\u001b[0;34m\u001b[0m\u001b[0;34m\u001b[0m\u001b[0;34m\u001b[0m\u001b[0m\n",
            "\u001b[0;32m/usr/local/lib/python3.6/dist-packages/pandas/io/parsers.py\u001b[0m in \u001b[0;36mread\u001b[0;34m(self, nrows)\u001b[0m\n\u001b[1;32m   2057\u001b[0m     \u001b[0;32mdef\u001b[0m \u001b[0mread\u001b[0m\u001b[0;34m(\u001b[0m\u001b[0mself\u001b[0m\u001b[0;34m,\u001b[0m \u001b[0mnrows\u001b[0m\u001b[0;34m=\u001b[0m\u001b[0;32mNone\u001b[0m\u001b[0;34m)\u001b[0m\u001b[0;34m:\u001b[0m\u001b[0;34m\u001b[0m\u001b[0;34m\u001b[0m\u001b[0m\n\u001b[1;32m   2058\u001b[0m         \u001b[0;32mtry\u001b[0m\u001b[0;34m:\u001b[0m\u001b[0;34m\u001b[0m\u001b[0;34m\u001b[0m\u001b[0m\n\u001b[0;32m-> 2059\u001b[0;31m             \u001b[0mdata\u001b[0m \u001b[0;34m=\u001b[0m \u001b[0mself\u001b[0m\u001b[0;34m.\u001b[0m\u001b[0m_reader\u001b[0m\u001b[0;34m.\u001b[0m\u001b[0mread\u001b[0m\u001b[0;34m(\u001b[0m\u001b[0mnrows\u001b[0m\u001b[0;34m)\u001b[0m\u001b[0;34m\u001b[0m\u001b[0;34m\u001b[0m\u001b[0m\n\u001b[0m\u001b[1;32m   2060\u001b[0m         \u001b[0;32mexcept\u001b[0m \u001b[0mStopIteration\u001b[0m\u001b[0;34m:\u001b[0m\u001b[0;34m\u001b[0m\u001b[0;34m\u001b[0m\u001b[0m\n\u001b[1;32m   2061\u001b[0m             \u001b[0;32mif\u001b[0m \u001b[0mself\u001b[0m\u001b[0;34m.\u001b[0m\u001b[0m_first_chunk\u001b[0m\u001b[0;34m:\u001b[0m\u001b[0;34m\u001b[0m\u001b[0;34m\u001b[0m\u001b[0m\n",
            "\u001b[0;32mpandas/_libs/parsers.pyx\u001b[0m in \u001b[0;36mpandas._libs.parsers.TextReader.read\u001b[0;34m()\u001b[0m\n",
            "\u001b[0;32mpandas/_libs/parsers.pyx\u001b[0m in \u001b[0;36mpandas._libs.parsers.TextReader._read_low_memory\u001b[0;34m()\u001b[0m\n",
            "\u001b[0;32mpandas/_libs/parsers.pyx\u001b[0m in \u001b[0;36mpandas._libs.parsers.TextReader._read_rows\u001b[0;34m()\u001b[0m\n",
            "\u001b[0;32mpandas/_libs/parsers.pyx\u001b[0m in \u001b[0;36mpandas._libs.parsers.TextReader._tokenize_rows\u001b[0;34m()\u001b[0m\n",
            "\u001b[0;32mpandas/_libs/parsers.pyx\u001b[0m in \u001b[0;36mpandas._libs.parsers.raise_parser_error\u001b[0;34m()\u001b[0m\n",
            "\u001b[0;31mParserError\u001b[0m: Error tokenizing data. C error: Expected 2 fields in line 138, saw 3\n"
          ]
        }
      ]
    },
    {
      "cell_type": "code",
      "metadata": {
        "id": "EmURmYWaRSDI",
        "colab_type": "code",
        "colab": {}
      },
      "source": [
        ""
      ],
      "execution_count": 0,
      "outputs": []
    }
  ]
}