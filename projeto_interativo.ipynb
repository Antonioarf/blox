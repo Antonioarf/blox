{
  "nbformat": 4,
  "nbformat_minor": 0,
  "metadata": {
    "kernelspec": {
      "display_name": "Python 3",
      "language": "python",
      "name": "python3"
    },
    "language_info": {
      "codemirror_mode": {
        "name": "ipython",
        "version": 3
      },
      "file_extension": ".py",
      "mimetype": "text/x-python",
      "name": "python",
      "nbconvert_exporter": "python",
      "pygments_lexer": "ipython3",
      "version": "3.7.4"
    },
    "colab": {
      "name": "regreção.ipynb",
      "provenance": []
    }
  },
  "cells": [
    {
      "cell_type": "code",
      "metadata": {
        "id": "iB-0hkpF2zXY",
        "colab_type": "code",
        "outputId": "9876e6a7-7d75-4cd1-feb7-b4337ab3cfae",
        "colab": {
          "base_uri": "https://localhost:8080/",
          "height": 34
        }
      },
      "source": [
        "# encoding: utf-8\n",
        "# encoding: iso-8859-1\n",
        "# encoding: win-1252\n",
        "import pandas as pd;\n",
        "import numpy as np\n",
        "import matplotlib.pyplot as plt\n",
        "from sklearn.model_selection import train_test_split\n",
        "from sklearn.utils import shuffle\n",
        "\n",
        "!pip install stop_words\n",
        "from stop_words import get_stop_words\n",
        "from sklearn.metrics import accuracy_score\n",
        "from scipy.stats import expon, binom, t, norm, probplot, scoreatpercentile, percentileofscore\n",
        "import seaborn as sns # evite fazer pairplot! Estoura a memória\n",
        "import statsmodels.api as sm \n",
        "from sklearn.naive_bayes import MultinomialNB\n",
        "from sklearn.pipeline import Pipeline\n",
        "from sklearn.feature_extraction.text import TfidfTransformer\n",
        "from sklearn.feature_extraction.text import CountVectorizer\n",
        "from sklearn.feature_extraction.text import TfidfVectorizer\n",
        "from sklearn import svm\n",
        "# %matplotlib inline\n",
        "# df1.to_excel(r'C:\\Users\\Antonio Fonseca\\Desktop\\BLOX\\ementas.xlsx')\n",
        "# n esquecer do tensorflow\n",
        "import nltk\n",
        "from nltk.corpus import stopwords\n",
        "\n",
        "\n",
        "from nltk.tokenize import word_tokenize\n",
        "from nltk import pos_tag\n",
        "from nltk.corpus import stopwords\n",
        "from nltk.stem import WordNetLemmatizer\n",
        "from sklearn.preprocessing import LabelEncoder\n",
        "from collections import defaultdict\n",
        "from nltk.corpus import wordnet as wn\n",
        "from sklearn.feature_extraction.text import TfidfVectorizer\n",
        "from sklearn import model_selection, naive_bayes, svm\n",
        "from sklearn.metrics import accuracy_score"
      ],
      "execution_count": 1,
      "outputs": [
        {
          "output_type": "stream",
          "text": [
            "Requirement already satisfied: stop_words in /usr/local/lib/python3.6/dist-packages (2018.7.23)\n"
          ],
          "name": "stdout"
        }
      ]
    },
    {
      "cell_type": "code",
      "metadata": {
        "id": "ZP7XytfimDWs",
        "colab_type": "code",
        "colab": {
          "base_uri": "https://localhost:8080/",
          "height": 34
        },
        "outputId": "43811226-50b0-4cfb-8736-602946f6b5a5"
      },
      "source": [
        "url = 'https://github.com/Antonioarf/blox/blob/master/excel/testar-Fecaf.xlsx?raw=true'\n",
        "teste = pd.read_excel(url)\n",
        "teste = teste.dropna()\n",
        "teste.head()\n",
        "# lista = list()\n",
        "teste.shape"
      ],
      "execution_count": 2,
      "outputs": [
        {
          "output_type": "execute_result",
          "data": {
            "text/plain": [
              "(667, 2)"
            ]
          },
          "metadata": {
            "tags": []
          },
          "execution_count": 2
        }
      ]
    },
    {
      "cell_type": "code",
      "metadata": {
        "id": "LAWog7zv2zXe",
        "colab_type": "code",
        "outputId": "75189f64-3ce6-4161-896b-4da6e00c4af3",
        "colab": {
          "base_uri": "https://localhost:8080/",
          "height": 101
        }
      },
      "source": [
        "# treino = pd.read_csv('treino.csv')  \n",
        "url = 'https://github.com/Antonioarf/blox/blob/master/excel/Book1.xlsx?raw=true'\n",
        "df1 = pd.read_excel(url)\n",
        "df1 = df1.loc[:, ~df1.columns.str.contains('^Unnamed')]\n",
        "treino = df1.dropna()\n",
        "treino1 = treino[treino[\"ÁREA DO CONHECIMENTO\"] != \"Agricultura e Veterinária\"]\n",
        "treino1= treino1[treino[\"ÁREA DO CONHECIMENTO\"] != 'programas genericos']\n",
        "treino1 = treino1[treino[\"ÁREA DO CONHECIMENTO\"] != 'Programas Interdisciplinares']\n",
        "treino1.shape\n",
        "# treino.head()"
      ],
      "execution_count": 3,
      "outputs": [
        {
          "output_type": "stream",
          "text": [
            "/usr/local/lib/python3.6/dist-packages/ipykernel_launcher.py:6: UserWarning: Boolean Series key will be reindexed to match DataFrame index.\n",
            "  \n",
            "/usr/local/lib/python3.6/dist-packages/ipykernel_launcher.py:7: UserWarning: Boolean Series key will be reindexed to match DataFrame index.\n",
            "  import sys\n"
          ],
          "name": "stderr"
        },
        {
          "output_type": "execute_result",
          "data": {
            "text/plain": [
              "(4805, 2)"
            ]
          },
          "metadata": {
            "tags": []
          },
          "execution_count": 3
        }
      ]
    },
    {
      "cell_type": "code",
      "metadata": {
        "id": "qgg3O2fi2zXk",
        "colab_type": "code",
        "outputId": "5ae66f3d-f185-4138-8bf5-ef1f13e247ac",
        "colab": {
          "base_uri": "https://localhost:8080/",
          "height": 34
        }
      },
      "source": [
        "def deletar_caracteres(coluna):\n",
        " coluna = coluna.replace(\"Humanidades e Linguagens\",\"Humanidades, Artes e Linguagens\").replace(\"Matemática e Computação\",\"Matemática, Computação e Tecnologias de Informação e Comunicacão\").replace(\"Ciências Sociais e Negócios\",\"Ciências Sociais, Jornalismo e Informação\").replace(\"Psicologia e Desenvolvimento\",\"Psicologia e Desenvolvimento Pessoal\").replace(\"Negócios e Administração\",\"Administração e Negócios\")\n",
        " coluna = coluna.replace(\"Ciências Sociais, Jornalismo e Informação\",'1').replace(\"Saúde e Bem-Estar Social\",'2').replace(\"Engenharia, Produção e Construção\",'3').replace(\"Ciências Naturais\",'4').replace('Humanidades, Artes e Linguagens','5').replace(\"Matemática, Computação e Tecnologias de Informação e Comunicacão\",'6').replace(\"Direito\",'7').replace(\"Educação\",'8').replace(\"Psicologia e Desenvolvimento Pessoal\",'9').replace(\"Serviços\",'10').replace(\"Administração e Negócios\",'11')\n",
        " return coluna\n",
        "treino1 =  treino1.dropna()\n",
        "treino.shape"
      ],
      "execution_count": 5,
      "outputs": [
        {
          "output_type": "execute_result",
          "data": {
            "text/plain": [
              "(5304, 2)"
            ]
          },
          "metadata": {
            "tags": []
          },
          "execution_count": 5
        }
      ]
    },
    {
      "cell_type": "code",
      "metadata": {
        "id": "bD6FmkTC2zXs",
        "colab_type": "code",
        "colab": {}
      },
      "source": [
        "y = deletar_caracteres(treino1[\"ÁREA DO CONHECIMENTO\"])\n",
        "# print (y.value_counts())\n",
        "# print()\n",
        "# print()\n",
        "# print (teste[\"ÁREA DO CONHECIMENTO\"].value_counts())"
      ],
      "execution_count": 0,
      "outputs": []
    },
    {
      "cell_type": "code",
      "metadata": {
        "id": "MQpt_DrE2zXz",
        "colab_type": "code",
        "colab": {}
      },
      "source": [
        "\n",
        "#treino = treino.drop([\"ÁREA DO CONHECIMENTO_x\", \"Unnamed: 0\",'p_r'], axis=1)\n",
        "# y = y.to_numpy()"
      ],
      "execution_count": 0,
      "outputs": []
    },
    {
      "cell_type": "code",
      "metadata": {
        "id": "nIbaOcBg2zX6",
        "colab_type": "code",
        "outputId": "1a58eb94-1cbf-4917-a0d4-e66835e4d936",
        "colab": {
          "base_uri": "https://localhost:8080/",
          "height": 218
        }
      },
      "source": [
        "\n",
        "# z= treino[['obj','programa']]\n",
        "# treino[\"tudo\"] = treino[\"obj\"] + treino[\"programa\"]\n",
        "x = treino[\"materias\"]\n",
        "# x= treino['programa']\n",
        "# treino = treino.to_numpy()\n",
        "y"
      ],
      "execution_count": 8,
      "outputs": [
        {
          "output_type": "execute_result",
          "data": {
            "text/plain": [
              "1        9\n",
              "2        7\n",
              "3        1\n",
              "4        9\n",
              "5        5\n",
              "        ..\n",
              "5300    11\n",
              "5301    11\n",
              "5302     9\n",
              "5303     3\n",
              "5304     9\n",
              "Name: ÁREA DO CONHECIMENTO, Length: 4805, dtype: object"
            ]
          },
          "metadata": {
            "tags": []
          },
          "execution_count": 8
        }
      ]
    },
    {
      "cell_type": "code",
      "metadata": {
        "id": "y8liTvhL2zX_",
        "colab_type": "code",
        "colab": {
          "base_uri": "https://localhost:8080/",
          "height": 218
        },
        "outputId": "65edabd1-eb36-4cde-bb7a-adae70f79119"
      },
      "source": [
        "# X_train, X_test, y_train, y_test = train_test_split(x,y, test_size=0.3,random_state=100)\n",
        "X_train = treino[\"materias\"]\n",
        "X_test = teste[\"DISCIPLINA\"]\n",
        "y_train = deletar_caracteres(treino[\"ÁREA DO CONHECIMENTO\"])\n",
        "y_test = deletar_caracteres(teste[\"ÁREA DO CONHECIMENTO\"])\n",
        "\n",
        "stop = get_stop_words('pt')\n",
        "X_test"
      ],
      "execution_count": 9,
      "outputs": [
        {
          "output_type": "execute_result",
          "data": {
            "text/plain": [
              "0                            Ética, Ciência e Profissão\n",
              "1                       Ética Profissional e Compliance\n",
              "2                                Ética e Serviço Social\n",
              "3               Ética e Responsabilidade Socioambiental\n",
              "4                                              Voleibol\n",
              "                             ...                       \n",
              "663    Administração de Produção, Materiais e Logística\n",
              "664      Administração de Cargos, Salários e Benefícios\n",
              "665                          Acompanhamento Terapêutico\n",
              "666                              Acionamentos Elétricos\n",
              "667                                 Abordagem Sistêmica\n",
              "Name: DISCIPLINA, Length: 667, dtype: object"
            ]
          },
          "metadata": {
            "tags": []
          },
          "execution_count": 9
        }
      ]
    },
    {
      "cell_type": "code",
      "metadata": {
        "id": "7dlw1ULN-cZR",
        "colab_type": "code",
        "colab": {}
      },
      "source": [
        "\n",
        "my_tags = ['1','2','3','4','5','6','7','8','9','10','11']\n",
        "# my_tags =[1,2,3,4,5,6,7,8,9,10,11]"
      ],
      "execution_count": 0,
      "outputs": []
    },
    {
      "cell_type": "code",
      "metadata": {
        "colab_type": "code",
        "outputId": "9e76e795-8388-4f54-9b79-423133d081ee",
        "id": "u2upzSGSzbIP",
        "colab": {
          "base_uri": "https://localhost:8080/",
          "height": 390
        }
      },
      "source": [
        "nb = Pipeline([('vect', TfidfVectorizer()),\n",
        "              ('tfidf', TfidfTransformer()),\n",
        "               ('clf', MultinomialNB()),\n",
        "              ])\n",
        "nb.fit(X_train, y_train)\n",
        "\n",
        "\n",
        "from sklearn.metrics import classification_report\n",
        "y_pred = nb.predict(X_test)\n",
        "\n",
        "print('accuracy %s' % accuracy_score(y_pred, y_test))\n",
        "print(classification_report(y_test, y_pred,target_names=my_tags))"
      ],
      "execution_count": 11,
      "outputs": [
        {
          "output_type": "stream",
          "text": [
            "accuracy 0.638680659670165\n",
            "              precision    recall  f1-score   support\n",
            "\n",
            "           1       0.15      0.89      0.26        19\n",
            "           2       0.00      0.00      0.00         1\n",
            "           3       0.00      0.00      0.00       110\n",
            "           4       0.73      0.97      0.83       191\n",
            "           5       0.68      0.88      0.76       113\n",
            "           6       0.75      0.95      0.84        22\n",
            "           7       0.20      0.75      0.32         4\n",
            "           8       0.94      0.57      0.71        53\n",
            "           9       0.89      0.61      0.73        54\n",
            "          10       0.92      0.52      0.67        46\n",
            "          11       1.00      0.24      0.39        54\n",
            "\n",
            "    accuracy                           0.64       667\n",
            "   macro avg       0.57      0.58      0.50       667\n",
            "weighted avg       0.64      0.64      0.60       667\n",
            "\n"
          ],
          "name": "stdout"
        },
        {
          "output_type": "stream",
          "text": [
            "/usr/local/lib/python3.6/dist-packages/sklearn/metrics/_classification.py:1272: UndefinedMetricWarning: Precision and F-score are ill-defined and being set to 0.0 in labels with no predicted samples. Use `zero_division` parameter to control this behavior.\n",
            "  _warn_prf(average, modifier, msg_start, len(result))\n"
          ],
          "name": "stderr"
        }
      ]
    },
    {
      "cell_type": "code",
      "metadata": {
        "id": "hZ4Wky1i2zYp",
        "colab_type": "code",
        "outputId": "b66f0158-95cd-4585-e4fc-b23c28542215",
        "colab": {
          "base_uri": "https://localhost:8080/",
          "height": 390
        }
      },
      "source": [
        "\n",
        "from sklearn.ensemble import RandomForestClassifier \n",
        "rf = Pipeline([('vect', CountVectorizer(stop_words= stop)),\n",
        "               ('tfidf', TfidfTransformer()),\n",
        "               ('clf', RandomForestClassifier()),\n",
        "              ])\n",
        "rf.fit(X_train, y_train)\n",
        "\n",
        "\n",
        "from sklearn.metrics import classification_report\n",
        "y_pred = nb.predict(X_test)\n",
        "\n",
        "print('accuracy %s' % accuracy_score(y_pred, y_test))\n",
        "print(classification_report(y_test, y_pred,target_names=my_tags))"
      ],
      "execution_count": 12,
      "outputs": [
        {
          "output_type": "stream",
          "text": [
            "accuracy 0.638680659670165\n",
            "              precision    recall  f1-score   support\n",
            "\n",
            "           1       0.15      0.89      0.26        19\n",
            "           2       0.00      0.00      0.00         1\n",
            "           3       0.00      0.00      0.00       110\n",
            "           4       0.73      0.97      0.83       191\n",
            "           5       0.68      0.88      0.76       113\n",
            "           6       0.75      0.95      0.84        22\n",
            "           7       0.20      0.75      0.32         4\n",
            "           8       0.94      0.57      0.71        53\n",
            "           9       0.89      0.61      0.73        54\n",
            "          10       0.92      0.52      0.67        46\n",
            "          11       1.00      0.24      0.39        54\n",
            "\n",
            "    accuracy                           0.64       667\n",
            "   macro avg       0.57      0.58      0.50       667\n",
            "weighted avg       0.64      0.64      0.60       667\n",
            "\n"
          ],
          "name": "stdout"
        },
        {
          "output_type": "stream",
          "text": [
            "/usr/local/lib/python3.6/dist-packages/sklearn/metrics/_classification.py:1272: UndefinedMetricWarning: Precision and F-score are ill-defined and being set to 0.0 in labels with no predicted samples. Use `zero_division` parameter to control this behavior.\n",
            "  _warn_prf(average, modifier, msg_start, len(result))\n"
          ],
          "name": "stderr"
        }
      ]
    },
    {
      "cell_type": "code",
      "metadata": {
        "id": "UZQLek2IhaCM",
        "colab_type": "code",
        "outputId": "51738916-f114-4624-a647-412b80a3a6e7",
        "colab": {
          "base_uri": "https://localhost:8080/",
          "height": 474
        }
      },
      "source": [
        "from sklearn.linear_model import Perceptron\n",
        "\n",
        "logreg = Pipeline([('vect', CountVectorizer(stop_words= stop)),\n",
        "                ('tfidf', TfidfTransformer()),\n",
        "                ('clf', Perceptron()),\n",
        "               ])\n",
        "logreg.fit(X_train, y_train)\n",
        "\n",
        "%time\n",
        "\n",
        "y_pred = logreg.predict(X_test)\n",
        "\n",
        "print('accuracy %s' % accuracy_score(y_pred, y_test))\n",
        "print(classification_report(y_test, y_pred))"
      ],
      "execution_count": 13,
      "outputs": [
        {
          "output_type": "stream",
          "text": [
            "CPU times: user 3 µs, sys: 0 ns, total: 3 µs\n",
            "Wall time: 4.53 µs\n",
            "accuracy 0.8905547226386806\n",
            "                              precision    recall  f1-score   support\n",
            "\n",
            "                           1       0.44      0.79      0.57        19\n",
            "                          10       0.50      1.00      0.67         1\n",
            "                          11       0.96      0.72      0.82       110\n",
            "                           2       0.92      0.97      0.95       191\n",
            "                           3       0.92      0.86      0.89       113\n",
            "                           4       0.70      0.86      0.78        22\n",
            "                           5       0.67      1.00      0.80         4\n",
            "                           6       0.94      0.83      0.88        53\n",
            "                           7       1.00      1.00      1.00        54\n",
            "                           8       0.98      0.96      0.97        46\n",
            "                           9       0.96      0.94      0.95        54\n",
            "   Agricultura e Veterinária       0.00      0.00      0.00         0\n",
            "Programas Interdisciplinares       0.00      0.00      0.00         0\n",
            "         programas genericos       0.00      0.00      0.00         0\n",
            "\n",
            "                    accuracy                           0.89       667\n",
            "                   macro avg       0.64      0.71      0.66       667\n",
            "                weighted avg       0.92      0.89      0.90       667\n",
            "\n"
          ],
          "name": "stdout"
        },
        {
          "output_type": "stream",
          "text": [
            "/usr/local/lib/python3.6/dist-packages/sklearn/metrics/_classification.py:1272: UndefinedMetricWarning: Recall and F-score are ill-defined and being set to 0.0 in labels with no true samples. Use `zero_division` parameter to control this behavior.\n",
            "  _warn_prf(average, modifier, msg_start, len(result))\n"
          ],
          "name": "stderr"
        }
      ]
    },
    {
      "cell_type": "code",
      "metadata": {
        "id": "nVcbl8pC2zYM",
        "colab_type": "code",
        "outputId": "541db953-05c2-4189-a53d-4dc11eb04a4b",
        "colab": {
          "base_uri": "https://localhost:8080/",
          "height": 383
        }
      },
      "source": [
        "from sklearn.linear_model import SGDClassifier\n",
        "\n",
        "sgd = Pipeline([('vect', CountVectorizer(stop_words= stop)),\n",
        "                ('tfidf', TfidfTransformer()),\n",
        "                ('clf', SGDClassifier(loss='hinge', penalty='l2',alpha=1e-3, random_state=42, max_iter=5, tol=None)),\n",
        "               ])\n",
        "sgd.fit(X_train, y_train)\n",
        "\n",
        "%time\n",
        "\n",
        "y_pred = sgd.predict(X_test)\n",
        "\n",
        "print('accuracy %s' % accuracy_score(y_pred, y_test))\n",
        "print(classification_report(y_test, y_pred,target_names=my_tags))"
      ],
      "execution_count": 14,
      "outputs": [
        {
          "output_type": "stream",
          "text": [
            "CPU times: user 3 µs, sys: 0 ns, total: 3 µs\n",
            "Wall time: 4.53 µs\n",
            "accuracy 0.7631184407796102\n"
          ],
          "name": "stdout"
        },
        {
          "output_type": "error",
          "ename": "ValueError",
          "evalue": "ignored",
          "traceback": [
            "\u001b[0;31m---------------------------------------------------------------------------\u001b[0m",
            "\u001b[0;31mValueError\u001b[0m                                Traceback (most recent call last)",
            "\u001b[0;32m<ipython-input-14-c3ab0401193e>\u001b[0m in \u001b[0;36m<module>\u001b[0;34m()\u001b[0m\n\u001b[1;32m     12\u001b[0m \u001b[0;34m\u001b[0m\u001b[0m\n\u001b[1;32m     13\u001b[0m \u001b[0mprint\u001b[0m\u001b[0;34m(\u001b[0m\u001b[0;34m'accuracy %s'\u001b[0m \u001b[0;34m%\u001b[0m \u001b[0maccuracy_score\u001b[0m\u001b[0;34m(\u001b[0m\u001b[0my_pred\u001b[0m\u001b[0;34m,\u001b[0m \u001b[0my_test\u001b[0m\u001b[0;34m)\u001b[0m\u001b[0;34m)\u001b[0m\u001b[0;34m\u001b[0m\u001b[0;34m\u001b[0m\u001b[0m\n\u001b[0;32m---> 14\u001b[0;31m \u001b[0mprint\u001b[0m\u001b[0;34m(\u001b[0m\u001b[0mclassification_report\u001b[0m\u001b[0;34m(\u001b[0m\u001b[0my_test\u001b[0m\u001b[0;34m,\u001b[0m \u001b[0my_pred\u001b[0m\u001b[0;34m,\u001b[0m\u001b[0mtarget_names\u001b[0m\u001b[0;34m=\u001b[0m\u001b[0mmy_tags\u001b[0m\u001b[0;34m)\u001b[0m\u001b[0;34m)\u001b[0m\u001b[0;34m\u001b[0m\u001b[0;34m\u001b[0m\u001b[0m\n\u001b[0m",
            "\u001b[0;32m/usr/local/lib/python3.6/dist-packages/sklearn/metrics/_classification.py\u001b[0m in \u001b[0;36mclassification_report\u001b[0;34m(y_true, y_pred, labels, target_names, sample_weight, digits, output_dict, zero_division)\u001b[0m\n\u001b[1;32m   1993\u001b[0m                 \u001b[0;34m\"Number of classes, {0}, does not match size of \"\u001b[0m\u001b[0;34m\u001b[0m\u001b[0;34m\u001b[0m\u001b[0m\n\u001b[1;32m   1994\u001b[0m                 \u001b[0;34m\"target_names, {1}. Try specifying the labels \"\u001b[0m\u001b[0;34m\u001b[0m\u001b[0;34m\u001b[0m\u001b[0m\n\u001b[0;32m-> 1995\u001b[0;31m                 \u001b[0;34m\"parameter\"\u001b[0m\u001b[0;34m.\u001b[0m\u001b[0mformat\u001b[0m\u001b[0;34m(\u001b[0m\u001b[0mlen\u001b[0m\u001b[0;34m(\u001b[0m\u001b[0mlabels\u001b[0m\u001b[0;34m)\u001b[0m\u001b[0;34m,\u001b[0m \u001b[0mlen\u001b[0m\u001b[0;34m(\u001b[0m\u001b[0mtarget_names\u001b[0m\u001b[0;34m)\u001b[0m\u001b[0;34m)\u001b[0m\u001b[0;34m\u001b[0m\u001b[0;34m\u001b[0m\u001b[0m\n\u001b[0m\u001b[1;32m   1996\u001b[0m             )\n\u001b[1;32m   1997\u001b[0m     \u001b[0;32mif\u001b[0m \u001b[0mtarget_names\u001b[0m \u001b[0;32mis\u001b[0m \u001b[0;32mNone\u001b[0m\u001b[0;34m:\u001b[0m\u001b[0;34m\u001b[0m\u001b[0;34m\u001b[0m\u001b[0m\n",
            "\u001b[0;31mValueError\u001b[0m: Number of classes, 13, does not match size of target_names, 11. Try specifying the labels parameter"
          ]
        }
      ]
    },
    {
      "cell_type": "code",
      "metadata": {
        "id": "aK2SwSoM2zYQ",
        "colab_type": "code",
        "colab": {}
      },
      "source": [
        "from sklearn.linear_model import LogisticRegression\n",
        "\n",
        "logreg = Pipeline([('vect', TfidfVectorizer(stop_words= stop)),\n",
        "                ('tfidf', TfidfTransformer()),\n",
        "                ('clf', LogisticRegression(n_jobs=1, C=1e5)),\n",
        "               ])\n",
        "logreg.fit(X_train, y_train)\n",
        "\n",
        "%time\n",
        "\n",
        "y_pred = logreg.predict(X_test)\n",
        "\n",
        "print('accuracy %s' % accuracy_score(y_pred, y_test))\n",
        "print(classification_report(y_test, y_pred))"
      ],
      "execution_count": 0,
      "outputs": []
    },
    {
      "cell_type": "code",
      "metadata": {
        "id": "vEEEIuxhhY1n",
        "colab_type": "code",
        "colab": {}
      },
      "source": [
        "from sklearn.linear_model import PassiveAggressiveClassifier\n",
        "\n",
        "logreg = Pipeline([('vect', TfidfVectorizer(stop_words= stop)),\n",
        "                ('tfidf', TfidfTransformer()),\n",
        "                ('clf', PassiveAggressiveClassifier()),\n",
        "               ])\n",
        "logreg.fit(X_train, y_train)\n",
        "\n",
        "%time\n",
        "\n",
        "y_pred = logreg.predict(X_test)\n",
        "\n",
        "print('accuracy %s' % accuracy_score(y_pred, y_test))\n",
        "print(classification_report(y_test, y_pred))"
      ],
      "execution_count": 0,
      "outputs": []
    },
    {
      "cell_type": "code",
      "metadata": {
        "id": "C-yqA9-ehsWE",
        "colab_type": "code",
        "colab": {}
      },
      "source": [
        "from sklearn.linear_model import RidgeClassifierCV\n",
        "\n",
        "logreg = Pipeline([('vect', TfidfVectorizer(stop_words= stop)),\n",
        "                ('tfidf', TfidfTransformer()),\n",
        "                ('clf', RidgeClassifierCV()),\n",
        "               ])\n",
        "logreg.fit(X_train, y_train)\n",
        "\n",
        "%time\n",
        "\n",
        "y_pred = logreg.predict(X_test)\n",
        "\n",
        "print('accuracy %s' % accuracy_score(y_pred, y_test))\n",
        "print(classification_report(y_test, y_pred))"
      ],
      "execution_count": 0,
      "outputs": []
    },
    {
      "cell_type": "code",
      "metadata": {
        "id": "E3vVg8yvh0zE",
        "colab_type": "code",
        "colab": {}
      },
      "source": [
        "from sklearn.tree import DecisionTreeClassifier\n",
        "\n",
        "dt = Pipeline([('vect', TfidfVectorizer(stop_words= stop)),\n",
        "                ('tfidf', TfidfTransformer()),\n",
        "                ('clf', RidgeClassifierCV()),\n",
        "               ])\n",
        "dt.fit(X_train, y_train)\n",
        "\n",
        "%time\n",
        "\n",
        "y_pred = logreg.predict(X_test)\n",
        "\n",
        "print('accuracy %s' % accuracy_score(y_pred, y_test))\n",
        "print(classification_report(y_test, y_pred))"
      ],
      "execution_count": 0,
      "outputs": []
    },
    {
      "cell_type": "code",
      "metadata": {
        "id": "NrjokcPQinJI",
        "colab_type": "code",
        "colab": {}
      },
      "source": [
        "from sklearn.svm import SVC\n",
        "from sklearn.feature_extraction import DictVectorizer\n",
        "svc = Pipeline([('vect', CountVectorizer(stop_words= stop)),\n",
        "                ('tfidf', TfidfTransformer()),\n",
        "                ('clf', SVC(kernel='linear')),\n",
        "               ])\n",
        "svc.fit(X_train, y_train)\n",
        "\n",
        "%time\n",
        "\n",
        "y_pred = logreg.predict(X_test)\n",
        "\n",
        "print('accuracy %s' % accuracy_score(y_pred, y_test))\n",
        "print(classification_report(y_test, y_pred))"
      ],
      "execution_count": 0,
      "outputs": []
    },
    {
      "cell_type": "code",
      "metadata": {
        "id": "k3ADSvWxewmH",
        "colab_type": "code",
        "colab": {}
      },
      "source": [
        ""
      ],
      "execution_count": 0,
      "outputs": []
    },
    {
      "cell_type": "code",
      "metadata": {
        "id": "ec9adHT0hS7w",
        "colab_type": "code",
        "colab": {
          "base_uri": "https://localhost:8080/",
          "height": 195
        },
        "outputId": "d4232685-d870-42e6-91b0-4c5eb499a44a"
      },
      "source": [
        "urll = 'https://github.com/Antonioarf/blox/blob/master/excel/espm.xlsx?raw=true'\n",
        "espm = pd.read_excel(urll)\n",
        "espm = teste.dropna()\n",
        "espm.head()"
      ],
      "execution_count": 18,
      "outputs": [
        {
          "output_type": "execute_result",
          "data": {
            "text/html": [
              "<div>\n",
              "<style scoped>\n",
              "    .dataframe tbody tr th:only-of-type {\n",
              "        vertical-align: middle;\n",
              "    }\n",
              "\n",
              "    .dataframe tbody tr th {\n",
              "        vertical-align: top;\n",
              "    }\n",
              "\n",
              "    .dataframe thead th {\n",
              "        text-align: right;\n",
              "    }\n",
              "</style>\n",
              "<table border=\"1\" class=\"dataframe\">\n",
              "  <thead>\n",
              "    <tr style=\"text-align: right;\">\n",
              "      <th></th>\n",
              "      <th>DISCIPLINA</th>\n",
              "      <th>ÁREA DO CONHECIMENTO</th>\n",
              "    </tr>\n",
              "  </thead>\n",
              "  <tbody>\n",
              "    <tr>\n",
              "      <th>0</th>\n",
              "      <td>Ética, Ciência e Profissão</td>\n",
              "      <td>Psicologia e Desenvolvimento Pessoal</td>\n",
              "    </tr>\n",
              "    <tr>\n",
              "      <th>1</th>\n",
              "      <td>Ética Profissional e Compliance</td>\n",
              "      <td>Direito</td>\n",
              "    </tr>\n",
              "    <tr>\n",
              "      <th>2</th>\n",
              "      <td>Ética e Serviço Social</td>\n",
              "      <td>Saúde e Bem-Estar Social</td>\n",
              "    </tr>\n",
              "    <tr>\n",
              "      <th>3</th>\n",
              "      <td>Ética e Responsabilidade Socioambiental</td>\n",
              "      <td>Administração e Negócios</td>\n",
              "    </tr>\n",
              "    <tr>\n",
              "      <th>4</th>\n",
              "      <td>Voleibol</td>\n",
              "      <td>Saúde e Bem-Estar Social</td>\n",
              "    </tr>\n",
              "  </tbody>\n",
              "</table>\n",
              "</div>"
            ],
            "text/plain": [
              "                                DISCIPLINA                  ÁREA DO CONHECIMENTO\n",
              "0               Ética, Ciência e Profissão  Psicologia e Desenvolvimento Pessoal\n",
              "1          Ética Profissional e Compliance                               Direito\n",
              "2                   Ética e Serviço Social              Saúde e Bem-Estar Social\n",
              "3  Ética e Responsabilidade Socioambiental              Administração e Negócios\n",
              "4                                 Voleibol              Saúde e Bem-Estar Social"
            ]
          },
          "metadata": {
            "tags": []
          },
          "execution_count": 18
        }
      ]
    },
    {
      "cell_type": "code",
      "metadata": {
        "id": "GtEItyp65pjZ",
        "colab_type": "code",
        "colab": {
          "base_uri": "https://localhost:8080/",
          "height": 218
        },
        "outputId": "0acffb34-06ae-485e-ce09-944320e844fd"
      },
      "source": [
        "espm[\"ÁREA DO CONHECIMENTO\"].value_counts()"
      ],
      "execution_count": 19,
      "outputs": [
        {
          "output_type": "execute_result",
          "data": {
            "text/plain": [
              "Saúde e Bem-Estar Social                                            191\n",
              "Engenharia, Produção e Construção                                   113\n",
              "Administração e Negócios                                            110\n",
              "Direito                                                              54\n",
              "Psicologia e Desenvolvimento Pessoal                                 54\n",
              "Matemática, Computação e Tecnologias de Informação e Comunicacão     53\n",
              "Educação                                                             46\n",
              "Ciências Naturais                                                    22\n",
              "Ciências Sociais, Jornalismo e Informação                            19\n",
              "Humanidades, Artes e Linguagens                                       4\n",
              "Serviços                                                              1\n",
              "Name: ÁREA DO CONHECIMENTO, dtype: int64"
            ]
          },
          "metadata": {
            "tags": []
          },
          "execution_count": 19
        }
      ]
    },
    {
      "cell_type": "code",
      "metadata": {
        "id": "UgZQ0mem6tbg",
        "colab_type": "code",
        "colab": {
          "base_uri": "https://localhost:8080/",
          "height": 336
        },
        "outputId": "ff660740-5029-4730-bee1-7c7963aadab2"
      },
      "source": [
        "treino_espm = treino[treino[\"ÁREA DO CONHECIMENTO\"] != \"Agricultura e Veterinária\"]\n",
        "treino_espm = treino_espm[treino_espm[\"ÁREA DO CONHECIMENTO\"] != 'programas genericos']\n",
        "treino_espm = treino_espm[treino_espm[\"ÁREA DO CONHECIMENTO\"] != 'Programas Interdisciplinares']\n",
        "# treino = treino[treino[\"ÁREA DO CONHECIMENTO\"] != \"Saúde e Bem-Estar Social\"]\n",
        "# treino = treino[treino[\"ÁREA DO CONHECIMENTO\"] != 'Engenharia, Produção e Construção']\n",
        "# treino = treino[treino[\"ÁREA DO CONHECIMENTO\"] != 'Psicologia e Desenvolvimento Pessoal']\n",
        "# treino = treino[treino[\"ÁREA DO CONHECIMENTO\"] != 'Direito']\n",
        "# treino = treino[treino[\"ÁREA DO CONHECIMENTO\"] != 'Ciências Naturais']\n",
        "# treino = treino[treino[\"ÁREA DO CONHECIMENTO\"] != 'Serviços']\n",
        "\n",
        "X_train = treino_espm[\"materias\"]\n",
        "X_test = espm[\"DISCIPLINA\"]\n",
        "y_train = deletar_caracteres(treino_espm[\"ÁREA DO CONHECIMENTO\"])\n",
        "y_test = deletar_caracteres(espm[\"ÁREA DO CONHECIMENTO\"])\n",
        "treino[\"ÁREA DO CONHECIMENTO\"].value_counts()"
      ],
      "execution_count": 20,
      "outputs": [
        {
          "output_type": "execute_result",
          "data": {
            "text/plain": [
              "Saúde e Bem-Estar Social                                            772\n",
              "Engenharia, Produção e Construção                                   764\n",
              "Ciências Sociais e Negócios                                         759\n",
              "Ciências Naturais                                                   598\n",
              "Humanidades e Linguagens                                            506\n",
              "Direito                                                             327\n",
              "Matemática e Computação                                             326\n",
              "Educação                                                            252\n",
              "Agricultura e Veterinária                                           247\n",
              "programas genericos                                                 161\n",
              "Serviços                                                            137\n",
              "Psicologia e Desenvolvimento                                        124\n",
              "Administração e Negócios                                            110\n",
              "Programas Interdisciplinares                                         91\n",
              "Psicologia e Desenvolvimento Pessoal                                 54\n",
              "Matemática, Computação e Tecnologias de Informação e Comunicacão     53\n",
              "Ciências Sociais, Jornalismo e Informação                            19\n",
              "Humanidades, Artes e Linguagens                                       4\n",
              "Name: ÁREA DO CONHECIMENTO, dtype: int64"
            ]
          },
          "metadata": {
            "tags": []
          },
          "execution_count": 20
        }
      ]
    },
    {
      "cell_type": "code",
      "metadata": {
        "id": "rmG8K_Fx9sMK",
        "colab_type": "code",
        "colab": {
          "base_uri": "https://localhost:8080/",
          "height": 218
        },
        "outputId": "1aa8dbd3-b3aa-4073-fd0c-7bc6c74d97ae"
      },
      "source": [
        "X_train"
      ],
      "execution_count": 21,
      "outputs": [
        {
          "output_type": "execute_result",
          "data": {
            "text/plain": [
              "1       A Abordagem Qualitativa na Pesquisa em Psicolo...\n",
              "2                                 A Cidade Constitucional\n",
              "3          A cidade e o urbano no Brasil: Teoria e Método\n",
              "4       A Constituição da Subjetividade: Infância e Ad...\n",
              "5                    A Construção Cultural do Significado\n",
              "                              ...                        \n",
              "5300     Administração de Produção, Materiais e Logística\n",
              "5301       Administração de Cargos, Salários e Benefícios\n",
              "5302                           Acompanhamento Terapêutico\n",
              "5303                               Acionamentos Elétricos\n",
              "5304                                  Abordagem Sistêmica\n",
              "Name: materias, Length: 4805, dtype: object"
            ]
          },
          "metadata": {
            "tags": []
          },
          "execution_count": 21
        }
      ]
    },
    {
      "cell_type": "code",
      "metadata": {
        "id": "ww-iggbX71SB",
        "colab_type": "code",
        "colab": {
          "base_uri": "https://localhost:8080/",
          "height": 504
        },
        "outputId": "b1e28175-63ac-4621-d16b-63938ce988ae"
      },
      "source": [
        "from sklearn.linear_model import LogisticRegression\n",
        "\n",
        "logreg = Pipeline([('vect', TfidfVectorizer(stop_words= stop)),\n",
        "                ('tfidf', TfidfTransformer()),\n",
        "                ('clf', LogisticRegression(n_jobs=1, C=1e5)),\n",
        "               ])\n",
        "logreg.fit(X_train, y_train)\n",
        "\n",
        "%time\n",
        "\n",
        "y_pred = logreg.predict(X_test)\n",
        "\n",
        "print('accuracy %s' % accuracy_score(y_pred, y_test))\n",
        "print(classification_report(y_test, y_pred))"
      ],
      "execution_count": 22,
      "outputs": [
        {
          "output_type": "stream",
          "text": [
            "CPU times: user 0 ns, sys: 38 µs, total: 38 µs\n",
            "Wall time: 21.9 µs\n",
            "accuracy 0.9385307346326837\n",
            "              precision    recall  f1-score   support\n",
            "\n",
            "           1       0.58      1.00      0.73        19\n",
            "          10       1.00      1.00      1.00         1\n",
            "          11       1.00      0.83      0.91       110\n",
            "           2       0.92      0.99      0.95       191\n",
            "           3       0.96      0.91      0.94       113\n",
            "           4       0.86      0.86      0.86        22\n",
            "           5       0.57      1.00      0.73         4\n",
            "           6       0.98      0.91      0.94        53\n",
            "           7       1.00      1.00      1.00        54\n",
            "           8       1.00      0.96      0.98        46\n",
            "           9       1.00      1.00      1.00        54\n",
            "\n",
            "    accuracy                           0.94       667\n",
            "   macro avg       0.90      0.95      0.91       667\n",
            "weighted avg       0.95      0.94      0.94       667\n",
            "\n"
          ],
          "name": "stdout"
        },
        {
          "output_type": "stream",
          "text": [
            "/usr/local/lib/python3.6/dist-packages/sklearn/linear_model/_logistic.py:940: ConvergenceWarning: lbfgs failed to converge (status=1):\n",
            "STOP: TOTAL NO. of ITERATIONS REACHED LIMIT.\n",
            "\n",
            "Increase the number of iterations (max_iter) or scale the data as shown in:\n",
            "    https://scikit-learn.org/stable/modules/preprocessing.html\n",
            "Please also refer to the documentation for alternative solver options:\n",
            "    https://scikit-learn.org/stable/modules/linear_model.html#logistic-regression\n",
            "  extra_warning_msg=_LOGISTIC_SOLVER_CONVERGENCE_MSG)\n"
          ],
          "name": "stderr"
        }
      ]
    },
    {
      "cell_type": "code",
      "metadata": {
        "id": "zd7MSJjW9hCq",
        "colab_type": "code",
        "colab": {
          "base_uri": "https://localhost:8080/",
          "height": 53
        },
        "outputId": "8a130285-c775-4816-f7b4-01bf2a6a8038"
      },
      "source": [
        "print(\"escreva o nome do arquivo com complemento (e caminho, se não estiver na mesma pasta)\")\n",
        "excel = input (str())\n",
        "print (\"QUal o nome da coluna com as materias?\")\n",
        "coluna = input(str())\n",
        "def machine (planilha,coluna):\n",
        "  X_train =  treino[\"materias\"]\n",
        "  y_train = deletar_caracteres(treino[\"ÁREA DO CONHECIMENTO\"])\n",
        "  X_test = panilha[coluna]\n",
        "  logreg = Pipeline([('vect', TfidfVectorizer(stop_words= stop)),\n",
        "                ('tfidf', TfidfTransformer()),\n",
        "                ('clf', LogisticRegression(n_jobs=1, C=1e5)),\n",
        "               ])\n",
        "  logreg.fit(X_train, y_train)\n",
        "\n",
        "  %time\n",
        "\n",
        "  y_pred = logreg.predict(X_test)\n",
        "\n",
        "  # print('accuracy %s' % accuracy_score(y_pred, y_test))\n",
        "  # print(classification_report(y_test, y_pred))\n",
        "  return y_pred"
      ],
      "execution_count": 0,
      "outputs": [
        {
          "output_type": "stream",
          "text": [
            "escreva o nome do arquivo com complemento (e caminho, se não estiver na mesma pasta)\n"
          ],
          "name": "stdout"
        }
      ]
    },
    {
      "cell_type": "code",
      "metadata": {
        "id": "uq_dhe4RgRQM",
        "colab_type": "code",
        "colab": {}
      },
      "source": [
        ""
      ],
      "execution_count": 0,
      "outputs": []
    }
  ]
}