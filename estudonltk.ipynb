{
 "cells": [
  {
   "cell_type": "code",
   "execution_count": 2,
   "metadata": {},
   "outputs": [],
   "source": [
    "import pandas as pd;\n",
    "import seaborn as sns # evite fazer pairplot! Estoura a memória\n",
    "import statsmodels.api as sm\n",
    "import numpy as np\n",
    "import matplotlib.pyplot as plt\n",
    "%matplotlib inline"
   ]
  },
  {
   "cell_type": "code",
   "execution_count": 4,
   "metadata": {},
   "outputs": [],
   "source": [
    "import nltk\n",
    "# nltk.download()"
   ]
  },
  {
   "cell_type": "code",
   "execution_count": 3,
   "metadata": {},
   "outputs": [],
   "source": [
    "Util pra caralho, pra limpar palavra merda\n",
    "\n",
    "from nltk.corpus import stopwords\n",
    "sr= stopwords.words('english')\n",
    "clean_tokens = tokens[:]\n",
    "for token in tokens:\n",
    "    if token in stopwords.words('english'):\n",
    "        \n",
    "        clean_tokens.remove(token)\n",
    "freq = nltk.FreqDist(clean_tokens)\n",
    "for key,val in freq.items():\n",
    "    print(str(key) + ':' + str(val))\n",
    "freq.plot(20, cumulative=False)"
   ]
  },
  {
   "cell_type": "code",
   "execution_count": 4,
   "metadata": {},
   "outputs": [],
   "source": [
    "df = pd.read_csv(\"teste(2).csv\")"
   ]
  },
  {
   "cell_type": "code",
   "execution_count": 6,
   "metadata": {},
   "outputs": [
    {
     "data": {
      "text/html": [
       "<div>\n",
       "<style scoped>\n",
       "    .dataframe tbody tr th:only-of-type {\n",
       "        vertical-align: middle;\n",
       "    }\n",
       "\n",
       "    .dataframe tbody tr th {\n",
       "        vertical-align: top;\n",
       "    }\n",
       "\n",
       "    .dataframe thead th {\n",
       "        text-align: right;\n",
       "    }\n",
       "</style>\n",
       "<table border=\"1\" class=\"dataframe\">\n",
       "  <thead>\n",
       "    <tr style=\"text-align: right;\">\n",
       "      <th></th>\n",
       "      <th>web-scraper-order</th>\n",
       "      <th>web-scraper-start-url</th>\n",
       "      <th>escola</th>\n",
       "      <th>escola-href</th>\n",
       "      <th>alfa</th>\n",
       "      <th>alfa-href</th>\n",
       "      <th>curso</th>\n",
       "      <th>curso-href</th>\n",
       "      <th>mais</th>\n",
       "      <th>mais-href</th>\n",
       "      <th>obj</th>\n",
       "      <th>programa</th>\n",
       "    </tr>\n",
       "  </thead>\n",
       "  <tbody>\n",
       "    <tr>\n",
       "      <td>0</td>\n",
       "      <td>1578504247-2488</td>\n",
       "      <td>https://uspdigital.usp.br/jupiterweb/jupColegi...</td>\n",
       "      <td>Escola de Engenharia de São Carlos</td>\n",
       "      <td>https://uspdigital.usp.br/jupiterweb/jupColegi...</td>\n",
       "      <td>Disciplinas em ordem alfabética</td>\n",
       "      <td>https://uspdigital.usp.br/jupiterweb/jupDiscip...</td>\n",
       "      <td>Engenharia e Ciência dos Materiais I</td>\n",
       "      <td>https://uspdigital.usp.br/jupiterweb/obterTurm...</td>\n",
       "      <td>Clique para consultar\\n        as Informações ...</td>\n",
       "      <td>https://uspdigital.usp.br/jupiterweb/obterDisc...</td>\n",
       "      <td>Fornecer ao aluno conhecimento sobre materiais...</td>\n",
       "      <td>Introdução aos materiais, estrutura dos sólido...</td>\n",
       "    </tr>\n",
       "    <tr>\n",
       "      <td>1</td>\n",
       "      <td>1578502048-2090</td>\n",
       "      <td>https://uspdigital.usp.br/jupiterweb/jupColegi...</td>\n",
       "      <td>Escola Superior de Agricultura \"Luiz de Queiroz\"</td>\n",
       "      <td>https://uspdigital.usp.br/jupiterweb/jupColegi...</td>\n",
       "      <td>Disciplinas em ordem alfabética</td>\n",
       "      <td>https://uspdigital.usp.br/jupiterweb/jupDiscip...</td>\n",
       "      <td>Nutrição Mineral de Plantas</td>\n",
       "      <td>https://uspdigital.usp.br/jupiterweb/obterTurm...</td>\n",
       "      <td>Clique para consultar\\n        as Informações ...</td>\n",
       "      <td>https://uspdigital.usp.br/jupiterweb/obterDisc...</td>\n",
       "      <td>Dar uma visão ao aluno dos problemas de nutriç...</td>\n",
       "      <td>-\\tAbsorção de elementos pelas raízes;\\n-\\tAbs...</td>\n",
       "    </tr>\n",
       "    <tr>\n",
       "      <td>2</td>\n",
       "      <td>1578503450-2343</td>\n",
       "      <td>https://uspdigital.usp.br/jupiterweb/jupColegi...</td>\n",
       "      <td>Escola Politécnica</td>\n",
       "      <td>https://uspdigital.usp.br/jupiterweb/jupColegi...</td>\n",
       "      <td>Disciplinas em ordem alfabética</td>\n",
       "      <td>https://uspdigital.usp.br/jupiterweb/jupDiscip...</td>\n",
       "      <td>Dinâmica de Voo</td>\n",
       "      <td>https://uspdigital.usp.br/jupiterweb/obterTurm...</td>\n",
       "      <td>Clique para consultar\\n        as Informações ...</td>\n",
       "      <td>https://uspdigital.usp.br/jupiterweb/obterDisc...</td>\n",
       "      <td>O curso tem como objetivo proporcionar ao alun...</td>\n",
       "      <td>Sistemas de eixo e equação de movimento de aer...</td>\n",
       "    </tr>\n",
       "  </tbody>\n",
       "</table>\n",
       "</div>"
      ],
      "text/plain": [
       "  web-scraper-order                              web-scraper-start-url  \\\n",
       "0   1578504247-2488  https://uspdigital.usp.br/jupiterweb/jupColegi...   \n",
       "1   1578502048-2090  https://uspdigital.usp.br/jupiterweb/jupColegi...   \n",
       "2   1578503450-2343  https://uspdigital.usp.br/jupiterweb/jupColegi...   \n",
       "\n",
       "                                             escola  \\\n",
       "0                Escola de Engenharia de São Carlos   \n",
       "1  Escola Superior de Agricultura \"Luiz de Queiroz\"   \n",
       "2                                Escola Politécnica   \n",
       "\n",
       "                                         escola-href  \\\n",
       "0  https://uspdigital.usp.br/jupiterweb/jupColegi...   \n",
       "1  https://uspdigital.usp.br/jupiterweb/jupColegi...   \n",
       "2  https://uspdigital.usp.br/jupiterweb/jupColegi...   \n",
       "\n",
       "                              alfa  \\\n",
       "0  Disciplinas em ordem alfabética   \n",
       "1  Disciplinas em ordem alfabética   \n",
       "2  Disciplinas em ordem alfabética   \n",
       "\n",
       "                                           alfa-href  \\\n",
       "0  https://uspdigital.usp.br/jupiterweb/jupDiscip...   \n",
       "1  https://uspdigital.usp.br/jupiterweb/jupDiscip...   \n",
       "2  https://uspdigital.usp.br/jupiterweb/jupDiscip...   \n",
       "\n",
       "                                  curso  \\\n",
       "0  Engenharia e Ciência dos Materiais I   \n",
       "1           Nutrição Mineral de Plantas   \n",
       "2                       Dinâmica de Voo   \n",
       "\n",
       "                                          curso-href  \\\n",
       "0  https://uspdigital.usp.br/jupiterweb/obterTurm...   \n",
       "1  https://uspdigital.usp.br/jupiterweb/obterTurm...   \n",
       "2  https://uspdigital.usp.br/jupiterweb/obterTurm...   \n",
       "\n",
       "                                                mais  \\\n",
       "0  Clique para consultar\\n        as Informações ...   \n",
       "1  Clique para consultar\\n        as Informações ...   \n",
       "2  Clique para consultar\\n        as Informações ...   \n",
       "\n",
       "                                           mais-href  \\\n",
       "0  https://uspdigital.usp.br/jupiterweb/obterDisc...   \n",
       "1  https://uspdigital.usp.br/jupiterweb/obterDisc...   \n",
       "2  https://uspdigital.usp.br/jupiterweb/obterDisc...   \n",
       "\n",
       "                                                 obj  \\\n",
       "0  Fornecer ao aluno conhecimento sobre materiais...   \n",
       "1  Dar uma visão ao aluno dos problemas de nutriç...   \n",
       "2  O curso tem como objetivo proporcionar ao alun...   \n",
       "\n",
       "                                            programa  \n",
       "0  Introdução aos materiais, estrutura dos sólido...  \n",
       "1  -\\tAbsorção de elementos pelas raízes;\\n-\\tAbs...  \n",
       "2  Sistemas de eixo e equação de movimento de aer...  "
      ]
     },
     "execution_count": 6,
     "metadata": {},
     "output_type": "execute_result"
    }
   ],
   "source": [
    "df.head(3)"
   ]
  },
  {
   "cell_type": "code",
   "execution_count": 7,
   "metadata": {},
   "outputs": [
    {
     "data": {
      "text/plain": [
       "(3188, 12)"
      ]
     },
     "execution_count": 7,
     "metadata": {},
     "output_type": "execute_result"
    }
   ],
   "source": [
    "df.shape"
   ]
  },
  {
   "cell_type": "code",
   "execution_count": null,
   "metadata": {},
   "outputs": [],
   "source": []
  }
 ],
 "metadata": {
  "kernelspec": {
   "display_name": "Python 3",
   "language": "python",
   "name": "python3"
  },
  "language_info": {
   "codemirror_mode": {
    "name": "ipython",
    "version": 3
   },
   "file_extension": ".py",
   "mimetype": "text/x-python",
   "name": "python",
   "nbconvert_exporter": "python",
   "pygments_lexer": "ipython3",
   "version": "3.7.4"
  }
 },
 "nbformat": 4,
 "nbformat_minor": 2
}
