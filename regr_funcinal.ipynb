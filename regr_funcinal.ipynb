{
  "nbformat": 4,
  "nbformat_minor": 0,
  "metadata": {
    "kernelspec": {
      "display_name": "Python 3",
      "language": "python",
      "name": "python3"
    },
    "language_info": {
      "codemirror_mode": {
        "name": "ipython",
        "version": 3
      },
      "file_extension": ".py",
      "mimetype": "text/x-python",
      "name": "python",
      "nbconvert_exporter": "python",
      "pygments_lexer": "ipython3",
      "version": "3.7.4"
    },
    "colab": {
      "name": "regreção.ipynb",
      "provenance": []
    }
  },
  "cells": [
    {
      "cell_type": "code",
      "metadata": {
        "id": "iB-0hkpF2zXY",
        "colab_type": "code",
        "outputId": "0f06f2d5-a26f-4c41-b934-5652f98fca32",
        "colab": {
          "base_uri": "https://localhost:8080/",
          "height": 34
        }
      },
      "source": [
        "# encoding: utf-8\n",
        "# encoding: iso-8859-1\n",
        "# encoding: win-1252\n",
        "import pandas as pd;\n",
        "import numpy as np\n",
        "import matplotlib.pyplot as plt\n",
        "from sklearn.model_selection import train_test_split\n",
        "from sklearn.utils import shuffle\n",
        "\n",
        "!pip install stop_words\n",
        "from stop_words import get_stop_words\n",
        "from sklearn.metrics import accuracy_score\n",
        "from scipy.stats import expon, binom, t, norm, probplot, scoreatpercentile, percentileofscore\n",
        "import seaborn as sns # evite fazer pairplot! Estoura a memória\n",
        "import statsmodels.api as sm \n",
        "from sklearn.naive_bayes import MultinomialNB\n",
        "from sklearn.pipeline import Pipeline\n",
        "from sklearn.feature_extraction.text import TfidfTransformer\n",
        "from sklearn.feature_extraction.text import CountVectorizer\n",
        "from sklearn.feature_extraction.text import TfidfVectorizer\n",
        "from sklearn import svm\n",
        "# %matplotlib inline\n",
        "# df1.to_excel(r'C:\\Users\\Antonio Fonseca\\Desktop\\BLOX\\ementas.xlsx')\n",
        "# n esquecer do tensorflow\n",
        "import nltk\n",
        "from nltk.corpus import stopwords\n",
        "\n",
        "\n",
        "from nltk.tokenize import word_tokenize\n",
        "from nltk import pos_tag\n",
        "from nltk.corpus import stopwords\n",
        "from nltk.stem import WordNetLemmatizer\n",
        "from sklearn.preprocessing import LabelEncoder\n",
        "from collections import defaultdict\n",
        "from nltk.corpus import wordnet as wn\n",
        "from sklearn.feature_extraction.text import TfidfVectorizer\n",
        "from sklearn import model_selection, naive_bayes, svm\n",
        "from sklearn.metrics import accuracy_score\n",
        "# "
      ],
      "execution_count": 1,
      "outputs": [
        {
          "output_type": "stream",
          "text": [
            "Requirement already satisfied: stop_words in /usr/local/lib/python3.6/dist-packages (2018.7.23)\n"
          ],
          "name": "stdout"
        }
      ]
    },
    {
      "cell_type": "code",
      "metadata": {
        "id": "dSwBv_0jmJ54",
        "colab_type": "code",
        "colab": {
          "base_uri": "https://localhost:8080/",
          "height": 402
        },
        "outputId": "0fe31d98-e60e-44cd-f0bd-639510656ddd"
      },
      "source": [
        "url = 'https://github.com/Antonioarf/blox/blob/master/excel/usp.xlsx?raw=true'\n",
        "ed = pd.read_excel(url,sheet_name ='educacao')\n",
        "humanas = pd.read_excel(url,sheet_name ='humanidades')\n",
        "psico = pd.read_excel(url,sheet_name ='pisco')\n",
        "# ed =  ed.dropna()\n",
        "# humanas =  humanas.dropna()\n",
        "# psico =  psico.dropna()\n",
        "ed"
      ],
      "execution_count": 2,
      "outputs": [
        {
          "output_type": "execute_result",
          "data": {
            "text/html": [
              "<div>\n",
              "<style scoped>\n",
              "    .dataframe tbody tr th:only-of-type {\n",
              "        vertical-align: middle;\n",
              "    }\n",
              "\n",
              "    .dataframe tbody tr th {\n",
              "        vertical-align: top;\n",
              "    }\n",
              "\n",
              "    .dataframe thead th {\n",
              "        text-align: right;\n",
              "    }\n",
              "</style>\n",
              "<table border=\"1\" class=\"dataframe\">\n",
              "  <thead>\n",
              "    <tr style=\"text-align: right;\">\n",
              "      <th></th>\n",
              "      <th>DISCIPLINA</th>\n",
              "      <th>CH</th>\n",
              "      <th>ÁREA DO CONHECIMENTO</th>\n",
              "      <th>ÁREA FUNCIONAL</th>\n",
              "    </tr>\n",
              "  </thead>\n",
              "  <tbody>\n",
              "    <tr>\n",
              "      <th>0</th>\n",
              "      <td>A Escola no Mundo Contemporâneo</td>\n",
              "      <td>105</td>\n",
              "      <td>Educação</td>\n",
              "      <td>Políticas, Currículos e Programas Educacionais</td>\n",
              "    </tr>\n",
              "    <tr>\n",
              "      <th>1</th>\n",
              "      <td>A Escrita no Ensino Fundamental: das Letras ao...</td>\n",
              "      <td>60</td>\n",
              "      <td>Educação</td>\n",
              "      <td>Ensino Fundamental (anos iniciais) e Alfabetiç...</td>\n",
              "    </tr>\n",
              "    <tr>\n",
              "      <th>2</th>\n",
              "      <td>A Filosofia Educacional de John Dewey</td>\n",
              "      <td>30</td>\n",
              "      <td>Educação</td>\n",
              "      <td>Ciências da Educação, Didática e Pedagogia</td>\n",
              "    </tr>\n",
              "    <tr>\n",
              "      <th>3</th>\n",
              "      <td>A Matemática na Educação Básica</td>\n",
              "      <td>60</td>\n",
              "      <td>Educação</td>\n",
              "      <td>Educação Infantil - formação de professores e ...</td>\n",
              "    </tr>\n",
              "    <tr>\n",
              "      <th>4</th>\n",
              "      <td>Ação Pedagógica Integrada: Educação Infantil I</td>\n",
              "      <td>150</td>\n",
              "      <td>Educação</td>\n",
              "      <td>Formação de Professores de Educação Infantil</td>\n",
              "    </tr>\n",
              "    <tr>\n",
              "      <th>...</th>\n",
              "      <td>...</td>\n",
              "      <td>...</td>\n",
              "      <td>...</td>\n",
              "      <td>...</td>\n",
              "    </tr>\n",
              "    <tr>\n",
              "      <th>195</th>\n",
              "      <td>História da África e dos Afrodesndentes no Bra...</td>\n",
              "      <td>105</td>\n",
              "      <td>Educação</td>\n",
              "      <td>Formação de Professores para Educação Inclusiva</td>\n",
              "    </tr>\n",
              "    <tr>\n",
              "      <th>196</th>\n",
              "      <td>História de Educação Moderna e Contemporânea: ...</td>\n",
              "      <td>60</td>\n",
              "      <td>Educação</td>\n",
              "      <td>Ciências da Educação, Didática e Pedagogia</td>\n",
              "    </tr>\n",
              "    <tr>\n",
              "      <th>197</th>\n",
              "      <td>Linguagem Infantil I</td>\n",
              "      <td>30</td>\n",
              "      <td>Educação</td>\n",
              "      <td>Educação Infantil - formação de professores e ...</td>\n",
              "    </tr>\n",
              "    <tr>\n",
              "      <th>198</th>\n",
              "      <td>Linguagem Infantil II</td>\n",
              "      <td>30</td>\n",
              "      <td>Educação</td>\n",
              "      <td>Educação Infantil - formação de professores e ...</td>\n",
              "    </tr>\n",
              "    <tr>\n",
              "      <th>199</th>\n",
              "      <td>Comunicação Dialógica para Organizações</td>\n",
              "      <td>45</td>\n",
              "      <td>Educação</td>\n",
              "      <td>Gestão Educacional</td>\n",
              "    </tr>\n",
              "  </tbody>\n",
              "</table>\n",
              "<p>200 rows × 4 columns</p>\n",
              "</div>"
            ],
            "text/plain": [
              "                                            DISCIPLINA  ...                                     ÁREA FUNCIONAL\n",
              "0                      A Escola no Mundo Contemporâneo  ...     Políticas, Currículos e Programas Educacionais\n",
              "1    A Escrita no Ensino Fundamental: das Letras ao...  ...  Ensino Fundamental (anos iniciais) e Alfabetiç...\n",
              "2                A Filosofia Educacional de John Dewey  ...         Ciências da Educação, Didática e Pedagogia\n",
              "3                      A Matemática na Educação Básica  ...  Educação Infantil - formação de professores e ...\n",
              "4       Ação Pedagógica Integrada: Educação Infantil I  ...       Formação de Professores de Educação Infantil\n",
              "..                                                 ...  ...                                                ...\n",
              "195  História da África e dos Afrodesndentes no Bra...  ...    Formação de Professores para Educação Inclusiva\n",
              "196  História de Educação Moderna e Contemporânea: ...  ...         Ciências da Educação, Didática e Pedagogia\n",
              "197                               Linguagem Infantil I  ...  Educação Infantil - formação de professores e ...\n",
              "198                              Linguagem Infantil II  ...  Educação Infantil - formação de professores e ...\n",
              "199            Comunicação Dialógica para Organizações  ...                                 Gestão Educacional\n",
              "\n",
              "[200 rows x 4 columns]"
            ]
          },
          "metadata": {
            "tags": []
          },
          "execution_count": 2
        }
      ]
    },
    {
      "cell_type": "code",
      "metadata": {
        "colab_type": "code",
        "id": "3o0wNubJl9JM",
        "colab": {}
      },
      "source": [
        "def deletar_caracteres(coluna):\n",
        "    coluna = coluna.replace(\"Ciências Naturais\",\"1\").replace(\"Matemática e Computação\",\"2\").replace(\"Engenharia, Produção e Construção\",\"3\").replace(\"Saúde e Bem-Estar Social\",\"4\").replace(\"Humanidades e Linguagens\",\"5\")\\\n",
        "    .replace('Ciências Sociais, Jornalismo e Informação', \"6\").replace(\"programas genericos\",\"7\").replace(\"Negócios e Administração\",\"14\").replace(\"Agricultura e Veterinária\", \"8\").replace(\"Serviços\", \"9\").replace(\"Educação\", \"10\")\\\n",
        "    .replace(\"Programas Interdisciplinares\", \"11\").replace(\"Psicologia e Desenvolvimento\", \"12\").replace(\"Direito\", \"13\")\n",
        "    return coluna\n",
        "# treino =  treino.dropna()\n",
        "# treino.shape"
      ],
      "execution_count": 0,
      "outputs": []
    },
    {
      "cell_type": "code",
      "metadata": {
        "id": "y8liTvhL2zX_",
        "colab_type": "code",
        "colab": {
          "base_uri": "https://localhost:8080/",
          "height": 638
        },
        "outputId": "42267718-05df-43e0-e230-1d4b0dba1f6b"
      },
      "source": [
        "x = humanas[\"DISCIPLINA\"]\n",
        "y = humanas[\"ÁREA FUNCIONAL\"]\n",
        "X_train, X_test, y_train, y_test = train_test_split(x,y, test_size=0.3,random_state=42)\n",
        "y.value_counts(sort=True)"
      ],
      "execution_count": 4,
      "outputs": [
        {
          "output_type": "execute_result",
          "data": {
            "text/plain": [
              "Filosofia e Ética                                                        41\n",
              "Historia Mundial                                                         33\n",
              "Teatro                                                                   26\n",
              "Moda                                                                     25\n",
              "História da Cultura                                                      22\n",
              "História e Filosofia da Arte                                             21\n",
              "Cinema e audiovisual                                                     17\n",
              "Historia do Brasil                                                       17\n",
              "Artes                                                                    16\n",
              "História da Ciência                                                      15\n",
              "Produção cênica                                                          15\n",
              "Interdisciplinar com foco em Humanidades , Artes e Linguagens            14\n",
              "Exercício Profissional e Pesquisa em Humanidades , Artes e Linguagens    14\n",
              "Produção audiovisual                                                     12\n",
              "Dança e Coreografia                                                       9\n",
              "Oratória e Retórica                                                       8\n",
              "Design gráfico                                                            8\n",
              "Ciências da religião                                                      7\n",
              "Literatura Comparada                                                      7\n",
              "Escrita Criativa, Leitura e Redação                                       7\n",
              "Música                                                                    6\n",
              "Produção fonográfica                                                      6\n",
              "Fotografia                                                                5\n",
              "Artes plásticas                                                           4\n",
              "\"LIBRAS - Língua Brasileira de Sinais                                     4\n",
              "Design e Estilismo                                                        4\n",
              "Produção cultural                                                         4\n",
              "Desenho Artístico e Ilustração                                            4\n",
              "Letras (Língua Portuguesa)                                                3\n",
              "Animação                                                                  3\n",
              "Design de interiores                                                      2\n",
              "Produção multimídia                                                       2\n",
              "Artes visuais                                                             1\n",
              "Artesanato                                                                1\n",
              "moda                                                                      1\n",
              "Letras (línguas estrangeiras clássicas)                                   1\n",
              "Name: ÁREA FUNCIONAL, dtype: int64"
            ]
          },
          "metadata": {
            "tags": []
          },
          "execution_count": 4
        }
      ]
    },
    {
      "cell_type": "code",
      "metadata": {
        "id": "7dlw1ULN-cZR",
        "colab_type": "code",
        "colab": {}
      },
      "source": [
        "# my_tags = ['1','2','3','4','5','6','7','8','9','10','11','12','13']\n",
        "# my_tags = ['Ciências Naturais','Matemática e Computação','Engenharia, Produção e Construção','Saúde e Bem-Estar Social','Humanidades e Linguagens','Ciências Sociais,Jornalismo e Informação','programas genericos','Negócios e Administração','Agricultura e Veterinária','Serviços','Educação','Programas Interdisciplinares','Psicologia e Desenvolvimento','Direito']\n",
        "# my_tags = y.value_counts(sort=True).to_list()\n",
        "\n",
        "# ,target_names=my_tags"
      ],
      "execution_count": 0,
      "outputs": []
    },
    {
      "cell_type": "code",
      "metadata": {
        "id": "FcSwQxGFpOYo",
        "colab_type": "code",
        "colab": {}
      },
      "source": [
        "stop = get_stop_words('pt')"
      ],
      "execution_count": 0,
      "outputs": []
    },
    {
      "cell_type": "code",
      "metadata": {
        "colab_type": "code",
        "outputId": "c40d9e27-b46d-4eb3-c5ae-618ce32d4493",
        "id": "u2upzSGSzbIP",
        "colab": {
          "base_uri": "https://localhost:8080/",
          "height": 675
        }
      },
      "source": [
        "nb = Pipeline([('vect', TfidfVectorizer(stop_words= stop)),\n",
        "               ('tfidf', TfidfTransformer()),\n",
        "               ('clf', MultinomialNB()),\n",
        "              ])\n",
        "nb.fit(X_train, y_train)\n",
        "\n",
        "\n",
        "from sklearn.metrics import classification_report\n",
        "y_pred = nb.predict(X_test)\n",
        "\n",
        "print('accuracy %s' % accuracy_score(y_pred, y_test))\n",
        "print(classification_report(y_test, y_pred))"
      ],
      "execution_count": 7,
      "outputs": [
        {
          "output_type": "stream",
          "text": [
            "accuracy 0.3103448275862069\n",
            "                                                                       precision    recall  f1-score   support\n",
            "\n",
            "                                                             Animação       0.00      0.00      0.00         1\n",
            "                                                                Artes       1.00      0.20      0.33         5\n",
            "                                                      Artes plásticas       0.00      0.00      0.00         1\n",
            "                                                 Cinema e audiovisual       0.00      0.00      0.00         5\n",
            "                                                 Ciências da religião       0.00      0.00      0.00         4\n",
            "                                                  Dança e Coreografia       0.00      0.00      0.00         2\n",
            "                                                 Design de interiores       0.00      0.00      0.00         1\n",
            "                                                   Design e Estilismo       0.00      0.00      0.00         1\n",
            "                                                       Design gráfico       0.00      0.00      0.00         2\n",
            "                                  Escrita Criativa, Leitura e Redação       0.00      0.00      0.00         5\n",
            "Exercício Profissional e Pesquisa em Humanidades , Artes e Linguagens       0.50      0.25      0.33         4\n",
            "                                                    Filosofia e Ética       0.17      1.00      0.29        11\n",
            "                                                           Fotografia       0.00      0.00      0.00         2\n",
            "                                                     Historia Mundial       0.30      0.43      0.35         7\n",
            "                                                   Historia do Brasil       0.50      0.33      0.40         3\n",
            "                                                  História da Ciência       0.00      0.00      0.00         6\n",
            "                                                  História da Cultura       0.29      0.33      0.31         6\n",
            "                                         História e Filosofia da Arte       0.60      0.43      0.50         7\n",
            "        Interdisciplinar com foco em Humanidades , Artes e Linguagens       0.00      0.00      0.00         3\n",
            "                              Letras (línguas estrangeiras clássicas)       0.00      0.00      0.00         1\n",
            "                                                 Literatura Comparada       0.00      0.00      0.00         2\n",
            "                                                                 Moda       1.00      0.58      0.74        12\n",
            "                                                               Música       0.00      0.00      0.00         1\n",
            "                                                  Oratória e Retórica       0.00      0.00      0.00         3\n",
            "                                                 Produção audiovisual       0.00      0.00      0.00         6\n",
            "                                                      Produção cênica       1.00      0.17      0.29         6\n",
            "                                                 Produção fonográfica       0.00      0.00      0.00         2\n",
            "                                                               Teatro       0.40      0.86      0.55         7\n",
            "\n",
            "                                                             accuracy                           0.31       116\n",
            "                                                            macro avg       0.21      0.16      0.15       116\n",
            "                                                         weighted avg       0.34      0.31      0.25       116\n",
            "\n"
          ],
          "name": "stdout"
        },
        {
          "output_type": "stream",
          "text": [
            "/usr/local/lib/python3.6/dist-packages/sklearn/metrics/_classification.py:1272: UndefinedMetricWarning: Precision and F-score are ill-defined and being set to 0.0 in labels with no predicted samples. Use `zero_division` parameter to control this behavior.\n",
            "  _warn_prf(average, modifier, msg_start, len(result))\n"
          ],
          "name": "stderr"
        }
      ]
    },
    {
      "cell_type": "code",
      "metadata": {
        "id": "hZ4Wky1i2zYp",
        "colab_type": "code",
        "outputId": "231658b3-b732-4b59-ff3c-8c78073ff713",
        "colab": {
          "base_uri": "https://localhost:8080/",
          "height": 675
        }
      },
      "source": [
        "from sklearn.ensemble import RandomForestClassifier \n",
        "rf = Pipeline([('vect', TfidfVectorizer(stop_words= stop)),\n",
        "               ('tfidf', TfidfTransformer()),\n",
        "               ('clf', RandomForestClassifier()),\n",
        "              ])\n",
        "rf.fit(X_train, y_train)\n",
        "\n",
        "\n",
        "from sklearn.metrics import classification_report\n",
        "y_pred = nb.predict(X_test)\n",
        "\n",
        "print('accuracy %s' % accuracy_score(y_pred, y_test))\n",
        "print(classification_report(y_test, y_pred))"
      ],
      "execution_count": 8,
      "outputs": [
        {
          "output_type": "stream",
          "text": [
            "accuracy 0.3103448275862069\n",
            "                                                                       precision    recall  f1-score   support\n",
            "\n",
            "                                                             Animação       0.00      0.00      0.00         1\n",
            "                                                                Artes       1.00      0.20      0.33         5\n",
            "                                                      Artes plásticas       0.00      0.00      0.00         1\n",
            "                                                 Cinema e audiovisual       0.00      0.00      0.00         5\n",
            "                                                 Ciências da religião       0.00      0.00      0.00         4\n",
            "                                                  Dança e Coreografia       0.00      0.00      0.00         2\n",
            "                                                 Design de interiores       0.00      0.00      0.00         1\n",
            "                                                   Design e Estilismo       0.00      0.00      0.00         1\n",
            "                                                       Design gráfico       0.00      0.00      0.00         2\n",
            "                                  Escrita Criativa, Leitura e Redação       0.00      0.00      0.00         5\n",
            "Exercício Profissional e Pesquisa em Humanidades , Artes e Linguagens       0.50      0.25      0.33         4\n",
            "                                                    Filosofia e Ética       0.17      1.00      0.29        11\n",
            "                                                           Fotografia       0.00      0.00      0.00         2\n",
            "                                                     Historia Mundial       0.30      0.43      0.35         7\n",
            "                                                   Historia do Brasil       0.50      0.33      0.40         3\n",
            "                                                  História da Ciência       0.00      0.00      0.00         6\n",
            "                                                  História da Cultura       0.29      0.33      0.31         6\n",
            "                                         História e Filosofia da Arte       0.60      0.43      0.50         7\n",
            "        Interdisciplinar com foco em Humanidades , Artes e Linguagens       0.00      0.00      0.00         3\n",
            "                              Letras (línguas estrangeiras clássicas)       0.00      0.00      0.00         1\n",
            "                                                 Literatura Comparada       0.00      0.00      0.00         2\n",
            "                                                                 Moda       1.00      0.58      0.74        12\n",
            "                                                               Música       0.00      0.00      0.00         1\n",
            "                                                  Oratória e Retórica       0.00      0.00      0.00         3\n",
            "                                                 Produção audiovisual       0.00      0.00      0.00         6\n",
            "                                                      Produção cênica       1.00      0.17      0.29         6\n",
            "                                                 Produção fonográfica       0.00      0.00      0.00         2\n",
            "                                                               Teatro       0.40      0.86      0.55         7\n",
            "\n",
            "                                                             accuracy                           0.31       116\n",
            "                                                            macro avg       0.21      0.16      0.15       116\n",
            "                                                         weighted avg       0.34      0.31      0.25       116\n",
            "\n"
          ],
          "name": "stdout"
        },
        {
          "output_type": "stream",
          "text": [
            "/usr/local/lib/python3.6/dist-packages/sklearn/metrics/_classification.py:1272: UndefinedMetricWarning: Precision and F-score are ill-defined and being set to 0.0 in labels with no predicted samples. Use `zero_division` parameter to control this behavior.\n",
            "  _warn_prf(average, modifier, msg_start, len(result))\n"
          ],
          "name": "stderr"
        }
      ]
    },
    {
      "cell_type": "code",
      "metadata": {
        "id": "UZQLek2IhaCM",
        "colab_type": "code",
        "outputId": "46ccb6cc-d46a-4a40-d96f-a90dc584489b",
        "colab": {
          "base_uri": "https://localhost:8080/",
          "height": 793
        }
      },
      "source": [
        "from sklearn.linear_model import Perceptron\n",
        "\n",
        "logreg = Pipeline([('vect', TfidfVectorizer(stop_words= stop)),\n",
        "                ('tfidf', TfidfTransformer()),\n",
        "                ('clf', Perceptron()),\n",
        "               ])\n",
        "logreg.fit(X_train, y_train)\n",
        "\n",
        "%time\n",
        "\n",
        "y_pred = logreg.predict(X_test)\n",
        "\n",
        "print('accuracy %s' % accuracy_score(y_pred, y_test))\n",
        "print(classification_report(y_test, y_pred))"
      ],
      "execution_count": 9,
      "outputs": [
        {
          "output_type": "stream",
          "text": [
            "CPU times: user 2 µs, sys: 0 ns, total: 2 µs\n",
            "Wall time: 4.29 µs\n",
            "accuracy 0.5\n",
            "                                                                       precision    recall  f1-score   support\n",
            "\n",
            "                                                             Animação       1.00      1.00      1.00         1\n",
            "                                                                Artes       0.33      0.20      0.25         5\n",
            "                                                      Artes plásticas       0.00      0.00      0.00         1\n",
            "                                                 Cinema e audiovisual       0.00      0.00      0.00         5\n",
            "                                                 Ciências da religião       0.00      0.00      0.00         4\n",
            "                                                  Dança e Coreografia       1.00      0.50      0.67         2\n",
            "                                       Desenho Artístico e Ilustração       0.00      0.00      0.00         0\n",
            "                                                 Design de interiores       0.00      0.00      0.00         1\n",
            "                                                   Design e Estilismo       0.00      0.00      0.00         1\n",
            "                                                       Design gráfico       0.67      1.00      0.80         2\n",
            "                                  Escrita Criativa, Leitura e Redação       1.00      0.40      0.57         5\n",
            "Exercício Profissional e Pesquisa em Humanidades , Artes e Linguagens       0.38      0.75      0.50         4\n",
            "                                                    Filosofia e Ética       0.89      0.73      0.80        11\n",
            "                                                           Fotografia       0.00      0.00      0.00         2\n",
            "                                                     Historia Mundial       0.67      0.57      0.62         7\n",
            "                                                   Historia do Brasil       0.17      0.33      0.22         3\n",
            "                                                  História da Ciência       0.50      0.33      0.40         6\n",
            "                                                  História da Cultura       0.60      0.50      0.55         6\n",
            "                                         História e Filosofia da Arte       0.75      0.86      0.80         7\n",
            "        Interdisciplinar com foco em Humanidades , Artes e Linguagens       0.00      0.00      0.00         3\n",
            "                              Letras (línguas estrangeiras clássicas)       0.00      0.00      0.00         1\n",
            "                                                 Literatura Comparada       0.50      1.00      0.67         2\n",
            "                                                                 Moda       1.00      0.50      0.67        12\n",
            "                                                               Música       0.33      1.00      0.50         1\n",
            "                                                  Oratória e Retórica       1.00      0.33      0.50         3\n",
            "                                                 Produção audiovisual       0.67      0.33      0.44         6\n",
            "                                                    Produção cultural       0.00      0.00      0.00         0\n",
            "                                                      Produção cênica       0.83      0.83      0.83         6\n",
            "                                                 Produção fonográfica       0.50      0.50      0.50         2\n",
            "                                                  Produção multimídia       0.00      0.00      0.00         0\n",
            "                                                               Teatro       0.55      0.86      0.67         7\n",
            "\n",
            "                                                             accuracy                           0.50       116\n",
            "                                                            macro avg       0.43      0.40      0.39       116\n",
            "                                                         weighted avg       0.60      0.50      0.52       116\n",
            "\n"
          ],
          "name": "stdout"
        },
        {
          "output_type": "stream",
          "text": [
            "/usr/local/lib/python3.6/dist-packages/sklearn/metrics/_classification.py:1272: UndefinedMetricWarning: Precision and F-score are ill-defined and being set to 0.0 in labels with no predicted samples. Use `zero_division` parameter to control this behavior.\n",
            "  _warn_prf(average, modifier, msg_start, len(result))\n",
            "/usr/local/lib/python3.6/dist-packages/sklearn/metrics/_classification.py:1272: UndefinedMetricWarning: Recall and F-score are ill-defined and being set to 0.0 in labels with no true samples. Use `zero_division` parameter to control this behavior.\n",
            "  _warn_prf(average, modifier, msg_start, len(result))\n"
          ],
          "name": "stderr"
        }
      ]
    },
    {
      "cell_type": "code",
      "metadata": {
        "id": "nVcbl8pC2zYM",
        "colab_type": "code",
        "outputId": "32cc50e2-6abc-4ebc-aa9d-538f9d886475",
        "colab": {
          "base_uri": "https://localhost:8080/",
          "height": 776
        }
      },
      "source": [
        "from sklearn.linear_model import SGDClassifier\n",
        "\n",
        "sgd = Pipeline([('vect', CountVectorizer(stop_words= stop)),\n",
        "                ('tfidf', TfidfTransformer()),\n",
        "                ('clf', SGDClassifier(loss='hinge', penalty='l2',alpha=1e-3, random_state=42, max_iter=5, tol=None)),\n",
        "               ])\n",
        "sgd.fit(X_train, y_train)\n",
        "\n",
        "%time\n",
        "\n",
        "y_pred = sgd.predict(X_test)\n",
        "\n",
        "print('accuracy %s' % accuracy_score(y_pred, y_test))\n",
        "print(classification_report(y_test, y_pred))"
      ],
      "execution_count": 10,
      "outputs": [
        {
          "output_type": "stream",
          "text": [
            "CPU times: user 2 µs, sys: 0 ns, total: 2 µs\n",
            "Wall time: 5.01 µs\n",
            "accuracy 0.5862068965517241\n",
            "                                                                       precision    recall  f1-score   support\n",
            "\n",
            "                                                             Animação       1.00      1.00      1.00         1\n",
            "                                                                Artes       0.50      0.20      0.29         5\n",
            "                                                      Artes plásticas       0.00      0.00      0.00         1\n",
            "                                                 Cinema e audiovisual       0.67      0.40      0.50         5\n",
            "                                                 Ciências da religião       0.00      0.00      0.00         4\n",
            "                                                  Dança e Coreografia       1.00      1.00      1.00         2\n",
            "                                       Desenho Artístico e Ilustração       0.00      0.00      0.00         0\n",
            "                                                 Design de interiores       0.00      0.00      0.00         1\n",
            "                                                   Design e Estilismo       0.00      0.00      0.00         1\n",
            "                                                       Design gráfico       0.50      1.00      0.67         2\n",
            "                                  Escrita Criativa, Leitura e Redação       1.00      0.40      0.57         5\n",
            "Exercício Profissional e Pesquisa em Humanidades , Artes e Linguagens       0.38      0.75      0.50         4\n",
            "                                                    Filosofia e Ética       1.00      1.00      1.00        11\n",
            "                                                           Fotografia       1.00      0.50      0.67         2\n",
            "                                                     Historia Mundial       0.60      0.43      0.50         7\n",
            "                                                   Historia do Brasil       0.33      0.67      0.44         3\n",
            "                                                  História da Ciência       1.00      0.33      0.50         6\n",
            "                                                  História da Cultura       0.50      0.50      0.50         6\n",
            "                                         História e Filosofia da Arte       0.71      0.71      0.71         7\n",
            "        Interdisciplinar com foco em Humanidades , Artes e Linguagens       0.00      0.00      0.00         3\n",
            "                              Letras (línguas estrangeiras clássicas)       0.00      0.00      0.00         1\n",
            "                                                 Literatura Comparada       0.50      1.00      0.67         2\n",
            "                                                                 Moda       1.00      0.67      0.80        12\n",
            "                                                               Música       0.33      1.00      0.50         1\n",
            "                                                  Oratória e Retórica       1.00      0.33      0.50         3\n",
            "                                                 Produção audiovisual       1.00      0.67      0.80         6\n",
            "                                                    Produção cultural       0.00      0.00      0.00         0\n",
            "                                                      Produção cênica       0.83      0.83      0.83         6\n",
            "                                                 Produção fonográfica       0.50      0.50      0.50         2\n",
            "                                                               Teatro       0.30      0.86      0.44         7\n",
            "\n",
            "                                                             accuracy                           0.59       116\n",
            "                                                            macro avg       0.52      0.49      0.46       116\n",
            "                                                         weighted avg       0.68      0.59      0.59       116\n",
            "\n"
          ],
          "name": "stdout"
        },
        {
          "output_type": "stream",
          "text": [
            "/usr/local/lib/python3.6/dist-packages/sklearn/metrics/_classification.py:1272: UndefinedMetricWarning: Precision and F-score are ill-defined and being set to 0.0 in labels with no predicted samples. Use `zero_division` parameter to control this behavior.\n",
            "  _warn_prf(average, modifier, msg_start, len(result))\n",
            "/usr/local/lib/python3.6/dist-packages/sklearn/metrics/_classification.py:1272: UndefinedMetricWarning: Recall and F-score are ill-defined and being set to 0.0 in labels with no true samples. Use `zero_division` parameter to control this behavior.\n",
            "  _warn_prf(average, modifier, msg_start, len(result))\n"
          ],
          "name": "stderr"
        }
      ]
    },
    {
      "cell_type": "code",
      "metadata": {
        "id": "aK2SwSoM2zYQ",
        "colab_type": "code",
        "outputId": "6a7bfe17-f3e9-4b70-d7ac-efdb13db5a43",
        "colab": {
          "base_uri": "https://localhost:8080/",
          "height": 759
        }
      },
      "source": [
        "from sklearn.linear_model import LogisticRegression\n",
        "\n",
        "logreg = Pipeline([('vect', TfidfVectorizer(stop_words= stop)),\n",
        "                ('tfidf', TfidfTransformer()),\n",
        "                ('clf', LogisticRegression(n_jobs=1, C=1e5)),\n",
        "               ])\n",
        "logreg.fit(X_train, y_train)\n",
        "\n",
        "%time\n",
        "\n",
        "y_pred = logreg.predict(X_test)\n",
        "\n",
        "print('accuracy %s' % accuracy_score(y_pred, y_test))\n",
        "print(classification_report(y_test, y_pred))"
      ],
      "execution_count": 11,
      "outputs": [
        {
          "output_type": "stream",
          "text": [
            "CPU times: user 5 µs, sys: 0 ns, total: 5 µs\n",
            "Wall time: 6.44 µs\n",
            "accuracy 0.5603448275862069\n",
            "                                                                       precision    recall  f1-score   support\n",
            "\n",
            "                                                             Animação       1.00      1.00      1.00         1\n",
            "                                                                Artes       0.50      0.20      0.29         5\n",
            "                                                      Artes plásticas       0.00      0.00      0.00         1\n",
            "                                                 Cinema e audiovisual       0.00      0.00      0.00         5\n",
            "                                                 Ciências da religião       0.00      0.00      0.00         4\n",
            "                                                  Dança e Coreografia       1.00      1.00      1.00         2\n",
            "                                       Desenho Artístico e Ilustração       0.00      0.00      0.00         0\n",
            "                                                 Design de interiores       0.00      0.00      0.00         1\n",
            "                                                   Design e Estilismo       0.00      0.00      0.00         1\n",
            "                                                       Design gráfico       0.50      1.00      0.67         2\n",
            "                                  Escrita Criativa, Leitura e Redação       1.00      0.40      0.57         5\n",
            "Exercício Profissional e Pesquisa em Humanidades , Artes e Linguagens       0.38      0.75      0.50         4\n",
            "                                                    Filosofia e Ética       0.91      0.91      0.91        11\n",
            "                                                           Fotografia       1.00      0.50      0.67         2\n",
            "                                                     Historia Mundial       0.27      0.43      0.33         7\n",
            "                                                   Historia do Brasil       0.29      0.67      0.40         3\n",
            "                                                  História da Ciência       0.50      0.33      0.40         6\n",
            "                                                  História da Cultura       0.43      0.50      0.46         6\n",
            "                                         História e Filosofia da Arte       0.60      0.86      0.71         7\n",
            "        Interdisciplinar com foco em Humanidades , Artes e Linguagens       0.00      0.00      0.00         3\n",
            "                              Letras (línguas estrangeiras clássicas)       0.00      0.00      0.00         1\n",
            "                                                 Literatura Comparada       0.67      1.00      0.80         2\n",
            "                                                                 Moda       1.00      0.58      0.74        12\n",
            "                                                               Música       0.50      1.00      0.67         1\n",
            "                                                  Oratória e Retórica       1.00      0.33      0.50         3\n",
            "                                                 Produção audiovisual       0.67      0.67      0.67         6\n",
            "                                                      Produção cênica       1.00      0.83      0.91         6\n",
            "                                                 Produção fonográfica       0.50      0.50      0.50         2\n",
            "                                                               Teatro       0.55      0.86      0.67         7\n",
            "\n",
            "                                                             accuracy                           0.56       116\n",
            "                                                            macro avg       0.49      0.49      0.46       116\n",
            "                                                         weighted avg       0.60      0.56      0.55       116\n",
            "\n"
          ],
          "name": "stdout"
        },
        {
          "output_type": "stream",
          "text": [
            "/usr/local/lib/python3.6/dist-packages/sklearn/metrics/_classification.py:1272: UndefinedMetricWarning: Precision and F-score are ill-defined and being set to 0.0 in labels with no predicted samples. Use `zero_division` parameter to control this behavior.\n",
            "  _warn_prf(average, modifier, msg_start, len(result))\n",
            "/usr/local/lib/python3.6/dist-packages/sklearn/metrics/_classification.py:1272: UndefinedMetricWarning: Recall and F-score are ill-defined and being set to 0.0 in labels with no true samples. Use `zero_division` parameter to control this behavior.\n",
            "  _warn_prf(average, modifier, msg_start, len(result))\n"
          ],
          "name": "stderr"
        }
      ]
    },
    {
      "cell_type": "code",
      "metadata": {
        "id": "vEEEIuxhhY1n",
        "colab_type": "code",
        "outputId": "1935cb26-5f4b-4422-da57-fe15c3e36489",
        "colab": {
          "base_uri": "https://localhost:8080/",
          "height": 776
        }
      },
      "source": [
        "from sklearn.linear_model import PassiveAggressiveClassifier\n",
        "\n",
        "logreg = Pipeline([('vect', TfidfVectorizer(stop_words= stop)),\n",
        "                ('tfidf', TfidfTransformer()),\n",
        "                ('clf', PassiveAggressiveClassifier()),\n",
        "               ])\n",
        "logreg.fit(X_train, y_train)\n",
        "\n",
        "%time\n",
        "\n",
        "y_pred = logreg.predict(X_test)\n",
        "\n",
        "print('accuracy %s' % accuracy_score(y_pred, y_test))\n",
        "print(classification_report(y_test, y_pred))"
      ],
      "execution_count": 12,
      "outputs": [
        {
          "output_type": "stream",
          "text": [
            "CPU times: user 5 µs, sys: 1 µs, total: 6 µs\n",
            "Wall time: 5.96 µs\n",
            "accuracy 0.5431034482758621\n",
            "                                                                       precision    recall  f1-score   support\n",
            "\n",
            "                                                             Animação       1.00      1.00      1.00         1\n",
            "                                                                Artes       0.50      0.20      0.29         5\n",
            "                                                      Artes plásticas       0.00      0.00      0.00         1\n",
            "                                                 Cinema e audiovisual       1.00      0.20      0.33         5\n",
            "                                                 Ciências da religião       0.00      0.00      0.00         4\n",
            "                                                  Dança e Coreografia       1.00      1.00      1.00         2\n",
            "                                       Desenho Artístico e Ilustração       0.00      0.00      0.00         0\n",
            "                                                 Design de interiores       0.00      0.00      0.00         1\n",
            "                                                   Design e Estilismo       0.00      0.00      0.00         1\n",
            "                                                       Design gráfico       0.33      0.50      0.40         2\n",
            "                                  Escrita Criativa, Leitura e Redação       1.00      0.40      0.57         5\n",
            "Exercício Profissional e Pesquisa em Humanidades , Artes e Linguagens       0.38      0.75      0.50         4\n",
            "                                                    Filosofia e Ética       0.90      0.82      0.86        11\n",
            "                                                           Fotografia       1.00      0.50      0.67         2\n",
            "                                                     Historia Mundial       0.31      0.57      0.40         7\n",
            "                                                   Historia do Brasil       0.17      0.33      0.22         3\n",
            "                                                  História da Ciência       0.50      0.33      0.40         6\n",
            "                                                  História da Cultura       0.60      0.50      0.55         6\n",
            "                                         História e Filosofia da Arte       0.67      0.86      0.75         7\n",
            "        Interdisciplinar com foco em Humanidades , Artes e Linguagens       0.00      0.00      0.00         3\n",
            "                              Letras (línguas estrangeiras clássicas)       0.00      0.00      0.00         1\n",
            "                                                 Literatura Comparada       0.67      1.00      0.80         2\n",
            "                                                                 Moda       1.00      0.50      0.67        12\n",
            "                                                               Música       0.33      1.00      0.50         1\n",
            "                                                  Oratória e Retórica       1.00      0.33      0.50         3\n",
            "                                                 Produção audiovisual       0.67      0.67      0.67         6\n",
            "                                                    Produção cultural       0.00      0.00      0.00         0\n",
            "                                                      Produção cênica       1.00      0.83      0.91         6\n",
            "                                                 Produção fonográfica       0.50      0.50      0.50         2\n",
            "                                                               Teatro       0.60      0.86      0.71         7\n",
            "\n",
            "                                                             accuracy                           0.54       116\n",
            "                                                            macro avg       0.50      0.46      0.44       116\n",
            "                                                         weighted avg       0.65      0.54      0.55       116\n",
            "\n"
          ],
          "name": "stdout"
        },
        {
          "output_type": "stream",
          "text": [
            "/usr/local/lib/python3.6/dist-packages/sklearn/metrics/_classification.py:1272: UndefinedMetricWarning: Precision and F-score are ill-defined and being set to 0.0 in labels with no predicted samples. Use `zero_division` parameter to control this behavior.\n",
            "  _warn_prf(average, modifier, msg_start, len(result))\n",
            "/usr/local/lib/python3.6/dist-packages/sklearn/metrics/_classification.py:1272: UndefinedMetricWarning: Recall and F-score are ill-defined and being set to 0.0 in labels with no true samples. Use `zero_division` parameter to control this behavior.\n",
            "  _warn_prf(average, modifier, msg_start, len(result))\n"
          ],
          "name": "stderr"
        }
      ]
    },
    {
      "cell_type": "code",
      "metadata": {
        "id": "C-yqA9-ehsWE",
        "colab_type": "code",
        "outputId": "fd5c8ef5-5a4e-4fcb-9a85-69836afd3636",
        "colab": {
          "base_uri": "https://localhost:8080/",
          "height": 759
        }
      },
      "source": [
        "from sklearn.linear_model import RidgeClassifierCV\n",
        "\n",
        "logreg = Pipeline([('vect', TfidfVectorizer(stop_words= stop)),\n",
        "                ('tfidf', TfidfTransformer()),\n",
        "                ('clf', RidgeClassifierCV()),\n",
        "               ])\n",
        "logreg.fit(X_train, y_train)\n",
        "\n",
        "%time\n",
        "\n",
        "y_pred = logreg.predict(X_test)\n",
        "\n",
        "print('accuracy %s' % accuracy_score(y_pred, y_test))\n",
        "print(classification_report(y_test, y_pred))"
      ],
      "execution_count": 13,
      "outputs": [
        {
          "output_type": "stream",
          "text": [
            "CPU times: user 2 µs, sys: 0 ns, total: 2 µs\n",
            "Wall time: 6.2 µs\n",
            "accuracy 0.5862068965517241\n",
            "                                                                       precision    recall  f1-score   support\n",
            "\n",
            "                                                             Animação       1.00      1.00      1.00         1\n",
            "                                                                Artes       0.50      0.20      0.29         5\n",
            "                                                      Artes plásticas       0.00      0.00      0.00         1\n",
            "                                                 Cinema e audiovisual       0.33      0.20      0.25         5\n",
            "                                                 Ciências da religião       0.00      0.00      0.00         4\n",
            "                                                  Dança e Coreografia       1.00      1.00      1.00         2\n",
            "                                       Desenho Artístico e Ilustração       0.00      0.00      0.00         0\n",
            "                                                 Design de interiores       0.00      0.00      0.00         1\n",
            "                                                   Design e Estilismo       0.00      0.00      0.00         1\n",
            "                                                       Design gráfico       0.50      1.00      0.67         2\n",
            "                                  Escrita Criativa, Leitura e Redação       1.00      0.40      0.57         5\n",
            "Exercício Profissional e Pesquisa em Humanidades , Artes e Linguagens       0.43      0.75      0.55         4\n",
            "                                                    Filosofia e Ética       0.92      1.00      0.96        11\n",
            "                                                           Fotografia       1.00      0.50      0.67         2\n",
            "                                                     Historia Mundial       0.25      0.43      0.32         7\n",
            "                                                   Historia do Brasil       0.33      0.67      0.44         3\n",
            "                                                  História da Ciência       1.00      0.33      0.50         6\n",
            "                                                  História da Cultura       0.43      0.50      0.46         6\n",
            "                                         História e Filosofia da Arte       0.75      0.86      0.80         7\n",
            "        Interdisciplinar com foco em Humanidades , Artes e Linguagens       0.00      0.00      0.00         3\n",
            "                              Letras (línguas estrangeiras clássicas)       0.00      0.00      0.00         1\n",
            "                                                 Literatura Comparada       0.50      1.00      0.67         2\n",
            "                                                                 Moda       1.00      0.67      0.80        12\n",
            "                                                               Música       0.33      1.00      0.50         1\n",
            "                                                  Oratória e Retórica       1.00      0.33      0.50         3\n",
            "                                                 Produção audiovisual       1.00      0.67      0.80         6\n",
            "                                                      Produção cênica       0.83      0.83      0.83         6\n",
            "                                                 Produção fonográfica       0.50      0.50      0.50         2\n",
            "                                                               Teatro       0.46      0.86      0.60         7\n",
            "\n",
            "                                                             accuracy                           0.59       116\n",
            "                                                            macro avg       0.52      0.51      0.47       116\n",
            "                                                         weighted avg       0.65      0.59      0.58       116\n",
            "\n"
          ],
          "name": "stdout"
        },
        {
          "output_type": "stream",
          "text": [
            "/usr/local/lib/python3.6/dist-packages/sklearn/metrics/_classification.py:1272: UndefinedMetricWarning: Precision and F-score are ill-defined and being set to 0.0 in labels with no predicted samples. Use `zero_division` parameter to control this behavior.\n",
            "  _warn_prf(average, modifier, msg_start, len(result))\n",
            "/usr/local/lib/python3.6/dist-packages/sklearn/metrics/_classification.py:1272: UndefinedMetricWarning: Recall and F-score are ill-defined and being set to 0.0 in labels with no true samples. Use `zero_division` parameter to control this behavior.\n",
            "  _warn_prf(average, modifier, msg_start, len(result))\n"
          ],
          "name": "stderr"
        }
      ]
    },
    {
      "cell_type": "code",
      "metadata": {
        "id": "E3vVg8yvh0zE",
        "colab_type": "code",
        "outputId": "f889d376-e004-4f70-c351-fa9bc7799912",
        "colab": {
          "base_uri": "https://localhost:8080/",
          "height": 759
        }
      },
      "source": [
        "from sklearn.tree import DecisionTreeClassifier\n",
        "\n",
        "dt = Pipeline([('vect', TfidfVectorizer(stop_words= stop)),\n",
        "                ('tfidf', TfidfTransformer()),\n",
        "                ('clf', RidgeClassifierCV()),\n",
        "               ])\n",
        "dt.fit(X_train, y_train)\n",
        "\n",
        "%time\n",
        "\n",
        "y_pred = logreg.predict(X_test)\n",
        "\n",
        "print('accuracy %s' % accuracy_score(y_pred, y_test))\n",
        "print(classification_report(y_test, y_pred))"
      ],
      "execution_count": 14,
      "outputs": [
        {
          "output_type": "stream",
          "text": [
            "CPU times: user 6 µs, sys: 1e+03 ns, total: 7 µs\n",
            "Wall time: 7.15 µs\n",
            "accuracy 0.5862068965517241\n",
            "                                                                       precision    recall  f1-score   support\n",
            "\n",
            "                                                             Animação       1.00      1.00      1.00         1\n",
            "                                                                Artes       0.50      0.20      0.29         5\n",
            "                                                      Artes plásticas       0.00      0.00      0.00         1\n",
            "                                                 Cinema e audiovisual       0.33      0.20      0.25         5\n",
            "                                                 Ciências da religião       0.00      0.00      0.00         4\n",
            "                                                  Dança e Coreografia       1.00      1.00      1.00         2\n",
            "                                       Desenho Artístico e Ilustração       0.00      0.00      0.00         0\n",
            "                                                 Design de interiores       0.00      0.00      0.00         1\n",
            "                                                   Design e Estilismo       0.00      0.00      0.00         1\n",
            "                                                       Design gráfico       0.50      1.00      0.67         2\n",
            "                                  Escrita Criativa, Leitura e Redação       1.00      0.40      0.57         5\n",
            "Exercício Profissional e Pesquisa em Humanidades , Artes e Linguagens       0.43      0.75      0.55         4\n",
            "                                                    Filosofia e Ética       0.92      1.00      0.96        11\n",
            "                                                           Fotografia       1.00      0.50      0.67         2\n",
            "                                                     Historia Mundial       0.25      0.43      0.32         7\n",
            "                                                   Historia do Brasil       0.33      0.67      0.44         3\n",
            "                                                  História da Ciência       1.00      0.33      0.50         6\n",
            "                                                  História da Cultura       0.43      0.50      0.46         6\n",
            "                                         História e Filosofia da Arte       0.75      0.86      0.80         7\n",
            "        Interdisciplinar com foco em Humanidades , Artes e Linguagens       0.00      0.00      0.00         3\n",
            "                              Letras (línguas estrangeiras clássicas)       0.00      0.00      0.00         1\n",
            "                                                 Literatura Comparada       0.50      1.00      0.67         2\n",
            "                                                                 Moda       1.00      0.67      0.80        12\n",
            "                                                               Música       0.33      1.00      0.50         1\n",
            "                                                  Oratória e Retórica       1.00      0.33      0.50         3\n",
            "                                                 Produção audiovisual       1.00      0.67      0.80         6\n",
            "                                                      Produção cênica       0.83      0.83      0.83         6\n",
            "                                                 Produção fonográfica       0.50      0.50      0.50         2\n",
            "                                                               Teatro       0.46      0.86      0.60         7\n",
            "\n",
            "                                                             accuracy                           0.59       116\n",
            "                                                            macro avg       0.52      0.51      0.47       116\n",
            "                                                         weighted avg       0.65      0.59      0.58       116\n",
            "\n"
          ],
          "name": "stdout"
        },
        {
          "output_type": "stream",
          "text": [
            "/usr/local/lib/python3.6/dist-packages/sklearn/metrics/_classification.py:1272: UndefinedMetricWarning: Precision and F-score are ill-defined and being set to 0.0 in labels with no predicted samples. Use `zero_division` parameter to control this behavior.\n",
            "  _warn_prf(average, modifier, msg_start, len(result))\n",
            "/usr/local/lib/python3.6/dist-packages/sklearn/metrics/_classification.py:1272: UndefinedMetricWarning: Recall and F-score are ill-defined and being set to 0.0 in labels with no true samples. Use `zero_division` parameter to control this behavior.\n",
            "  _warn_prf(average, modifier, msg_start, len(result))\n"
          ],
          "name": "stderr"
        }
      ]
    },
    {
      "cell_type": "code",
      "metadata": {
        "id": "NrjokcPQinJI",
        "colab_type": "code",
        "outputId": "2969975a-daee-4f47-b16f-1491b702133e",
        "colab": {
          "base_uri": "https://localhost:8080/",
          "height": 759
        }
      },
      "source": [
        "from sklearn.svm import SVC\n",
        "from sklearn.feature_extraction import DictVectorizer\n",
        "svc = Pipeline([('vect', CountVectorizer(stop_words= stop)),\n",
        "                ('tfidf', TfidfTransformer()),\n",
        "                ('clf', SVC(kernel='linear')),\n",
        "               ])\n",
        "svc.fit(X_train, y_train)\n",
        "\n",
        "%time\n",
        "\n",
        "y_pred = logreg.predict(X_test)\n",
        "\n",
        "print('accuracy %s' % accuracy_score(y_pred, y_test))\n",
        "print(classification_report(y_test, y_pred))"
      ],
      "execution_count": 15,
      "outputs": [
        {
          "output_type": "stream",
          "text": [
            "CPU times: user 5 µs, sys: 1 µs, total: 6 µs\n",
            "Wall time: 6.44 µs\n",
            "accuracy 0.5862068965517241\n",
            "                                                                       precision    recall  f1-score   support\n",
            "\n",
            "                                                             Animação       1.00      1.00      1.00         1\n",
            "                                                                Artes       0.50      0.20      0.29         5\n",
            "                                                      Artes plásticas       0.00      0.00      0.00         1\n",
            "                                                 Cinema e audiovisual       0.33      0.20      0.25         5\n",
            "                                                 Ciências da religião       0.00      0.00      0.00         4\n",
            "                                                  Dança e Coreografia       1.00      1.00      1.00         2\n",
            "                                       Desenho Artístico e Ilustração       0.00      0.00      0.00         0\n",
            "                                                 Design de interiores       0.00      0.00      0.00         1\n",
            "                                                   Design e Estilismo       0.00      0.00      0.00         1\n",
            "                                                       Design gráfico       0.50      1.00      0.67         2\n",
            "                                  Escrita Criativa, Leitura e Redação       1.00      0.40      0.57         5\n",
            "Exercício Profissional e Pesquisa em Humanidades , Artes e Linguagens       0.43      0.75      0.55         4\n",
            "                                                    Filosofia e Ética       0.92      1.00      0.96        11\n",
            "                                                           Fotografia       1.00      0.50      0.67         2\n",
            "                                                     Historia Mundial       0.25      0.43      0.32         7\n",
            "                                                   Historia do Brasil       0.33      0.67      0.44         3\n",
            "                                                  História da Ciência       1.00      0.33      0.50         6\n",
            "                                                  História da Cultura       0.43      0.50      0.46         6\n",
            "                                         História e Filosofia da Arte       0.75      0.86      0.80         7\n",
            "        Interdisciplinar com foco em Humanidades , Artes e Linguagens       0.00      0.00      0.00         3\n",
            "                              Letras (línguas estrangeiras clássicas)       0.00      0.00      0.00         1\n",
            "                                                 Literatura Comparada       0.50      1.00      0.67         2\n",
            "                                                                 Moda       1.00      0.67      0.80        12\n",
            "                                                               Música       0.33      1.00      0.50         1\n",
            "                                                  Oratória e Retórica       1.00      0.33      0.50         3\n",
            "                                                 Produção audiovisual       1.00      0.67      0.80         6\n",
            "                                                      Produção cênica       0.83      0.83      0.83         6\n",
            "                                                 Produção fonográfica       0.50      0.50      0.50         2\n",
            "                                                               Teatro       0.46      0.86      0.60         7\n",
            "\n",
            "                                                             accuracy                           0.59       116\n",
            "                                                            macro avg       0.52      0.51      0.47       116\n",
            "                                                         weighted avg       0.65      0.59      0.58       116\n",
            "\n"
          ],
          "name": "stdout"
        },
        {
          "output_type": "stream",
          "text": [
            "/usr/local/lib/python3.6/dist-packages/sklearn/metrics/_classification.py:1272: UndefinedMetricWarning: Precision and F-score are ill-defined and being set to 0.0 in labels with no predicted samples. Use `zero_division` parameter to control this behavior.\n",
            "  _warn_prf(average, modifier, msg_start, len(result))\n",
            "/usr/local/lib/python3.6/dist-packages/sklearn/metrics/_classification.py:1272: UndefinedMetricWarning: Recall and F-score are ill-defined and being set to 0.0 in labels with no true samples. Use `zero_division` parameter to control this behavior.\n",
            "  _warn_prf(average, modifier, msg_start, len(result))\n"
          ],
          "name": "stderr"
        }
      ]
    },
    {
      "cell_type": "code",
      "metadata": {
        "id": "k3ADSvWxewmH",
        "colab_type": "code",
        "colab": {}
      },
      "source": [
        "# from sklearn.tree import DecisionTreeClassifier\n",
        "\n",
        "# dt = Pipeline([('vect', TfidfVectorizer(stop_words= stop)),\n",
        "#                 ('tfidf', TfidfTransformer()),\n",
        "#                 ('clf', RidgeClassifierCV()),\n",
        "#                ])\n",
        "# dt.fit(xx_train, yy_train)\n",
        "\n",
        "# %time\n",
        "\n",
        "# yy_pred = logreg.predict(xx_test)\n",
        "\n",
        "# print('accuracy %s' % accuracy_score(yy_pred, yy_test))\n",
        "# print(classification_report(yy_test, yy_pred))"
      ],
      "execution_count": 0,
      "outputs": []
    },
    {
      "cell_type": "code",
      "metadata": {
        "id": "ec9adHT0hS7w",
        "colab_type": "code",
        "colab": {}
      },
      "source": [
        ""
      ],
      "execution_count": 0,
      "outputs": []
    }
  ]
}