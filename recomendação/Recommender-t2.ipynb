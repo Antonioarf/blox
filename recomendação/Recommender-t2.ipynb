{
  "nbformat": 4,
  "nbformat_minor": 0,
  "metadata": {
    "kernelspec": {
      "display_name": "Python 3",
      "language": "python",
      "name": "python3"
    },
    "language_info": {
      "codemirror_mode": {
        "name": "ipython",
        "version": 3
      },
      "file_extension": ".py",
      "mimetype": "text/x-python",
      "name": "python",
      "nbconvert_exporter": "python",
      "pygments_lexer": "ipython3",
      "version": "3.7.4"
    },
    "colab": {
      "name": "Recommender_t2.ipynb",
      "provenance": [],
      "collapsed_sections": [],
      "machine_shape": "hm",
      "include_colab_link": true
    }
  },
  "cells": [
    {
      "cell_type": "markdown",
      "metadata": {
        "id": "view-in-github",
        "colab_type": "text"
      },
      "source": [
        "<a href=\"https://colab.research.google.com/github/Antonioarf/blox/blob/master/recomenda%C3%A7%C3%A3o/Recommender-t2.ipynb\" target=\"_parent\"><img src=\"https://colab.research.google.com/assets/colab-badge.svg\" alt=\"Open In Colab\"/></a>"
      ]
    },
    {
      "cell_type": "markdown",
      "metadata": {
        "id": "dbDoKLROzP5L",
        "colab_type": "text"
      },
      "source": [
        "# SAPIENS 1"
      ]
    },
    {
      "cell_type": "code",
      "metadata": {
        "id": "XLNKsJxhzP5O",
        "colab_type": "code",
        "colab": {}
      },
      "source": [
        "# !pip install -U -q PyDrive\n",
        "import heapq\n",
        "import random\n",
        "import pandas as pd;\n",
        "import numpy as np\n",
        "from sklearn.model_selection import train_test_split\n",
        "from sklearn.datasets import make_multilabel_classification\n",
        "from sklearn.multiclass import OneVsRestClassifier\n",
        "from sklearn.svm import SVC\n",
        "from pydrive.auth import GoogleAuth\n",
        "from pydrive.drive import GoogleDrive \n",
        "from google.colab import auth \n",
        "from oauth2client.client import GoogleCredentials\n",
        "from google.colab import drive\n",
        "import torch\n",
        "from joblib import dump, load\n",
        "# from sklearn.pipeline import Pipeline\n",
        "# from sklearn.metrics import accuracy_score\n",
        "# from sklearn.metrics import classification_report\n",
        "# import pickle\n",
        "# from sklearn.feature_extraction.text import TfidfTransformer\n",
        "# from sklearn.feature_extraction.text import CountVectorizer\n",
        "# from sklearn.feature_extraction.text import TfidfVectorizer\n",
        "# from sklearn.feature_extraction.text import TfidfTransformer\n",
        "# from sklearn.feature_extraction.text import CountVectorizer\n",
        "# from sklearn.feature_extraction.text import TfidfVectorizer\n",
        "# from sklearn.linear_model import LogisticRegression"
      ],
      "execution_count": 0,
      "outputs": []
    },
    {
      "cell_type": "code",
      "metadata": {
        "id": "q11md6KhzP5T",
        "colab_type": "code",
        "colab": {}
      },
      "source": [
        "df1 = pd.read_csv(\"https://github.com/Antonioarf/blox/blob/master/recomenda%C3%A7%C3%A3o/df_1_spaiens.csv?raw=true\")\n",
        "df2 = pd.read_csv(\"https://raw.githubusercontent.com/Antonioarf/blox/master/recomenda%C3%A7%C3%A3o/df_2_sapiens.csv\") \n",
        "df5 = df1"
      ],
      "execution_count": 0,
      "outputs": []
    },
    {
      "cell_type": "markdown",
      "metadata": {
        "id": "xRFaYFfTzP5X",
        "colab_type": "text"
      },
      "source": [
        "## limpesa e dummify do df1\n",
        "### estamos trabalhando com 113 blox e 678 alunos"
      ]
    },
    {
      "cell_type": "code",
      "metadata": {
        "id": "KshjMYW1zP5i",
        "colab_type": "code",
        "colab": {}
      },
      "source": [
        "def dummify(data, column_name):\n",
        "    \"\"\"\n",
        "        Converte a coluna column_name em dummies / one-hot e as adiciona ao dataframe\n",
        "        retorna uma copia do  df original *sem* a coluna que foi dummified\n",
        "    \"\"\"\n",
        "    df = data.copy()\n",
        "    # Nota: se você for um econometrista, pode se interessar por usar a opção dropFirst = True na get_dummies\n",
        "    df2 = pd.concat([df.drop(column_name, axis=1), pd.get_dummies(data[column_name], prefix=None)], axis=1)\n",
        "    return df2\n",
        "\n",
        "def deletar(coluna):\n",
        "    lista = list (coluna.unique()) #.tolinst()  \n",
        "    for e in lista:\n",
        "        coluna = coluna.replace(e,lista.index(e))\n",
        "    return coluna"
      ],
      "execution_count": 0,
      "outputs": []
    },
    {
      "cell_type": "code",
      "metadata": {
        "id": "K-JyxjU3zP5f",
        "colab_type": "code",
        "colab": {}
      },
      "source": [
        "df1.head()\n",
        "dfx = df1\n",
        "dfx = dfx.set_index('nome_do_aluno')\n",
        "dfx = dfx.sort_values(\"nome_do_aluno\")\n",
        "entao = dfx['nome_blox']"
      ],
      "execution_count": 0,
      "outputs": []
    },
    {
      "cell_type": "code",
      "metadata": {
        "id": "t81A1L2dzP5l",
        "colab_type": "code",
        "colab": {}
      },
      "source": [
        "df1 = dummify(df1, ['nome_blox'])\n",
        "lista = df1.columns.tolist()[5:]"
      ],
      "execution_count": 0,
      "outputs": []
    },
    {
      "cell_type": "code",
      "metadata": {
        "id": "MxJZP0GQzP5p",
        "colab_type": "code",
        "colab": {}
      },
      "source": [
        "aggregation_functions = {}\n",
        "aggregation_functions['course_name'] = 'first'\n",
        "for e in lista:\n",
        "    aggregation_functions[e] = 'sum'\n",
        "df1 = df1.groupby(df1['nome_do_aluno']).aggregate(aggregation_functions)"
      ],
      "execution_count": 0,
      "outputs": []
    },
    {
      "cell_type": "code",
      "metadata": {
        "id": "vFNe_3yDzP5u",
        "colab_type": "code",
        "colab": {}
      },
      "source": [
        "lista = [\"course_name\"]\n",
        "for e in df1.columns[1:]:\n",
        "    lista.append(e[10:])\n",
        "df1.columns = lista"
      ],
      "execution_count": 0,
      "outputs": []
    },
    {
      "cell_type": "markdown",
      "metadata": {
        "id": "dN7q-stEzP5x",
        "colab_type": "text"
      },
      "source": [
        "## Limpesa e tratamento do df2"
      ]
    },
    {
      "cell_type": "code",
      "metadata": {
        "id": "wrywuKyzzP5y",
        "colab_type": "code",
        "colab": {}
      },
      "source": [
        ""
      ],
      "execution_count": 0,
      "outputs": []
    },
    {
      "cell_type": "markdown",
      "metadata": {
        "id": "5pfMsq8LzP52",
        "colab_type": "text"
      },
      "source": [
        "## Primeira tentativa "
      ]
    },
    {
      "cell_type": "code",
      "metadata": {
        "id": "itRIoIjXzP53",
        "colab_type": "code",
        "colab": {}
      },
      "source": [
        "df_t = pd.DataFrame()\n",
        "for e in df1.columns[1:]:\n",
        "    lista = list (df2.loc[df2['nome_blox'] == e ][\"area_funcional\"])\n",
        "    df_t[e] = df1[e].replace(1, lista[0] )#.replace(0,np.nan)"
      ],
      "execution_count": 0,
      "outputs": []
    },
    {
      "cell_type": "code",
      "metadata": {
        "id": "cCGnp2K7zP6A",
        "colab_type": "code",
        "colab": {}
      },
      "source": [
        "df3 = df1\n",
        "df3 = df3.drop(list(df1.columns),axis=1)\n",
        "lista = []\n",
        "for e in df_t.values.tolist():\n",
        "    lista.append(list(filter(lambda a: a != 0, e)))\n",
        "df3['lista'] = lista"
      ],
      "execution_count": 0,
      "outputs": []
    },
    {
      "cell_type": "code",
      "metadata": {
        "id": "0Awx0oFCzP6J",
        "colab_type": "code",
        "colab": {}
      },
      "source": [
        "lll = []\n",
        "for i in df3['lista']:\n",
        "    k = i[0]\n",
        "    lista = []\n",
        "    for e in df2[\"area_funcional\"].unique():\n",
        "        lista.append(e.count(k))\n",
        "    lll.append(lista)\n",
        "df4 = pd.DataFrame.from_records(lll,columns = df2[\"area_funcional\"].unique())"
      ],
      "execution_count": 0,
      "outputs": []
    },
    {
      "cell_type": "code",
      "metadata": {
        "id": "sBNJ1uv3zP6P",
        "colab_type": "code",
        "colab": {}
      },
      "source": [
        "df4['corse_name'] = df1['course_name'].tolist()\n",
        "df4['corse_name'] = df4[\"corse_name\"].astype('category')\n",
        "lista=[]\n",
        "for e in dfx.index.unique():\n",
        "    lista.append(dfx.loc[dfx.index == e][\"nome_blox\"].tolist())\n",
        "df4[\"resp\"] = lista"
      ],
      "execution_count": 0,
      "outputs": []
    },
    {
      "cell_type": "code",
      "metadata": {
        "id": "cnX4K-OUzP6T",
        "colab_type": "code",
        "outputId": "63d5d548-13be-49be-98bc-06c5e110df33",
        "colab": {
          "base_uri": "https://localhost:8080/",
          "height": 87
        }
      },
      "source": [
        "df4.index = df3.index\n",
        "# dfx = dfx.set_index('nome_do_aluno')\n",
        "dfx = dfx.drop([\"nome_blox\",\"course_name\",\"modalidade\",\"ch\",\"nota\"],axis = 1)\n",
        "dfx.cloumns = df4.columns\n",
        "dfx.shape"
      ],
      "execution_count": 38,
      "outputs": [
        {
          "output_type": "stream",
          "text": [
            "/usr/local/lib/python3.6/dist-packages/ipykernel_launcher.py:4: UserWarning: Pandas doesn't allow columns to be created via a new attribute name - see https://pandas.pydata.org/pandas-docs/stable/indexing.html#attribute-access\n",
            "  after removing the cwd from sys.path.\n"
          ],
          "name": "stderr"
        },
        {
          "output_type": "execute_result",
          "data": {
            "text/plain": [
              "(33300, 0)"
            ]
          },
          "metadata": {
            "tags": []
          },
          "execution_count": 38
        }
      ]
    },
    {
      "cell_type": "code",
      "metadata": {
        "id": "xBPaePaJzP6W",
        "colab_type": "code",
        "colab": {}
      },
      "source": [
        "dfx = dfx.merge(df4, left_on= 'nome_do_aluno', right_on= 'nome_do_aluno')"
      ],
      "execution_count": 0,
      "outputs": []
    },
    {
      "cell_type": "code",
      "metadata": {
        "id": "Z6lJJPeBzP6f",
        "colab_type": "code",
        "outputId": "d9b6b80a-dfcc-4b0e-fd18-17f7e9a65ff4",
        "colab": {
          "base_uri": "https://localhost:8080/",
          "height": 34
        }
      },
      "source": [
        "dfx = dummify(dfx, 'corse_name')\n",
        "dfx['resp']= entao.astype('category')\n",
        "dfx.shape"
      ],
      "execution_count": 40,
      "outputs": [
        {
          "output_type": "execute_result",
          "data": {
            "text/plain": [
              "(33300, 34)"
            ]
          },
          "metadata": {
            "tags": []
          },
          "execution_count": 40
        }
      ]
    },
    {
      "cell_type": "code",
      "metadata": {
        "id": "81RIbbFEzP6j",
        "colab_type": "code",
        "colab": {}
      },
      "source": [
        "X_train, X_test, y_train, y_test = train_test_split(dfx ,dfx[\"resp\"], test_size=0.1,random_state=12)\n",
        "lis = y_train.unique()\n",
        "X_train = X_train.drop([\"resp\"],axis =1)\n",
        "X_test = X_test.drop([\"resp\"],axis =1)"
      ],
      "execution_count": 0,
      "outputs": []
    },
    {
      "cell_type": "markdown",
      "metadata": {
        "id": "gWAqN14hky5l",
        "colab_type": "text"
      },
      "source": [
        "## Salvando o modelo"
      ]
    },
    {
      "cell_type": "code",
      "metadata": {
        "id": "jXmAiqwMondd",
        "colab_type": "code",
        "colab": {}
      },
      "source": [
        "def regr(x,y):\n",
        "    rdm = OneVsRestClassifier(SVC(kernel='linear'))\n",
        "    # rdm = SVC(kernel='linear')\n",
        "    rdm = rdm.fit(x,y)\n",
        "    # j = rdm.decision_function(X_t)\n",
        "    return rdm"
      ],
      "execution_count": 0,
      "outputs": []
    },
    {
      "cell_type": "code",
      "metadata": {
        "id": "Qlduc2hs6a2s",
        "colab_type": "code",
        "colab": {}
      },
      "source": [
        "svc = regr(X_train,y_train)"
      ],
      "execution_count": 0,
      "outputs": []
    },
    {
      "cell_type": "code",
      "metadata": {
        "id": "zjLclTQ_2S8y",
        "colab_type": "code",
        "colab": {
          "base_uri": "https://localhost:8080/",
          "height": 34
        },
        "outputId": "c18e25ba-b40c-4d97-aa1e-0af680b8142b"
      },
      "source": [
        "from google.colab import drive\n",
        "drive.mount('/content/gdrive')"
      ],
      "execution_count": 44,
      "outputs": [
        {
          "output_type": "stream",
          "text": [
            "Drive already mounted at /content/gdrive; to attempt to forcibly remount, call drive.mount(\"/content/gdrive\", force_remount=True).\n"
          ],
          "name": "stdout"
        }
      ]
    },
    {
      "cell_type": "code",
      "metadata": {
        "id": "jFY3UkpZYYbp",
        "colab_type": "code",
        "colab": {
          "base_uri": "https://localhost:8080/",
          "height": 353
        },
        "outputId": "b348e9fa-fd3b-4b36-8455-0b8c6cfc6535"
      },
      "source": [
        "!ls /content/gdrive/'My Drive'"
      ],
      "execution_count": 45,
      "outputs": [
        {
          "output_type": "stream",
          "text": [
            " Book1.xlsx\n",
            "'Colab Notebooks'\n",
            "'Cópia de custom-query-offering-production-fiep'\n",
            "'Cópia de NOVO CINE de ESPM - Pós - Matriz de Referência.gsheet'\n",
            " ementas.xlsx\n",
            "'ESPM - GRADE 1.gsheet'\n",
            "'ESPM - GRADE 1.xlsx'\n",
            " eu.gsheet\n",
            "'Matrizes em Excel.gsheet'\n",
            "'Matrizes em Excel.xlsx'\n",
            " ml-blox.json\n",
            " recomender.pt\n",
            "'Relatório 1'\n",
            "'Relatório sem título'\n",
            "'Relatório sem título (1)'\n",
            "'Relatório sem título (2)'\n",
            "'Relatório sem título (3)'\n",
            "'Relatório sem título (4)'\n",
            "'Relatório sem título (5)'\n",
            "'Relatório sem título (6)'\n"
          ],
          "name": "stdout"
        }
      ]
    },
    {
      "cell_type": "code",
      "metadata": {
        "id": "36bcNhO_hrLg",
        "colab_type": "code",
        "colab": {}
      },
      "source": [
        "model_save_name = 'recomender.pt'\n",
        "path = F\"/content/gdrive/My Drive/{model_save_name}\" \n",
        "torch.save(svc, path)"
      ],
      "execution_count": 0,
      "outputs": []
    },
    {
      "cell_type": "markdown",
      "metadata": {
        "id": "Qe3tx3DQk4zX",
        "colab_type": "text"
      },
      "source": [
        "## Reabrindo o modelo"
      ]
    },
    {
      "cell_type": "code",
      "metadata": {
        "id": "BWOSAXH9hquQ",
        "colab_type": "code",
        "colab": {}
      },
      "source": [
        "model_save_name = 'recomender.pt'\n",
        "path = F\"/content/gdrive/My Drive/{model_save_name}\"\n",
        "teste_de_nome = torch.load(path)"
      ],
      "execution_count": 0,
      "outputs": []
    },
    {
      "cell_type": "code",
      "metadata": {
        "id": "by9bltSFmlK4",
        "colab_type": "code",
        "colab": {
          "base_uri": "https://localhost:8080/",
          "height": 134
        },
        "outputId": "f99755f3-ee58-40a0-c092-85d82629c40a"
      },
      "source": [
        "teste_de_nome "
      ],
      "execution_count": 48,
      "outputs": [
        {
          "output_type": "execute_result",
          "data": {
            "text/plain": [
              "OneVsRestClassifier(estimator=SVC(C=1.0, break_ties=False, cache_size=200,\n",
              "                                  class_weight=None, coef0=0.0,\n",
              "                                  decision_function_shape='ovr', degree=3,\n",
              "                                  gamma='scale', kernel='linear', max_iter=-1,\n",
              "                                  probability=False, random_state=None,\n",
              "                                  shrinking=True, tol=0.001, verbose=False),\n",
              "                    n_jobs=None)"
            ]
          },
          "metadata": {
            "tags": []
          },
          "execution_count": 48
        }
      ]
    },
    {
      "cell_type": "markdown",
      "metadata": {
        "id": "_um8kiE_pTnd",
        "colab_type": "text"
      },
      "source": [
        "## Contrução da recomendação"
      ]
    },
    {
      "cell_type": "code",
      "metadata": {
        "id": "1uzagytIzP6z",
        "colab_type": "code",
        "colab": {}
      },
      "source": [
        "def sugestao(rdm,X):\n",
        "    j = rdm.decision_function(X)\n",
        "    lista = list (X.index)\n",
        "    sugestoes = []\n",
        "    for e, t in zip (j, range(len (j)-1)):\n",
        "        sugestoes.append( list(set(list([lis[n] for n in heapq.nlargest(5, range(len(e)), e.take)])) - set(list(df5.loc[df5['nome_do_aluno'] == lista[t]][\"nome_blox\"]))))\n",
        "    return sugestoes"
      ],
      "execution_count": 0,
      "outputs": []
    },
    {
      "cell_type": "code",
      "metadata": {
        "id": "cald4oyOimYr",
        "colab_type": "code",
        "colab": {}
      },
      "source": [
        "deu = sugestao(teste_de_nome,X_test)"
      ],
      "execution_count": 0,
      "outputs": []
    },
    {
      "cell_type": "code",
      "metadata": {
        "id": "fCSmPPq-90TR",
        "colab_type": "code",
        "colab": {
          "base_uri": "https://localhost:8080/",
          "height": 188
        },
        "outputId": "fe83f03f-0326-4b65-c3c1-8ca44631b44a"
      },
      "source": [
        "lista = list (X_test.index)\n",
        "x =  random.randint(0,len(lista))\n",
        "print(x)\n",
        "print (list(df5.loc[df5['nome_do_aluno'] == lista[x]][\"nome_blox\"]))\n",
        "print (\"\\n\")\n",
        "for e in deu[x]:\n",
        "  print (e)"
      ],
      "execution_count": 51,
      "outputs": [
        {
          "output_type": "stream",
          "text": [
            "1991\n",
            "['Rondo.Agro', 'Economia II', 'PROFISSIONALIZE SUA EMPRESA', 'Mercado de capitais: Um passo para aplicar.', 'LOGÍSTICA DE A a Z', 'Inglês', 'Administrando as Finanças da Organização ', 'Agro.export', 'Bye Bye Estoques', 'Ticket de Negócios', 'Faça amor, não faça guerra', 'On ou off não importa! A comunicação tem que ser Integrada.', 'Criando valor para a Internacionalização', 'Estratégia de Sísifo', 'Cadeia de Suprimentos fora da Caixinha', 'O Despertar', 'Aprovado em 8 Concursos Públicos: o que ele fez?', 'Internacionalizando negócios', 'Consultoria - Eleve o potencial competitivo das empresas', 'SUPPLY CHAIN', 'REDAÇÃO NOTA MIL- Saiba como escrever e se dar bem.', 'Exportar é o que importa!', 'LEALDADE: O PARCEIRO CERTO PARA SEU NEGÓCIO', 'TRANSFORMANDO OS PIXELS EM RESULTADO', 'De Rondônia para o Mundo', 'NEGÓCIOS FAMILIARES', 'QUER TER UMA CARREIRA DE SUCESSO?', 'SERÁ QUE SEI PESQUISAR? VAMOS APRENDER!', 'CONHECIMENTO SEM FRONTEIRA', 'CONTADOR RAIZ X CONTADOR NUTELLA', 'Guarda Livros...Mas os Livros Sumiram!\"', 'Para que Psicologia no Trabalho?', 'VENHA SEM MEDO (6ª FEIRA)', 'FLASH BACK DE MATEMÁTICA (6ª FEIRA)', 'O JEITINHO BRASILEIRO: SOCIEDADE E CULTURA', 'WhatZap& Negócios', 'SUA EMPRESA SEM FRONTEIRAS', 'EUREKA! EUREKA! DESCOBRI A FÓRMULA DA COCA COLA!', 'Descobrindo o mercado internacional', 'Amante da Sabedoria']\n",
            "\n",
            "\n",
            "PERCEBER, MOTIVAR E DECIDIR\n",
            "Redes for dummies: superando limites\n",
            "REDES E TELEPROCESSAMENTO II\n",
            "GERENCIANDO O MEIO AMBIENTE\n",
            "DESENVOLVIMENTO HUMANO DE GESTORES\n"
          ],
          "name": "stdout"
        }
      ]
    },
    {
      "cell_type": "code",
      "metadata": {
        "id": "0M6e-kNQALgj",
        "colab_type": "code",
        "colab": {}
      },
      "source": [
        "# globals() 0,3 == 9990"
      ],
      "execution_count": 0,
      "outputs": []
    },
    {
      "cell_type": "code",
      "metadata": {
        "id": "iDnec_5goMPl",
        "colab_type": "code",
        "colab": {}
      },
      "source": [
        ""
      ],
      "execution_count": 0,
      "outputs": []
    }
  ]
}