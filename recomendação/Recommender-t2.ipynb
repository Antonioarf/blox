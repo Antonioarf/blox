{
  "nbformat": 4,
  "nbformat_minor": 0,
  "metadata": {
    "kernelspec": {
      "display_name": "Python 3",
      "language": "python",
      "name": "python3"
    },
    "language_info": {
      "codemirror_mode": {
        "name": "ipython",
        "version": 3
      },
      "file_extension": ".py",
      "mimetype": "text/x-python",
      "name": "python",
      "nbconvert_exporter": "python",
      "pygments_lexer": "ipython3",
      "version": "3.7.4"
    },
    "colab": {
      "name": "Recommender_t2.ipynb",
      "provenance": [],
      "collapsed_sections": [],
      "machine_shape": "hm",
      "include_colab_link": true
    }
  },
  "cells": [
    {
      "cell_type": "markdown",
      "metadata": {
        "id": "view-in-github",
        "colab_type": "text"
      },
      "source": [
        "<a href=\"https://colab.research.google.com/github/Antonioarf/blox/blob/master/recomenda%C3%A7%C3%A3o/Recommender-t2.ipynb\" target=\"_parent\"><img src=\"https://colab.research.google.com/assets/colab-badge.svg\" alt=\"Open In Colab\"/></a>"
      ]
    },
    {
      "cell_type": "markdown",
      "metadata": {
        "id": "dbDoKLROzP5L",
        "colab_type": "text"
      },
      "source": [
        "# SAPIENS 1"
      ]
    },
    {
      "cell_type": "code",
      "metadata": {
        "id": "XLNKsJxhzP5O",
        "colab_type": "code",
        "colab": {}
      },
      "source": [
        "import heapq\n",
        "import random\n",
        "import pandas as pd;\n",
        "import numpy as np\n",
        "from sklearn.pipeline import Pipeline\n",
        "from sklearn.metrics import accuracy_score\n",
        "from sklearn.model_selection import train_test_split\n",
        "from sklearn.datasets import make_multilabel_classification\n",
        "from sklearn.multiclass import OneVsRestClassifier\n",
        "from sklearn.feature_extraction.text import TfidfTransformer\n",
        "from sklearn.feature_extraction.text import CountVectorizer\n",
        "from sklearn.feature_extraction.text import TfidfVectorizer\n",
        "from sklearn.svm import SVC\n",
        "from sklearn.metrics import classification_report\n",
        "import pickle\n",
        "from joblib import dump, load"
      ],
      "execution_count": 0,
      "outputs": []
    },
    {
      "cell_type": "code",
      "metadata": {
        "id": "q11md6KhzP5T",
        "colab_type": "code",
        "outputId": "4fb8e6c7-ec23-4dce-ed75-90f81aef99d1",
        "colab": {
          "base_uri": "https://localhost:8080/",
          "height": 77
        }
      },
      "source": [
        "df1 = pd.read_csv(\"https://github.com/Antonioarf/blox/blob/master/recomenda%C3%A7%C3%A3o/df_1_spaiens.csv?raw=true\")\n",
        "df2 = pd.read_csv(\"https://raw.githubusercontent.com/Antonioarf/blox/master/recomenda%C3%A7%C3%A3o/df_2_sapiens.csv\") \n",
        "df5 = df1\n",
        "df1.head(3)\n",
        "df5.head(1)\n",
        "# df2.head(3)\n",
        "# df_t.head(3)\n",
        "# df3.head(3)\n",
        "# df4.head(3)\n",
        "# dfx.head(3)"
      ],
      "execution_count": 2,
      "outputs": [
        {
          "output_type": "execute_result",
          "data": {
            "text/html": [
              "<div>\n",
              "<style scoped>\n",
              "    .dataframe tbody tr th:only-of-type {\n",
              "        vertical-align: middle;\n",
              "    }\n",
              "\n",
              "    .dataframe tbody tr th {\n",
              "        vertical-align: top;\n",
              "    }\n",
              "\n",
              "    .dataframe thead th {\n",
              "        text-align: right;\n",
              "    }\n",
              "</style>\n",
              "<table border=\"1\" class=\"dataframe\">\n",
              "  <thead>\n",
              "    <tr style=\"text-align: right;\">\n",
              "      <th></th>\n",
              "      <th>nome_blox</th>\n",
              "      <th>course_name</th>\n",
              "      <th>modalidade</th>\n",
              "      <th>nome_do_aluno</th>\n",
              "      <th>ch</th>\n",
              "      <th>nota</th>\n",
              "    </tr>\n",
              "  </thead>\n",
              "  <tbody>\n",
              "    <tr>\n",
              "      <th>0</th>\n",
              "      <td>Algoritmos para Organizar e Procurar Melhor</td>\n",
              "      <td>ADMINISTRACAO</td>\n",
              "      <td>Presencial</td>\n",
              "      <td>LEONARDO FROTA GALVÃO</td>\n",
              "      <td>160</td>\n",
              "      <td>0.0</td>\n",
              "    </tr>\n",
              "  </tbody>\n",
              "</table>\n",
              "</div>"
            ],
            "text/plain": [
              "                                     nome_blox    course_name  ...   ch nota\n",
              "0  Algoritmos para Organizar e Procurar Melhor  ADMINISTRACAO  ...  160  0.0\n",
              "\n",
              "[1 rows x 6 columns]"
            ]
          },
          "metadata": {
            "tags": []
          },
          "execution_count": 2
        }
      ]
    },
    {
      "cell_type": "code",
      "metadata": {
        "id": "aryIDjnK42-k",
        "colab_type": "code",
        "outputId": "d7ea0002-572d-4bd9-a579-37a0ece292a9",
        "colab": {
          "base_uri": "https://localhost:8080/",
          "height": 225
        }
      },
      "source": [
        "df2.loc[df2['nome_blox'] == 'SALVANDO O AÇAÍ!!']"
      ],
      "execution_count": 3,
      "outputs": [
        {
          "output_type": "execute_result",
          "data": {
            "text/html": [
              "<div>\n",
              "<style scoped>\n",
              "    .dataframe tbody tr th:only-of-type {\n",
              "        vertical-align: middle;\n",
              "    }\n",
              "\n",
              "    .dataframe tbody tr th {\n",
              "        vertical-align: top;\n",
              "    }\n",
              "\n",
              "    .dataframe thead th {\n",
              "        text-align: right;\n",
              "    }\n",
              "</style>\n",
              "<table border=\"1\" class=\"dataframe\">\n",
              "  <thead>\n",
              "    <tr style=\"text-align: right;\">\n",
              "      <th></th>\n",
              "      <th>nome_blox</th>\n",
              "      <th>course_name</th>\n",
              "      <th>area_do_conhecimento</th>\n",
              "      <th>area_funcional</th>\n",
              "      <th>nota</th>\n",
              "    </tr>\n",
              "  </thead>\n",
              "  <tbody>\n",
              "    <tr>\n",
              "      <th>663</th>\n",
              "      <td>SALVANDO O AÇAÍ!!</td>\n",
              "      <td>ADMINISTRACAO</td>\n",
              "      <td>Complementar</td>\n",
              "      <td>Estratégia e Negociação</td>\n",
              "      <td>200.0</td>\n",
              "    </tr>\n",
              "    <tr>\n",
              "      <th>914</th>\n",
              "      <td>SALVANDO O AÇAÍ!!</td>\n",
              "      <td>CIÊNCIAS CONTÁBEIS</td>\n",
              "      <td>Complementar</td>\n",
              "      <td>Estratégia e Negociação</td>\n",
              "      <td>121.0</td>\n",
              "    </tr>\n",
              "    <tr>\n",
              "      <th>1186</th>\n",
              "      <td>SALVANDO O AÇAÍ!!</td>\n",
              "      <td>MARKETING</td>\n",
              "      <td>Complementar</td>\n",
              "      <td>Estratégia e Negociação</td>\n",
              "      <td>57.5</td>\n",
              "    </tr>\n",
              "    <tr>\n",
              "      <th>1190</th>\n",
              "      <td>SALVANDO O AÇAÍ!!</td>\n",
              "      <td>COMÉRCIO EXTERIOR</td>\n",
              "      <td>Complementar</td>\n",
              "      <td>Estratégia e Negociação</td>\n",
              "      <td>48.0</td>\n",
              "    </tr>\n",
              "    <tr>\n",
              "      <th>1750</th>\n",
              "      <td>SALVANDO O AÇAÍ!!</td>\n",
              "      <td>GESTÃO DE RECURSOS HUMANOS</td>\n",
              "      <td>Complementar</td>\n",
              "      <td>Estratégia e Negociação</td>\n",
              "      <td>15.0</td>\n",
              "    </tr>\n",
              "    <tr>\n",
              "      <th>1949</th>\n",
              "      <td>SALVANDO O AÇAÍ!!</td>\n",
              "      <td>SISTEMAS DE INFORMAÇÃO</td>\n",
              "      <td>Complementar</td>\n",
              "      <td>Estratégia e Negociação</td>\n",
              "      <td>9.0</td>\n",
              "    </tr>\n",
              "  </tbody>\n",
              "</table>\n",
              "</div>"
            ],
            "text/plain": [
              "              nome_blox  ...   nota\n",
              "663   SALVANDO O AÇAÍ!!  ...  200.0\n",
              "914   SALVANDO O AÇAÍ!!  ...  121.0\n",
              "1186  SALVANDO O AÇAÍ!!  ...   57.5\n",
              "1190  SALVANDO O AÇAÍ!!  ...   48.0\n",
              "1750  SALVANDO O AÇAÍ!!  ...   15.0\n",
              "1949  SALVANDO O AÇAÍ!!  ...    9.0\n",
              "\n",
              "[6 rows x 5 columns]"
            ]
          },
          "metadata": {
            "tags": []
          },
          "execution_count": 3
        }
      ]
    },
    {
      "cell_type": "markdown",
      "metadata": {
        "id": "xRFaYFfTzP5X",
        "colab_type": "text"
      },
      "source": [
        "## limpesa e dummify do df1\n",
        "### estamos trabalhando com 113 blox e 678 alunos"
      ]
    },
    {
      "cell_type": "code",
      "metadata": {
        "id": "KshjMYW1zP5i",
        "colab_type": "code",
        "colab": {}
      },
      "source": [
        "def dummify(data, column_name):\n",
        "    \"\"\"\n",
        "        Converte a coluna column_name em dummies / one-hot e as adiciona ao dataframe\n",
        "        retorna uma copia do  df original *sem* a coluna que foi dummified\n",
        "    \"\"\"\n",
        "    df = data.copy()\n",
        "    # Nota: se você for um econometrista, pode se interessar por usar a opção dropFirst = True na get_dummies\n",
        "    df2 = pd.concat([df.drop(column_name, axis=1), pd.get_dummies(data[column_name], prefix=None)], axis=1)\n",
        "    return df2\n",
        "\n",
        "def deletar(coluna):\n",
        "    lista = list (coluna.unique()) #.tolinst()  \n",
        "    for e in lista:\n",
        "        coluna = coluna.replace(e,lista.index(e))\n",
        "    return coluna"
      ],
      "execution_count": 0,
      "outputs": []
    },
    {
      "cell_type": "code",
      "metadata": {
        "id": "K-JyxjU3zP5f",
        "colab_type": "code",
        "colab": {}
      },
      "source": [
        "df1.head()\n",
        "dfx = df1\n",
        "dfx = dfx.set_index('nome_do_aluno')\n",
        "dfx = dfx.sort_values(\"nome_do_aluno\")\n",
        "entao = dfx['nome_blox']"
      ],
      "execution_count": 0,
      "outputs": []
    },
    {
      "cell_type": "code",
      "metadata": {
        "id": "t81A1L2dzP5l",
        "colab_type": "code",
        "colab": {}
      },
      "source": [
        "df1 = dummify(df1, ['nome_blox'])\n",
        "lista = df1.columns.tolist()[5:]"
      ],
      "execution_count": 0,
      "outputs": []
    },
    {
      "cell_type": "code",
      "metadata": {
        "id": "MxJZP0GQzP5p",
        "colab_type": "code",
        "colab": {}
      },
      "source": [
        "aggregation_functions = {}\n",
        "aggregation_functions['course_name'] = 'first'\n",
        "for e in lista:\n",
        "    aggregation_functions[e] = 'sum'\n",
        "df1 = df1.groupby(df1['nome_do_aluno']).aggregate(aggregation_functions)"
      ],
      "execution_count": 0,
      "outputs": []
    },
    {
      "cell_type": "code",
      "metadata": {
        "id": "vFNe_3yDzP5u",
        "colab_type": "code",
        "colab": {}
      },
      "source": [
        "lista = [\"course_name\"]\n",
        "for e in df1.columns[1:]:\n",
        "    lista.append(e[10:])\n",
        "df1.columns = lista"
      ],
      "execution_count": 0,
      "outputs": []
    },
    {
      "cell_type": "markdown",
      "metadata": {
        "id": "dN7q-stEzP5x",
        "colab_type": "text"
      },
      "source": [
        "## Limpesa e tratamento do df2"
      ]
    },
    {
      "cell_type": "code",
      "metadata": {
        "id": "wrywuKyzzP5y",
        "colab_type": "code",
        "colab": {}
      },
      "source": [
        ""
      ],
      "execution_count": 0,
      "outputs": []
    },
    {
      "cell_type": "markdown",
      "metadata": {
        "id": "5pfMsq8LzP52",
        "colab_type": "text"
      },
      "source": [
        "## Primeira tentativa de unspervised learning do df1"
      ]
    },
    {
      "cell_type": "code",
      "metadata": {
        "id": "itRIoIjXzP53",
        "colab_type": "code",
        "colab": {}
      },
      "source": [
        "df_t = pd.DataFrame()\n",
        "for e in df1.columns[1:]:\n",
        "    lista = list (df2.loc[df2['nome_blox'] == e ][\"area_funcional\"])\n",
        "    df_t[e] = df1[e].replace(1, lista[0] )#.replace(0,np.nan)"
      ],
      "execution_count": 0,
      "outputs": []
    },
    {
      "cell_type": "code",
      "metadata": {
        "id": "cCGnp2K7zP6A",
        "colab_type": "code",
        "colab": {}
      },
      "source": [
        "df3 = df1\n",
        "df3 = df3.drop(list(df1.columns),axis=1)\n",
        "lista = []\n",
        "for e in df_t.values.tolist():\n",
        "    lista.append(list(filter(lambda a: a != 0, e)))\n",
        "df3['lista'] = lista"
      ],
      "execution_count": 0,
      "outputs": []
    },
    {
      "cell_type": "code",
      "metadata": {
        "id": "0Awx0oFCzP6J",
        "colab_type": "code",
        "colab": {}
      },
      "source": [
        "lll = []\n",
        "for i in df3['lista']:\n",
        "    k = i[0]\n",
        "    lista = []\n",
        "    for e in df2[\"area_funcional\"].unique():\n",
        "        lista.append(e.count(k))\n",
        "    lll.append(lista)\n",
        "df4 = pd.DataFrame.from_records(lll,columns = df2[\"area_funcional\"].unique())"
      ],
      "execution_count": 0,
      "outputs": []
    },
    {
      "cell_type": "code",
      "metadata": {
        "id": "sBNJ1uv3zP6P",
        "colab_type": "code",
        "colab": {}
      },
      "source": [
        "df4['corse_name'] = df1['course_name'].tolist()\n",
        "df4['corse_name'] = df4[\"corse_name\"].astype('category')\n",
        "lista=[]\n",
        "for e in dfx.index.unique():\n",
        "    lista.append(dfx.loc[dfx.index == e][\"nome_blox\"].tolist())\n",
        "df4[\"resp\"] = lista"
      ],
      "execution_count": 0,
      "outputs": []
    },
    {
      "cell_type": "code",
      "metadata": {
        "id": "cnX4K-OUzP6T",
        "colab_type": "code",
        "outputId": "8923457c-64c9-4bf2-8def-4d5c9bbbb44a",
        "colab": {
          "base_uri": "https://localhost:8080/",
          "height": 87
        }
      },
      "source": [
        "df4.index = df3.index\n",
        "# dfx = dfx.set_index('nome_do_aluno')\n",
        "dfx = dfx.drop([\"nome_blox\",\"course_name\",\"modalidade\",\"ch\",\"nota\"],axis = 1)\n",
        "dfx.cloumns = df4.columns\n",
        "dfx.shape"
      ],
      "execution_count": 13,
      "outputs": [
        {
          "output_type": "stream",
          "text": [
            "/usr/local/lib/python3.6/dist-packages/ipykernel_launcher.py:4: UserWarning: Pandas doesn't allow columns to be created via a new attribute name - see https://pandas.pydata.org/pandas-docs/stable/indexing.html#attribute-access\n",
            "  after removing the cwd from sys.path.\n"
          ],
          "name": "stderr"
        },
        {
          "output_type": "execute_result",
          "data": {
            "text/plain": [
              "(33300, 0)"
            ]
          },
          "metadata": {
            "tags": []
          },
          "execution_count": 13
        }
      ]
    },
    {
      "cell_type": "code",
      "metadata": {
        "id": "xBPaePaJzP6W",
        "colab_type": "code",
        "colab": {}
      },
      "source": [
        "dfx = dfx.merge(df4, left_on= 'nome_do_aluno', right_on= 'nome_do_aluno')"
      ],
      "execution_count": 0,
      "outputs": []
    },
    {
      "cell_type": "code",
      "metadata": {
        "id": "Z6lJJPeBzP6f",
        "colab_type": "code",
        "outputId": "1734d129-6d29-43a5-af35-ba629f1cada1",
        "colab": {
          "base_uri": "https://localhost:8080/",
          "height": 34
        }
      },
      "source": [
        "dfx = dummify(dfx, 'corse_name')\n",
        "dfx['resp']= entao.astype('category')\n",
        "dfx.shape"
      ],
      "execution_count": 15,
      "outputs": [
        {
          "output_type": "execute_result",
          "data": {
            "text/plain": [
              "(33300, 34)"
            ]
          },
          "metadata": {
            "tags": []
          },
          "execution_count": 15
        }
      ]
    },
    {
      "cell_type": "code",
      "metadata": {
        "id": "81RIbbFEzP6j",
        "colab_type": "code",
        "colab": {}
      },
      "source": [
        "X_train, X_test, y_train, y_test = train_test_split(dfx ,dfx[\"resp\"], test_size=0.7,random_state=12)\n",
        "lis = y_train.unique()\n",
        "X_train = X_train.drop([\"resp\"],axis =1)\n",
        "X_test = X_test.drop([\"resp\"],axis =1)"
      ],
      "execution_count": 0,
      "outputs": []
    },
    {
      "cell_type": "code",
      "metadata": {
        "id": "jXmAiqwMondd",
        "colab_type": "code",
        "colab": {
          "base_uri": "https://localhost:8080/",
          "height": 34
        },
        "outputId": "fe788c8f-bcf5-491e-a87c-5e11eb36c375"
      },
      "source": [
        "rdm = rdm =  OneVsRestClassifier(SVC(kernel='linear'))\n",
        "rdm = rdm.fit(X_train,y_train)\n",
        "j = rdm.decision_function(X_test)\n",
        "dump(j, 'teste.joblib')"
      ],
      "execution_count": 17,
      "outputs": [
        {
          "output_type": "execute_result",
          "data": {
            "text/plain": [
              "['teste.joblib']"
            ]
          },
          "metadata": {
            "tags": []
          },
          "execution_count": 17
        }
      ]
    },
    {
      "cell_type": "code",
      "metadata": {
        "id": "1uzagytIzP6z",
        "colab_type": "code",
        "colab": {}
      },
      "source": [
        "def sugestao(j, X):\n",
        "    lista = list (X.index)\n",
        "    sugestoes = []\n",
        "    for e, t in zip (j, range(len (j)-1)):\n",
        "        sugestoes.append( list(set(list([lis[n] for n in heapq.nlargest(5, range(len(e)), e.take)])) - set(list(df5.loc[df5['nome_do_aluno'] == lista[t]][\"nome_blox\"]))))\n",
        "    return sugestoes"
      ],
      "execution_count": 0,
      "outputs": []
    },
    {
      "cell_type": "code",
      "metadata": {
        "id": "Qlduc2hs6a2s",
        "colab_type": "code",
        "colab": {}
      },
      "source": [
        "svc =load('teste.joblib') \n",
        "# X_train, X_test, y_train, y_test = train_test_split(dfx ,dfx[\"resp\"], test_size=0.3,random_state=12)\n",
        "# X_test = X_test.drop([\"resp\"],axis =1)"
      ],
      "execution_count": 0,
      "outputs": []
    },
    {
      "cell_type": "code",
      "metadata": {
        "id": "cald4oyOimYr",
        "colab_type": "code",
        "colab": {}
      },
      "source": [
        "deu = sugestao(svc,X_test)"
      ],
      "execution_count": 0,
      "outputs": []
    },
    {
      "cell_type": "code",
      "metadata": {
        "id": "fCSmPPq-90TR",
        "colab_type": "code",
        "colab": {
          "base_uri": "https://localhost:8080/",
          "height": 188
        },
        "outputId": "ab13e396-ecbf-4d51-8384-cb5693a5409d"
      },
      "source": [
        "lista = list (X_test.index)\n",
        "x =  random.randint(0,len(lista))\n",
        "print(x)\n",
        "print (list(df5.loc[df5['nome_do_aluno'] == lista[x]][\"nome_blox\"]))\n",
        "print (\"\\n\")\n",
        "for e in deu[x]:\n",
        "  print (e)"
      ],
      "execution_count": 21,
      "outputs": [
        {
          "output_type": "stream",
          "text": [
            "5682\n",
            "['ESTÁGIO SUPERVISIONADO', 'PESQUISA OPERACIONAL', 'GERENCIAMENTO DE PROJETOS', 'ÉTICA PROFISSIONAL', 'MERCADO E FINANÇAS INTERNACIONAIS', 'ESTRATÉGIAS DE COMUNICAÇÃO E PREÇOS', 'GESTÃO PÚBLICA', 'GESTÃO DA QUALIDADE', 'GOVERNANÇA CORPORATIVA', 'CONTABILIDADE GERENCIAL E CUSTOS', 'PESQUISA DE MERCADO E DESENVOLVIMENTO DE NOVOS PRODUTOS', 'COMPORTAMENTO DO CONSUMIDOR', 'JOGOS EMPRESARIAIS', 'GESTÃO DE COMPETÊNCIAS', 'ESTRATÉGIAS EM GESTÃO DE PESSOAS', 'RESPONSABILIDADE SOCIAL E AMBIENTAL']\n",
            "\n",
            "\n",
            "Computação Gráfica e mais Além\n",
            "MANAGEMENT DE MATERIAIS\n",
            "ALGORITMOS E ESTRUTURA DE DADOS I\n",
            "INGLÊS INSTRUMENTAL\n",
            "Redes de Computadores: Servidores e Segurança\n"
          ],
          "name": "stdout"
        }
      ]
    },
    {
      "cell_type": "code",
      "metadata": {
        "id": "0M6e-kNQALgj",
        "colab_type": "code",
        "colab": {}
      },
      "source": [
        "# globals()"
      ],
      "execution_count": 0,
      "outputs": []
    },
    {
      "cell_type": "code",
      "metadata": {
        "id": "iDnec_5goMPl",
        "colab_type": "code",
        "colab": {}
      },
      "source": [
        ""
      ],
      "execution_count": 0,
      "outputs": []
    }
  ]
}