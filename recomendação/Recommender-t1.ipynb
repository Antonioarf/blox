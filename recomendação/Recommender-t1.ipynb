{
  "nbformat": 4,
  "nbformat_minor": 0,
  "metadata": {
    "kernelspec": {
      "display_name": "Python 3",
      "language": "python",
      "name": "python3"
    },
    "language_info": {
      "codemirror_mode": {
        "name": "ipython",
        "version": 3
      },
      "file_extension": ".py",
      "mimetype": "text/x-python",
      "name": "python",
      "nbconvert_exporter": "python",
      "pygments_lexer": "ipython3",
      "version": "3.7.4"
    },
    "colab": {
      "name": "Recommender-t1.ipynb",
      "provenance": [],
      "include_colab_link": true
    }
  },
  "cells": [
    {
      "cell_type": "markdown",
      "metadata": {
        "id": "view-in-github",
        "colab_type": "text"
      },
      "source": [
        "<a href=\"https://colab.research.google.com/github/Antonioarf/blox/blob/master/recomenda%C3%A7%C3%A3o/Recommender-t1.ipynb\" target=\"_parent\"><img src=\"https://colab.research.google.com/assets/colab-badge.svg\" alt=\"Open In Colab\"/></a>"
      ]
    },
    {
      "cell_type": "markdown",
      "metadata": {
        "id": "dbDoKLROzP5L",
        "colab_type": "text"
      },
      "source": [
        "# FECAF 1"
      ]
    },
    {
      "cell_type": "code",
      "metadata": {
        "id": "XLNKsJxhzP5O",
        "colab_type": "code",
        "colab": {}
      },
      "source": [
        "import heapq\n",
        "import pandas as pd;\n",
        "import numpy as np\n",
        "from sklearn.pipeline import Pipeline\n",
        "from sklearn.metrics import accuracy_score\n",
        "from sklearn.model_selection import train_test_split\n",
        "from sklearn.feature_extraction.text import TfidfTransformer\n",
        "from sklearn.feature_extraction.text import CountVectorizer\n",
        "from sklearn.feature_extraction.text import TfidfVectorizer\n",
        "from sklearn.svm import SVC\n",
        "from sklearn.metrics import classification_report"
      ],
      "execution_count": 0,
      "outputs": []
    },
    {
      "cell_type": "code",
      "metadata": {
        "id": "q11md6KhzP5T",
        "colab_type": "code",
        "colab": {}
      },
      "source": [
        "df1 = pd.read_csv(\"https://raw.githubusercontent.com/Antonioarf/blox/master/recomenda%C3%A7%C3%A3o/Relat%C3%B3rio%20sem%20t%C3%ADtulo_P%C3%A1gina%201_Tabela.csv\")\n",
        "df2 = pd.read_csv(\"https://raw.githubusercontent.com/Antonioarf/blox/master/recomenda%C3%A7%C3%A3o/Relat%C3%B3rio%20sem%20t%C3%ADtulo_Tabela.csv\") \n",
        "# df1.head(3)\n",
        "# df2.head(3)\n",
        "# df_t.head(3)\n",
        "# df3.head(3)\n",
        "# df4.head(3)\n",
        "# dfx.head(3)"
      ],
      "execution_count": 0,
      "outputs": []
    },
    {
      "cell_type": "markdown",
      "metadata": {
        "id": "xRFaYFfTzP5X",
        "colab_type": "text"
      },
      "source": [
        "## limpesa e dummify do df1\n",
        "### estamos trabalhando com 113 blox e 678 alunos"
      ]
    },
    {
      "cell_type": "code",
      "metadata": {
        "id": "K-JyxjU3zP5f",
        "colab_type": "code",
        "colab": {}
      },
      "source": [
        "df1.head()\n",
        "dfx = df1\n",
        "dfx = dfx.set_index('nome_do_aluno')\n",
        "dfx = dfx.sort_values(\"nome_do_aluno\")\n",
        "entao = dfx['nome_blox']"
      ],
      "execution_count": 0,
      "outputs": []
    },
    {
      "cell_type": "code",
      "metadata": {
        "id": "KshjMYW1zP5i",
        "colab_type": "code",
        "colab": {}
      },
      "source": [
        "def dummify(data, column_name):\n",
        "    \"\"\"\n",
        "        Converte a coluna column_name em dummies / one-hot e as adiciona ao dataframe\n",
        "        retorna uma copia do  df original *sem* a coluna que foi dummified\n",
        "    \"\"\"\n",
        "    df = data.copy()\n",
        "    # Nota: se você for um econometrista, pode se interessar por usar a opção dropFirst = True na get_dummies\n",
        "    df2 = pd.concat([df.drop(column_name, axis=1), pd.get_dummies(data[column_name], prefix=None)], axis=1)\n",
        "    return df2\n",
        "\n",
        "def deletar(coluna):\n",
        "    lista = list (coluna.unique()) #.tolinst()  \n",
        "    for e in lista:\n",
        "        coluna = coluna.replace(e,lista.index(e))\n",
        "    return coluna"
      ],
      "execution_count": 0,
      "outputs": []
    },
    {
      "cell_type": "code",
      "metadata": {
        "id": "t81A1L2dzP5l",
        "colab_type": "code",
        "colab": {}
      },
      "source": [
        "df1 = dummify(df1, ['nome_blox'])\n",
        "lista = df1.columns.tolist()[5:]"
      ],
      "execution_count": 0,
      "outputs": []
    },
    {
      "cell_type": "code",
      "metadata": {
        "id": "MxJZP0GQzP5p",
        "colab_type": "code",
        "colab": {}
      },
      "source": [
        "aggregation_functions = {}\n",
        "aggregation_functions['course_name'] = 'first'\n",
        "for e in lista:\n",
        "    aggregation_functions[e] = 'sum'\n",
        "df1 = df1.groupby(df1['nome_do_aluno']).aggregate(aggregation_functions)"
      ],
      "execution_count": 0,
      "outputs": []
    },
    {
      "cell_type": "code",
      "metadata": {
        "id": "vFNe_3yDzP5u",
        "colab_type": "code",
        "colab": {}
      },
      "source": [
        "lista = [\"course_name\"]\n",
        "for e in df1.columns[1:]:\n",
        "    lista.append(e[10:])\n",
        "df1.columns = lista"
      ],
      "execution_count": 0,
      "outputs": []
    },
    {
      "cell_type": "markdown",
      "metadata": {
        "id": "dN7q-stEzP5x",
        "colab_type": "text"
      },
      "source": [
        "## Limpesa e tratamento do df2"
      ]
    },
    {
      "cell_type": "code",
      "metadata": {
        "id": "wrywuKyzzP5y",
        "colab_type": "code",
        "colab": {}
      },
      "source": [
        ""
      ],
      "execution_count": 0,
      "outputs": []
    },
    {
      "cell_type": "markdown",
      "metadata": {
        "id": "5pfMsq8LzP52",
        "colab_type": "text"
      },
      "source": [
        "## Primeira tentativa de unspervised learning do df1"
      ]
    },
    {
      "cell_type": "code",
      "metadata": {
        "id": "itRIoIjXzP53",
        "colab_type": "code",
        "colab": {}
      },
      "source": [
        "df_t = pd.DataFrame()\n",
        "for e in df1.columns[1:]:\n",
        "    lista = list (df2.loc[df2['nome_blox'] == e ][\"area_funcional\"])\n",
        "    df_t[e] = df1[e].replace(1, lista[0] )#.replace(0,np.nan)"
      ],
      "execution_count": 0,
      "outputs": []
    },
    {
      "cell_type": "code",
      "metadata": {
        "id": "cCGnp2K7zP6A",
        "colab_type": "code",
        "colab": {}
      },
      "source": [
        "df3 = df1\n",
        "df3 = df3.drop(list(df1.columns),axis=1)\n",
        "lista = []\n",
        "for e in df_t.values.tolist():\n",
        "    lista.append(list(filter(lambda a: a != 0, e)))\n",
        "df3['lista'] = lista"
      ],
      "execution_count": 0,
      "outputs": []
    },
    {
      "cell_type": "code",
      "metadata": {
        "id": "0Awx0oFCzP6J",
        "colab_type": "code",
        "colab": {}
      },
      "source": [
        "lll = []\n",
        "for i in df3['lista']:\n",
        "    k = i[0]\n",
        "    lista = []\n",
        "    for e in df2[\"area_funcional\"].unique():\n",
        "        lista.append(e.count(k))\n",
        "    lll.append(lista)\n",
        "df4 = pd.DataFrame.from_records(lll,columns = df2[\"area_funcional\"].unique())"
      ],
      "execution_count": 0,
      "outputs": []
    },
    {
      "cell_type": "code",
      "metadata": {
        "id": "sBNJ1uv3zP6P",
        "colab_type": "code",
        "colab": {}
      },
      "source": [
        "df4['corse_name'] = df1['course_name'].tolist()\n",
        "df4['corse_name'] = df4[\"corse_name\"].astype('category')\n",
        "lista=[]\n",
        "for e in dfx.index.unique():\n",
        "    lista.append(dfx.loc[dfx.index == e][\"nome_blox\"].tolist())\n",
        "df4[\"resp\"] = lista"
      ],
      "execution_count": 0,
      "outputs": []
    },
    {
      "cell_type": "code",
      "metadata": {
        "id": "cnX4K-OUzP6T",
        "colab_type": "code",
        "colab": {
          "base_uri": "https://localhost:8080/",
          "height": 87
        },
        "outputId": "79536c91-ad06-40da-c6ca-cc935c388bff"
      },
      "source": [
        "df4.index = df3.index\n",
        "# dfx = dfx.set_index('nome_do_aluno')\n",
        "dfx = dfx.drop([\"nome_blox\",\"course_name\",\"modalidade\",\"ch\",\"nota\"],axis = 1)\n",
        "dfx.cloumns = df4.columns\n",
        "dfx.shape"
      ],
      "execution_count": 13,
      "outputs": [
        {
          "output_type": "stream",
          "text": [
            "/usr/local/lib/python3.6/dist-packages/ipykernel_launcher.py:4: UserWarning: Pandas doesn't allow columns to be created via a new attribute name - see https://pandas.pydata.org/pandas-docs/stable/indexing.html#attribute-access\n",
            "  after removing the cwd from sys.path.\n"
          ],
          "name": "stderr"
        },
        {
          "output_type": "execute_result",
          "data": {
            "text/plain": [
              "(5827, 0)"
            ]
          },
          "metadata": {
            "tags": []
          },
          "execution_count": 13
        }
      ]
    },
    {
      "cell_type": "code",
      "metadata": {
        "id": "xBPaePaJzP6W",
        "colab_type": "code",
        "colab": {}
      },
      "source": [
        "dfx = dfx.merge(df4, left_on= 'nome_do_aluno', right_on= 'nome_do_aluno')"
      ],
      "execution_count": 0,
      "outputs": []
    },
    {
      "cell_type": "code",
      "metadata": {
        "id": "Z6lJJPeBzP6f",
        "colab_type": "code",
        "colab": {}
      },
      "source": [
        "dfx = dummify(dfx, 'corse_name')\n",
        "dfx['resp']= entao.astype('category')"
      ],
      "execution_count": 0,
      "outputs": []
    },
    {
      "cell_type": "code",
      "metadata": {
        "id": "81RIbbFEzP6j",
        "colab_type": "code",
        "colab": {}
      },
      "source": [
        "X_train, X_test, y_train, y_test = train_test_split((dfx.drop([\"resp\"],axis =1)) ,dfx[\"resp\"], test_size=0.05,random_state=100)"
      ],
      "execution_count": 0,
      "outputs": []
    },
    {
      "cell_type": "code",
      "metadata": {
        "id": "1uzagytIzP6z",
        "colab_type": "code",
        "colab": {}
      },
      "source": [
        "lis = y_train.unique()\n",
        "def sugestao(X_train,y_train,X_test):\n",
        "    rdm = SVC(kernel='linear', random_state=112)\n",
        "    rdm = rdm.fit(X_train,y_train)\n",
        "    y_pred = rdm.predict(X_test)\n",
        "    j = list (rdm.decision_function(X_test))\n",
        "    sugestoes = []\n",
        "    t = 0\n",
        "    for e in j:\n",
        "        sugestao = []\n",
        "        while len(sugestao)< 3:\n",
        "            x = 3\n",
        "            maiores_index = heapq.nlargest(x, range(len(e)), e.take)\n",
        "            listinha = []\n",
        "            for m in maiores_index:\n",
        "                e = list(e)\n",
        "                listinha.append(lis[m])\n",
        "                sugestao.append(list(set(listinha) - set(df3[\"lista\"][t])))\n",
        "                \n",
        "            x+=1\n",
        "        sugestoes.append(sugestao[-1])\n",
        "        t+=1\n",
        "    return sugestoes\n",
        "\n",
        "deu = sugestao(X_train,y_train,X_test)"
      ],
      "execution_count": 0,
      "outputs": []
    }
  ]
}